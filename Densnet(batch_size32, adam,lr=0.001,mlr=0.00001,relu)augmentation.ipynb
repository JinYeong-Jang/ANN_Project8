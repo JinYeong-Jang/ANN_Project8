{
 "cells": [
  {
   "cell_type": "markdown",
   "id": "80632cca",
   "metadata": {
    "id": "o0TqkLkqHpXU"
   },
   "source": [
    "### `Basic setting`"
   ]
  },
  {
   "cell_type": "code",
   "id": "ae003839",
   "metadata": {
    "ExecuteTime": {
     "end_time": "2024-06-05T11:30:15.119656Z",
     "start_time": "2024-06-05T11:30:13.299649Z"
    }
   },
   "source": [
    "import sys\n",
    "\n",
    "assert sys.version_info >= (3, 7)\n",
    "\n",
    "from packaging import version\n",
    "import sklearn\n",
    "print(\"sklearn version: \", sklearn.__version__)\n",
    "assert version.parse(sklearn.__version__) >= version.parse(\"1.0.1\")\n",
    "\n",
    "import tensorflow as tf\n",
    "print(\"TF version: \", tf.__version__)\n",
    "assert version.parse(tf.__version__) >= version.parse(\"2.8.0\")\n",
    "\n",
    "import matplotlib.pyplot as plt\n",
    "\n",
    "# Is this notebook running on Colab or Kaggle?\n",
    "IS_COLAB = \"google.colab\" in sys.modules\n",
    "IS_KAGGLE = \"kaggle_secrets\" in sys.modules\n",
    "\n",
    "if not tf.config.list_physical_devices('GPU'):\n",
    "    print(\"No GPU was detected. Neural nets can be very slow without a GPU.\")\n",
    "    if IS_COLAB:\n",
    "        print(\"Go to Runtime > Change runtime and select a GPU hardware \"\n",
    "              \"accelerator.\")\n",
    "    if IS_KAGGLE:\n",
    "        print(\"Go to Settings > Accelerator and select GPU.\")\n",
    "\n",
    "\n",
    "# To prevent \"CUDNN_STATUS_ALLOC_FAILED\" error with GPUs\n",
    "gpus = tf.config.list_physical_devices('GPU')\n",
    "if gpus:\n",
    "  try:\n",
    "    # Currently, memory growth needs to be the same across GPUs\n",
    "    for gpu in gpus:\n",
    "      tf.config.experimental.set_memory_growth(gpu, True)\n",
    "    logical_gpus = tf.config.list_logical_devices('GPU')\n",
    "    print(len(gpus), \"Physical GPUs,\", len(logical_gpus), \"Logical GPUs\")\n",
    "  except RuntimeError as e:\n",
    "    # Memory growth must be set before GPUs have been initialized\n",
    "    print(e)"
   ],
   "outputs": [
    {
     "name": "stdout",
     "output_type": "stream",
     "text": [
      "sklearn version:  1.0.2\n",
      "TF version:  2.8.0\n",
      "1 Physical GPUs, 1 Logical GPUs\n"
     ]
    }
   ],
   "execution_count": 1
  },
  {
   "cell_type": "code",
   "id": "ebe4b6f1",
   "metadata": {
    "ExecuteTime": {
     "end_time": "2024-06-05T11:30:15.150903Z",
     "start_time": "2024-06-05T11:30:15.119656Z"
    }
   },
   "source": [
    "import os\n",
    "import time\n",
    "import numpy as np\n",
    "import pandas as pd\n",
    "import seaborn as sns\n",
    "import tensorflow as tf\n",
    "import matplotlib.pyplot as plt\n",
    "from pathlib import Path\n",
    "from sklearn.model_selection import train_test_split\n",
    "from tensorflow.keras.layers import Conv2D, AveragePooling2D, Flatten, Dense, Dropout, BatchNormalization, LeakyReLU, ReLU, ELU\n",
    "from tensorflow.keras.callbacks import EarlyStopping, ReduceLROnPlateau, ModelCheckpoint\n",
    "from tensorflow.keras.optimizers import Adam\n",
    "from tensorflow.keras.optimizers import SGD\n",
    "np.random.seed(42)\n"
   ],
   "outputs": [],
   "execution_count": 2
  },
  {
   "cell_type": "code",
   "id": "65e65b99",
   "metadata": {
    "scrolled": true,
    "ExecuteTime": {
     "end_time": "2024-06-05T11:30:15.166527Z",
     "start_time": "2024-06-05T11:30:15.150903Z"
    }
   },
   "source": [
    "# check GPU\n",
    "from tensorflow.python.client import device_lib\n",
    "device_lib.list_local_devices()"
   ],
   "outputs": [
    {
     "data": {
      "text/plain": [
       "[name: \"/device:CPU:0\"\n",
       " device_type: \"CPU\"\n",
       " memory_limit: 268435456\n",
       " locality {\n",
       " }\n",
       " incarnation: 6849914737844946722\n",
       " xla_global_id: -1,\n",
       " name: \"/device:GPU:0\"\n",
       " device_type: \"GPU\"\n",
       " memory_limit: 3845599232\n",
       " locality {\n",
       "   bus_id: 1\n",
       "   links {\n",
       "   }\n",
       " }\n",
       " incarnation: 3115623067098581957\n",
       " physical_device_desc: \"device: 0, name: NVIDIA GeForce RTX 3080 Ti, pci bus id: 0000:01:00.0, compute capability: 8.6\"\n",
       " xla_global_id: 416903419]"
      ]
     },
     "execution_count": 3,
     "metadata": {},
     "output_type": "execute_result"
    }
   ],
   "execution_count": 3
  },
  {
   "cell_type": "markdown",
   "id": "4496db74",
   "metadata": {
    "id": "bkxLQcpqG0PR"
   },
   "source": [
    "### `Load dataset (by_merge)`"
   ]
  },
  {
   "cell_type": "code",
   "id": "17f47f2c",
   "metadata": {
    "ExecuteTime": {
     "end_time": "2024-06-05T11:30:15.572268Z",
     "start_time": "2024-06-05T11:30:15.541858Z"
    }
   },
   "source": [
    "# Hyper parameter setting\n",
    "BATCH_SIZE = 32\n",
    "EPOCHS = 100\n",
    "VALIDATION_SPLIT = 0.15\n",
    "LEARNING_RATE = 0.0001\n",
    "PATIENCE = 10\n",
    "MIN_LEARNING_RATE = 0.00001\n",
    "DECAY_FACTOR = 0.2\n",
    "DENSE_LAYER_ACTIVATION = 'relu'\n",
    "FINAL_LAYER_ACTIVATION = 'softmax'\n",
    "LOSS_FUNCTION = 'categorical_crossentropy'\n",
    "METRICS = ['accuracy']\n",
    "optimizer = Adam(learning_rate=LEARNING_RATE)\n",
    "\n",
    "CHECK_POINT_BALANCE = 'Best_points_densenet.h'"
   ],
   "outputs": [],
   "execution_count": 4
  },
  {
   "cell_type": "markdown",
   "id": "9daac484",
   "metadata": {
    "id": "bkxLQcpqG0PR"
   },
   "source": [
    "### `Load dataset (by_balanced)`"
   ]
  },
  {
   "cell_type": "code",
   "id": "2bc7f70a",
   "metadata": {
    "ExecuteTime": {
     "end_time": "2024-06-05T11:30:20.249657Z",
     "start_time": "2024-06-05T11:30:16.034654Z"
    }
   },
   "source": [
    "# 데이터 불러오기\n",
    "testing_set_balance = pd.read_csv('emnist-balanced-test.csv')\n",
    "training_set_balance = pd.read_csv('emnist-balanced-train.csv')\n",
    "\n",
    "\n",
    "# 훈련 데이터와 레이블 추출\n",
    "train_y_balance = np.array(training_set_balance.iloc[:, 0].values)\n",
    "train_x_balance = np.array(training_set_balance.iloc[:, 1:].values)\n",
    "\n",
    "# 테스트 데이터와 레이블 추출\n",
    "test_y_balance = np.array(testing_set_balance.iloc[:, 0].values)\n",
    "test_x_balance = np.array(testing_set_balance.iloc[:, 1:].values)\n",
    "\n",
    "# 데이터 정규화\n",
    "train_x_balance = train_x_balance / 255.0\n",
    "test_x_balance = test_x_balance / 255.0\n",
    "\n",
    "# 이미지 크기 재조정 (데이터 차원 변경)\n",
    "images_height = 28\n",
    "images_width = 28\n",
    "train_x_balance = train_x_balance.reshape(train_x_balance.shape[0], images_height, images_width, 1)\n",
    "test_x_balance = test_x_balance.reshape(test_x_balance.shape[0], images_height, images_width, 1)\n",
    "\n",
    "# 클래스 수 = 47\n",
    "number_of_classes = 47\n",
    "\n",
    "# 레이블 원-핫 인코딩\n",
    "train_y_balance = tf.keras.utils.to_categorical(train_y_balance, number_of_classes)\n",
    "test_y_balance = tf.keras.utils.to_categorical(test_y_balance, number_of_classes)\n",
    "\n",
    "#VALIDATION_SPLIT = 0.15\n",
    "train_x_balance, val_x_balance, train_y_balance, val_y_balance = train_test_split(train_x_balance, train_y_balance, \n",
    "                                                                              test_size=VALIDATION_SPLIT, random_state=42)"
   ],
   "outputs": [],
   "execution_count": 5
  },
  {
   "cell_type": "code",
   "id": "5610cede",
   "metadata": {
    "ExecuteTime": {
     "end_time": "2024-06-05T11:30:20.265242Z",
     "start_time": "2024-06-05T11:30:20.249657Z"
    }
   },
   "source": [
    "from tensorflow.keras.callbacks import EarlyStopping, ReduceLROnPlateau,ModelCheckpoint\n",
    "from sklearn.model_selection import train_test_split\n",
    "from tensorflow.keras.applications import ResNet50\n",
    "from tensorflow.keras.layers import Conv2D, Input,MaxPooling2D, Dense, Flatten ,Activation ,  BatchNormalization , Dropout ,AveragePooling2D\n",
    "from tensorflow.keras.models import Model\n",
    "from functools import partial\n"
   ],
   "outputs": [],
   "execution_count": 6
  },
  {
   "metadata": {
    "ExecuteTime": {
     "end_time": "2024-06-05T11:30:20.280865Z",
     "start_time": "2024-06-05T11:30:20.265242Z"
    }
   },
   "cell_type": "code",
   "source": [
    "img_generator = tf.keras.preprocessing.image.ImageDataGenerator(\n",
    "    rotation_range=20,\n",
    "    width_shift_range=0.2,\n",
    "    height_shift_range=0.2,\n",
    ")\n",
    "\n",
    "img_generator2 = tf.keras.preprocessing.image.ImageDataGenerator(\n",
    "    rotation_range=30,\n",
    "    width_shift_range=0.1,\n",
    "    height_shift_range=0.1,\n",
    ")\n",
    "\n",
    "img_generator3 = tf.keras.preprocessing.image.ImageDataGenerator(\n",
    "    rotation_range=45,\n",
    "    width_shift_range=0.05,\n",
    "    height_shift_range=0.05,\n",
    ")"
   ],
   "id": "3fa0dbd7c28689c",
   "outputs": [],
   "execution_count": 7
  },
  {
   "metadata": {
    "ExecuteTime": {
     "end_time": "2024-06-05T11:30:42.763316Z",
     "start_time": "2024-06-05T11:30:20.280865Z"
    }
   },
   "cell_type": "code",
   "source": [
    "aug1_train_data = img_generator.flow(train_x_balance,train_y_balance, batch_size=len(train_x_balance))\n",
    "aug2_train_data = img_generator2.flow(train_x_balance,train_y_balance, batch_size=len(train_x_balance))\n",
    "aug3_train_data = img_generator3.flow(train_x_balance,train_y_balance, batch_size=len(train_x_balance))\n",
    "\n",
    "aug1_x,aug1_y = aug1_train_data.next()\n",
    "aug2_x,aug2_y = aug2_train_data.next()\n",
    "aug3_x,aug3_y = aug3_train_data.next()\n",
    "\n",
    "x_combined = np.concatenate((train_x_balance,aug1_x,aug2_x,aug3_x))\n",
    "y_combined = np.concatenate((train_y_balance,aug1_y,aug2_y,aug3_y))\n",
    "\n",
    "shuffle_index = np.random.permutation(len(x_combined))\n",
    "x_combined_shff = x_combined[shuffle_index]\n",
    "y_combined_shff = y_combined[shuffle_index]\n",
    "\n",
    "\n",
    "aug1_valid_data = img_generator.flow(val_x_balance,val_y_balance, batch_size=len(val_x_balance))\n",
    "aug2_valid_data = img_generator2.flow(val_x_balance,val_y_balance, batch_size=len(val_x_balance))\n",
    "aug3_valid_data = img_generator3.flow(val_x_balance,val_y_balance, batch_size=len(val_x_balance))\n",
    "\n",
    "aug1_val_x,aug1_val_y = aug1_valid_data.next()\n",
    "aug2_val_x,aug2_val_y = aug2_valid_data.next()\n",
    "aug3_val_x,aug3_val_y = aug3_valid_data.next()\n",
    "\n",
    "x_val_combined = np.concatenate((val_x_balance,aug1_val_x,aug2_val_x,aug3_val_x))\n",
    "y_val_combined = np.concatenate((val_y_balance,aug1_val_y,aug2_val_y,aug3_val_y))\n",
    "\n",
    "shuffle_index2 = np.random.permutation(len(x_val_combined))\n",
    "x_combined_val_shff = x_val_combined[shuffle_index2]\n",
    "y_combined_val_shff = y_val_combined[shuffle_index2]\n"
   ],
   "id": "ec331f1a1c011897",
   "outputs": [],
   "execution_count": 8
  },
  {
   "cell_type": "markdown",
   "id": "2473c059",
   "metadata": {},
   "source": "#### Training PersonalModelwith bybalanced dataset"
  },
  {
   "metadata": {
    "ExecuteTime": {
     "end_time": "2024-06-05T11:30:42.937128Z",
     "start_time": "2024-06-05T11:30:42.763316Z"
    }
   },
   "cell_type": "code",
   "source": [
    "# Define Densenet\n",
    "model = tf.keras.Sequential([\n",
    "    Conv2D(16, kernel_size=(5, 5), activation=DENSE_LAYER_ACTIVATION, input_shape=(28, 28, 1), padding='same'),\n",
    "    AveragePooling2D(),\n",
    "    # Conv2D(16, kernel_size=(3, 3), activation=DENSE_LAYER_ACTIVATION, padding='same'),\n",
    "    # BatchNormalization(),\n",
    "    # AveragePooling2D(),\n",
    "    Conv2D(32, kernel_size=(5, 5), activation=DENSE_LAYER_ACTIVATION, padding='same'),\n",
    "    BatchNormalization(),\n",
    "    AveragePooling2D(),\n",
    "    Conv2D(64, kernel_size=(5, 5), activation=DENSE_LAYER_ACTIVATION, padding='same'),\n",
    "    BatchNormalization(),\n",
    "    AveragePooling2D(),\n",
    "    Conv2D(128, kernel_size=(5, 5), activation=DENSE_LAYER_ACTIVATION, padding='same'),\n",
    "    BatchNormalization(),\n",
    "    AveragePooling2D(pool_size=(1, 1)),\n",
    "    Flatten(),\n",
    "    Dense(128, activation=DENSE_LAYER_ACTIVATION),\n",
    "    Dropout(0.5),\n",
    "    Dense(number_of_classes, activation=FINAL_LAYER_ACTIVATION)\n",
    "])\n",
    "\n",
    "#model.summary()"
   ],
   "id": "fa5ba5a9d110466f",
   "outputs": [],
   "execution_count": 9
  },
  {
   "cell_type": "code",
   "id": "1d7bbfff",
   "metadata": {
    "ExecuteTime": {
     "end_time": "2024-06-05T11:30:42.952751Z",
     "start_time": "2024-06-05T11:30:42.937128Z"
    }
   },
   "source": [
    "# 모델 컴파일\n",
    "#LOSS_FUNCTION = 'categorical_crossentropy'\n",
    "#LEARNING_RATE = 0.001\n",
    "#METRICS = ['accuracy']\n",
    "\n",
    "model.compile(optimizer=optimizer,\n",
    "            loss=LOSS_FUNCTION,\n",
    "            metrics=METRICS)\n",
    "\n",
    "# 콜백 설정\n",
    "#DECAY_FACTOR = 0.2\n",
    "#PATIENCE = 3\n",
    "#MIN_LEARNING_RATE = 0.0001\n",
    "\n",
    "callbacks_balance = [\n",
    "    ModelCheckpoint(CHECK_POINT_BALANCE, verbose=1, save_best_only=True, monitor='val_accuracy', mode='max'),\n",
    "    EarlyStopping(monitor='val_accuracy', restore_best_weights=True, patience=PATIENCE, mode='max'),\n",
    "    ReduceLROnPlateau(monitor='val_loss', patience=2, factor=DECAY_FACTOR, min_lr=MIN_LEARNING_RATE)\n",
    "]\n"
   ],
   "outputs": [],
   "execution_count": 10
  },
  {
   "cell_type": "code",
   "id": "7124dfa4",
   "metadata": {
    "ExecuteTime": {
     "end_time": "2024-06-05T11:44:16.848616Z",
     "start_time": "2024-06-05T11:30:42.952751Z"
    }
   },
   "source": [
    "start_time = time.time()  # 학습 시작 시간\n",
    "\n",
    "# 모델 학습\n",
    "history_balance = model.fit(x_combined_shff, y_combined_shff, batch_size=BATCH_SIZE, epochs=EPOCHS, \n",
    "                                validation_data=(x_combined_val_shff, y_combined_val_shff), callbacks=callbacks_balance)\n",
    "\n",
    "training_time = time.time() - start_time"
   ],
   "outputs": [
    {
     "name": "stdout",
     "output_type": "stream",
     "text": [
      "Epoch 1/100\n",
      "11985/11985 [==============================] - ETA: 0s - loss: 1.0963 - accuracy: 0.6768\n",
      "Epoch 1: val_accuracy improved from -inf to 0.82627, saving model to Best_points_densenet.h\n",
      "INFO:tensorflow:Assets written to: Best_points_densenet.h\\assets\n",
      "11985/11985 [==============================] - 35s 3ms/step - loss: 1.0963 - accuracy: 0.6768 - val_loss: 0.5063 - val_accuracy: 0.8263 - lr: 1.0000e-04\n",
      "Epoch 2/100\n",
      "11963/11985 [============================>.] - ETA: 0s - loss: 0.5591 - accuracy: 0.8159\n",
      "Epoch 2: val_accuracy improved from 0.82627 to 0.85208, saving model to Best_points_densenet.h\n",
      "INFO:tensorflow:Assets written to: Best_points_densenet.h\\assets\n",
      "11985/11985 [==============================] - 29s 2ms/step - loss: 0.5590 - accuracy: 0.8159 - val_loss: 0.4106 - val_accuracy: 0.8521 - lr: 1.0000e-04\n",
      "Epoch 3/100\n",
      "11976/11985 [============================>.] - ETA: 0s - loss: 0.4653 - accuracy: 0.8422\n",
      "Epoch 3: val_accuracy improved from 0.85208 to 0.86225, saving model to Best_points_densenet.h\n",
      "INFO:tensorflow:Assets written to: Best_points_densenet.h\\assets\n",
      "11985/11985 [==============================] - 29s 2ms/step - loss: 0.4653 - accuracy: 0.8422 - val_loss: 0.3865 - val_accuracy: 0.8622 - lr: 1.0000e-04\n",
      "Epoch 4/100\n",
      "11970/11985 [============================>.] - ETA: 0s - loss: 0.4175 - accuracy: 0.8552\n",
      "Epoch 4: val_accuracy improved from 0.86225 to 0.86596, saving model to Best_points_densenet.h\n",
      "INFO:tensorflow:Assets written to: Best_points_densenet.h\\assets\n",
      "11985/11985 [==============================] - 29s 2ms/step - loss: 0.4175 - accuracy: 0.8552 - val_loss: 0.3695 - val_accuracy: 0.8660 - lr: 1.0000e-04\n",
      "Epoch 5/100\n",
      "11972/11985 [============================>.] - ETA: 0s - loss: 0.3863 - accuracy: 0.8642\n",
      "Epoch 5: val_accuracy improved from 0.86596 to 0.86973, saving model to Best_points_densenet.h\n",
      "INFO:tensorflow:Assets written to: Best_points_densenet.h\\assets\n",
      "11985/11985 [==============================] - 31s 3ms/step - loss: 0.3863 - accuracy: 0.8642 - val_loss: 0.3659 - val_accuracy: 0.8697 - lr: 1.0000e-04\n",
      "Epoch 6/100\n",
      "11977/11985 [============================>.] - ETA: 0s - loss: 0.3625 - accuracy: 0.8704\n",
      "Epoch 6: val_accuracy improved from 0.86973 to 0.87104, saving model to Best_points_densenet.h\n",
      "INFO:tensorflow:Assets written to: Best_points_densenet.h\\assets\n",
      "11985/11985 [==============================] - 33s 3ms/step - loss: 0.3625 - accuracy: 0.8704 - val_loss: 0.3620 - val_accuracy: 0.8710 - lr: 1.0000e-04\n",
      "Epoch 7/100\n",
      "11974/11985 [============================>.] - ETA: 0s - loss: 0.3443 - accuracy: 0.8749\n",
      "Epoch 7: val_accuracy improved from 0.87104 to 0.87434, saving model to Best_points_densenet.h\n",
      "INFO:tensorflow:Assets written to: Best_points_densenet.h\\assets\n",
      "11985/11985 [==============================] - 32s 3ms/step - loss: 0.3443 - accuracy: 0.8749 - val_loss: 0.3561 - val_accuracy: 0.8743 - lr: 1.0000e-04\n",
      "Epoch 8/100\n",
      "11983/11985 [============================>.] - ETA: 0s - loss: 0.3284 - accuracy: 0.8796\n",
      "Epoch 8: val_accuracy improved from 0.87434 to 0.87535, saving model to Best_points_densenet.h\n",
      "INFO:tensorflow:Assets written to: Best_points_densenet.h\\assets\n",
      "11985/11985 [==============================] - 32s 3ms/step - loss: 0.3284 - accuracy: 0.8796 - val_loss: 0.3521 - val_accuracy: 0.8754 - lr: 1.0000e-04\n",
      "Epoch 9/100\n",
      "11970/11985 [============================>.] - ETA: 0s - loss: 0.3148 - accuracy: 0.8830\n",
      "Epoch 9: val_accuracy did not improve from 0.87535\n",
      "11985/11985 [==============================] - 31s 3ms/step - loss: 0.3148 - accuracy: 0.8830 - val_loss: 0.3609 - val_accuracy: 0.8753 - lr: 1.0000e-04\n",
      "Epoch 10/100\n",
      "11967/11985 [============================>.] - ETA: 0s - loss: 0.3039 - accuracy: 0.8859\n",
      "Epoch 10: val_accuracy improved from 0.87535 to 0.87664, saving model to Best_points_densenet.h\n",
      "INFO:tensorflow:Assets written to: Best_points_densenet.h\\assets\n",
      "11985/11985 [==============================] - 32s 3ms/step - loss: 0.3040 - accuracy: 0.8859 - val_loss: 0.3563 - val_accuracy: 0.8766 - lr: 1.0000e-04\n",
      "Epoch 11/100\n",
      "11984/11985 [============================>.] - ETA: 0s - loss: 0.2600 - accuracy: 0.8997\n",
      "Epoch 11: val_accuracy improved from 0.87664 to 0.88255, saving model to Best_points_densenet.h\n",
      "INFO:tensorflow:Assets written to: Best_points_densenet.h\\assets\n",
      "11985/11985 [==============================] - 32s 3ms/step - loss: 0.2599 - accuracy: 0.8997 - val_loss: 0.3424 - val_accuracy: 0.8826 - lr: 2.0000e-05\n",
      "Epoch 12/100\n",
      "11975/11985 [============================>.] - ETA: 0s - loss: 0.2465 - accuracy: 0.9034\n",
      "Epoch 12: val_accuracy improved from 0.88255 to 0.88326, saving model to Best_points_densenet.h\n",
      "INFO:tensorflow:Assets written to: Best_points_densenet.h\\assets\n",
      "11985/11985 [==============================] - 32s 3ms/step - loss: 0.2464 - accuracy: 0.9034 - val_loss: 0.3448 - val_accuracy: 0.8833 - lr: 2.0000e-05\n",
      "Epoch 13/100\n",
      "11981/11985 [============================>.] - ETA: 0s - loss: 0.2400 - accuracy: 0.9054\n",
      "Epoch 13: val_accuracy improved from 0.88326 to 0.88336, saving model to Best_points_densenet.h\n",
      "INFO:tensorflow:Assets written to: Best_points_densenet.h\\assets\n",
      "11985/11985 [==============================] - 32s 3ms/step - loss: 0.2400 - accuracy: 0.9054 - val_loss: 0.3461 - val_accuracy: 0.8834 - lr: 2.0000e-05\n",
      "Epoch 14/100\n",
      "11980/11985 [============================>.] - ETA: 0s - loss: 0.2307 - accuracy: 0.9086\n",
      "Epoch 14: val_accuracy improved from 0.88336 to 0.88339, saving model to Best_points_densenet.h\n",
      "INFO:tensorflow:Assets written to: Best_points_densenet.h\\assets\n",
      "11985/11985 [==============================] - 32s 3ms/step - loss: 0.2308 - accuracy: 0.9086 - val_loss: 0.3480 - val_accuracy: 0.8834 - lr: 1.0000e-05\n",
      "Epoch 15/100\n",
      "11975/11985 [============================>.] - ETA: 0s - loss: 0.2268 - accuracy: 0.9098\n",
      "Epoch 15: val_accuracy improved from 0.88339 to 0.88360, saving model to Best_points_densenet.h\n",
      "INFO:tensorflow:Assets written to: Best_points_densenet.h\\assets\n",
      "11985/11985 [==============================] - 31s 3ms/step - loss: 0.2268 - accuracy: 0.9098 - val_loss: 0.3504 - val_accuracy: 0.8836 - lr: 1.0000e-05\n",
      "Epoch 16/100\n",
      "11965/11985 [============================>.] - ETA: 0s - loss: 0.2249 - accuracy: 0.9103\n",
      "Epoch 16: val_accuracy improved from 0.88360 to 0.88361, saving model to Best_points_densenet.h\n",
      "INFO:tensorflow:Assets written to: Best_points_densenet.h\\assets\n",
      "11985/11985 [==============================] - 31s 3ms/step - loss: 0.2249 - accuracy: 0.9103 - val_loss: 0.3493 - val_accuracy: 0.8836 - lr: 1.0000e-05\n",
      "Epoch 17/100\n",
      "11968/11985 [============================>.] - ETA: 0s - loss: 0.2221 - accuracy: 0.9108\n",
      "Epoch 17: val_accuracy did not improve from 0.88361\n",
      "11985/11985 [==============================] - 31s 3ms/step - loss: 0.2221 - accuracy: 0.9108 - val_loss: 0.3518 - val_accuracy: 0.8835 - lr: 1.0000e-05\n",
      "Epoch 18/100\n",
      "11977/11985 [============================>.] - ETA: 0s - loss: 0.2197 - accuracy: 0.9121\n",
      "Epoch 18: val_accuracy did not improve from 0.88361\n",
      "11985/11985 [==============================] - 31s 3ms/step - loss: 0.2197 - accuracy: 0.9121 - val_loss: 0.3534 - val_accuracy: 0.8831 - lr: 1.0000e-05\n",
      "Epoch 19/100\n",
      "11964/11985 [============================>.] - ETA: 0s - loss: 0.2179 - accuracy: 0.9125\n",
      "Epoch 19: val_accuracy did not improve from 0.88361\n",
      "11985/11985 [==============================] - 31s 3ms/step - loss: 0.2180 - accuracy: 0.9125 - val_loss: 0.3552 - val_accuracy: 0.8830 - lr: 1.0000e-05\n",
      "Epoch 20/100\n",
      "11981/11985 [============================>.] - ETA: 0s - loss: 0.2150 - accuracy: 0.9132\n",
      "Epoch 20: val_accuracy did not improve from 0.88361\n",
      "11985/11985 [==============================] - 30s 3ms/step - loss: 0.2150 - accuracy: 0.9133 - val_loss: 0.3567 - val_accuracy: 0.8831 - lr: 1.0000e-05\n",
      "Epoch 21/100\n",
      "11974/11985 [============================>.] - ETA: 0s - loss: 0.2133 - accuracy: 0.9139\n",
      "Epoch 21: val_accuracy did not improve from 0.88361\n",
      "11985/11985 [==============================] - 31s 3ms/step - loss: 0.2133 - accuracy: 0.9139 - val_loss: 0.3560 - val_accuracy: 0.8836 - lr: 1.0000e-05\n",
      "Epoch 22/100\n",
      "11982/11985 [============================>.] - ETA: 0s - loss: 0.2117 - accuracy: 0.9142\n",
      "Epoch 22: val_accuracy did not improve from 0.88361\n",
      "11985/11985 [==============================] - 31s 3ms/step - loss: 0.2117 - accuracy: 0.9142 - val_loss: 0.3608 - val_accuracy: 0.8831 - lr: 1.0000e-05\n",
      "Epoch 23/100\n",
      "11973/11985 [============================>.] - ETA: 0s - loss: 0.2102 - accuracy: 0.9145\n",
      "Epoch 23: val_accuracy did not improve from 0.88361\n",
      "11985/11985 [==============================] - 31s 3ms/step - loss: 0.2102 - accuracy: 0.9145 - val_loss: 0.3594 - val_accuracy: 0.8834 - lr: 1.0000e-05\n",
      "Epoch 24/100\n",
      "11983/11985 [============================>.] - ETA: 0s - loss: 0.2080 - accuracy: 0.9157\n",
      "Epoch 24: val_accuracy did not improve from 0.88361\n",
      "11985/11985 [==============================] - 31s 3ms/step - loss: 0.2080 - accuracy: 0.9157 - val_loss: 0.3621 - val_accuracy: 0.8834 - lr: 1.0000e-05\n",
      "Epoch 25/100\n",
      "11966/11985 [============================>.] - ETA: 0s - loss: 0.2066 - accuracy: 0.9154\n",
      "Epoch 25: val_accuracy did not improve from 0.88361\n",
      "11985/11985 [==============================] - 31s 3ms/step - loss: 0.2066 - accuracy: 0.9154 - val_loss: 0.3639 - val_accuracy: 0.8831 - lr: 1.0000e-05\n",
      "Epoch 26/100\n",
      "11967/11985 [============================>.] - ETA: 0s - loss: 0.2052 - accuracy: 0.9161\n",
      "Epoch 26: val_accuracy did not improve from 0.88361\n",
      "11985/11985 [==============================] - 31s 3ms/step - loss: 0.2051 - accuracy: 0.9161 - val_loss: 0.3653 - val_accuracy: 0.8830 - lr: 1.0000e-05\n"
     ]
    }
   ],
   "execution_count": 11
  },
  {
   "cell_type": "code",
   "id": "5aa2888c",
   "metadata": {
    "ExecuteTime": {
     "end_time": "2024-06-05T11:45:28.513994Z",
     "start_time": "2024-06-05T11:45:28.396982Z"
    }
   },
   "source": [
    "# 학습 결과 시각화\n",
    "# Train 및 Validation Accuracy 데이터\n",
    "train_accuracy = history_balance.history['accuracy']\n",
    "val_accuracy = history_balance.history['val_accuracy']\n",
    "train_loss = history_balance.history['loss']\n",
    "val_loss = history_balance.history['val_loss']\n",
    "\n",
    "# 그래프 생성\n",
    "plt.figure(figsize=(10, 6))\n",
    "\n",
    "# Train Accuracy 그래프\n",
    "plt.plot(range(1, len(train_accuracy) + 1), train_accuracy, label='Train Accuracy')\n",
    "\n",
    "# Validation Accuracy 그래프\n",
    "plt.plot(range(1, len(val_accuracy) + 1), val_accuracy, label='Validation Accuracy')\n",
    "\n",
    "plt.plot(range(1, len(train_accuracy) + 1), train_loss, label='Train Loss')\n",
    "\n",
    "plt.plot(range(1, len(train_accuracy) + 1), val_loss, label='Validation Loss')\n",
    "# 그래프 제목 및 축 레이블\n",
    "plt.title('Model Accuracy with DenseNet (Training with bybalanced)')\n",
    "plt.xlabel('Epochs')\n",
    "plt.ylabel('Accuracy')\n",
    "\n",
    "plt.ylim(0, 1)\n",
    "\n",
    "plt.yticks(np.arange(0, 1.1, 0.05))\n",
    "\n",
    "# 범례 추가\n",
    "plt.legend()\n",
    "\n",
    "# 그래프 출력\n",
    "plt.show()"
   ],
   "outputs": [
    {
     "data": {
      "text/plain": [
       "<Figure size 1000x600 with 1 Axes>"
      ],
      "image/png": "[encoded data removed]"
     },
     "metadata": {},
     "output_type": "display_data"
    }
   ],
   "execution_count": 14
  },
  {
   "cell_type": "code",
   "id": "520bbca4",
   "metadata": {
    "ExecuteTime": {
     "end_time": "2024-06-05T11:45:33.682869Z",
     "start_time": "2024-06-05T11:45:32.841012Z"
    }
   },
   "source": [
    "# Evaluate model\n",
    "start_time = time.time()  # 추론 시작 시간\n",
    "predictions = model.predict(test_x_balance)\n",
    "end_time = time.time()  # 추론 종료 시간\n",
    "total_inference_time = end_time - start_time\n",
    "average_inference_time = total_inference_time / len(test_x_balance)\n",
    "\n",
    "# 테스트 데이터에 대한 예측 결과 처리\n",
    "predicted_classes = np.argmax(predictions, axis=1)\n",
    "actual_classes = np.argmax(test_y_balance, axis=1)\n",
    "\n",
    "# 정확도 계산\n",
    "correct_predictions = np.sum(predicted_classes == actual_classes)\n",
    "accuracy = correct_predictions / len(predicted_classes)\n",
    "\n",
    "# 결과 출력\n",
    "print(f\"Correct Predictions: {correct_predictions}\")\n",
    "print(f\"Total Predictions: {len(predicted_classes)}\")\n",
    "print(f\"정확도: {accuracy:.4f}\")\n",
    "print(f\"훈련시간 : {training_time:.2f} seconds.\")\n",
    "print(f\"평균 추론 시간: {average_inference_time:.4f} seconds.\") #각 샘플에 대한 추론 시간을 개별적으로 측정함으로써, 추론에 필요한 시간을 더 정확히 파악"
   ],
   "outputs": [
    {
     "name": "stdout",
     "output_type": "stream",
     "text": [
      "Correct Predictions: 16832\n",
      "Total Predictions: 18799\n",
      "정확도: 0.8954\n",
      "훈련시간 : 813.88 seconds.\n",
      "평균 추론 시간: 0.0000 seconds.\n"
     ]
    }
   ],
   "execution_count": 15
  },
  {
   "cell_type": "markdown",
   "id": "1d3f268e",
   "metadata": {},
   "source": [
    ".\n",
    "-------------------"
   ]
  },
  {
   "metadata": {},
   "cell_type": "code",
   "outputs": [],
   "execution_count": null,
   "source": "",
   "id": "522de78e785a316a"
  }
 ],
 "metadata": {
  "kernelspec": {
   "display_name": "Python 3 (ipykernel)",
   "language": "python",
   "name": "python3"
  },
  "language_info": {
   "codemirror_mode": {
    "name": "ipython",
    "version": 3
   },
   "file_extension": ".py",
   "mimetype": "text/x-python",
   "name": "python",
   "nbconvert_exporter": "python",
   "pygments_lexer": "ipython3",
   "version": "3.7.16"
  }
 },
 "nbformat": 4,
 "nbformat_minor": 5
}
