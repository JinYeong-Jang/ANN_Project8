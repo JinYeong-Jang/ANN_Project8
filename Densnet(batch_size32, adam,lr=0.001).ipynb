{
 "cells": [
  {
   "cell_type": "markdown",
   "id": "80632cca",
   "metadata": {
    "id": "o0TqkLkqHpXU"
   },
   "source": [
    "### `Basic setting`"
   ]
  },
  {
   "cell_type": "code",
   "id": "ae003839",
   "metadata": {
    "ExecuteTime": {
     "end_time": "2024-06-05T10:31:25.562213Z",
     "start_time": "2024-06-05T10:31:23.502883Z"
    }
   },
   "source": [
    "import sys\n",
    "\n",
    "assert sys.version_info >= (3, 7)\n",
    "\n",
    "from packaging import version\n",
    "import sklearn\n",
    "print(\"sklearn version: \", sklearn.__version__)\n",
    "assert version.parse(sklearn.__version__) >= version.parse(\"1.0.1\")\n",
    "\n",
    "import tensorflow as tf\n",
    "print(\"TF version: \", tf.__version__)\n",
    "assert version.parse(tf.__version__) >= version.parse(\"2.8.0\")\n",
    "\n",
    "import matplotlib.pyplot as plt\n",
    "\n",
    "# Is this notebook running on Colab or Kaggle?\n",
    "IS_COLAB = \"google.colab\" in sys.modules\n",
    "IS_KAGGLE = \"kaggle_secrets\" in sys.modules\n",
    "\n",
    "if not tf.config.list_physical_devices('GPU'):\n",
    "    print(\"No GPU was detected. Neural nets can be very slow without a GPU.\")\n",
    "    if IS_COLAB:\n",
    "        print(\"Go to Runtime > Change runtime and select a GPU hardware \"\n",
    "              \"accelerator.\")\n",
    "    if IS_KAGGLE:\n",
    "        print(\"Go to Settings > Accelerator and select GPU.\")\n",
    "\n",
    "\n",
    "# To prevent \"CUDNN_STATUS_ALLOC_FAILED\" error with GPUs\n",
    "gpus = tf.config.list_physical_devices('GPU')\n",
    "if gpus:\n",
    "  try:\n",
    "    # Currently, memory growth needs to be the same across GPUs\n",
    "    for gpu in gpus:\n",
    "      tf.config.experimental.set_memory_growth(gpu, True)\n",
    "    logical_gpus = tf.config.list_logical_devices('GPU')\n",
    "    print(len(gpus), \"Physical GPUs,\", len(logical_gpus), \"Logical GPUs\")\n",
    "  except RuntimeError as e:\n",
    "    # Memory growth must be set before GPUs have been initialized\n",
    "    print(e)"
   ],
   "outputs": [
    {
     "name": "stdout",
     "output_type": "stream",
     "text": [
      "sklearn version:  1.0.2\n",
      "TF version:  2.8.0\n",
      "1 Physical GPUs, 1 Logical GPUs\n"
     ]
    }
   ],
   "execution_count": 1
  },
  {
   "cell_type": "code",
   "id": "ebe4b6f1",
   "metadata": {
    "ExecuteTime": {
     "end_time": "2024-06-05T10:31:25.593658Z",
     "start_time": "2024-06-05T10:31:25.563222Z"
    }
   },
   "source": [
    "import os\n",
    "import time\n",
    "import numpy as np\n",
    "import pandas as pd\n",
    "import seaborn as sns\n",
    "import tensorflow as tf\n",
    "import matplotlib.pyplot as plt\n",
    "from pathlib import Path\n",
    "from sklearn.model_selection import train_test_split\n",
    "from tensorflow.keras.layers import Conv2D, AveragePooling2D, Flatten, Dense, Dropout, BatchNormalization, LeakyReLU, ReLU, ELU\n",
    "from tensorflow.keras.callbacks import EarlyStopping, ReduceLROnPlateau, ModelCheckpoint\n",
    "from tensorflow.keras.optimizers import Adam\n",
    "from tensorflow.keras.optimizers import SGD\n",
    "np.random.seed(42)\n"
   ],
   "outputs": [],
   "execution_count": 2
  },
  {
   "cell_type": "code",
   "id": "65e65b99",
   "metadata": {
    "scrolled": true,
    "ExecuteTime": {
     "end_time": "2024-06-05T10:31:25.609691Z",
     "start_time": "2024-06-05T10:31:25.594659Z"
    }
   },
   "source": [
    "# check GPU\n",
    "from tensorflow.python.client import device_lib\n",
    "device_lib.list_local_devices()"
   ],
   "outputs": [
    {
     "data": {
      "text/plain": [
       "[name: \"/device:CPU:0\"\n",
       " device_type: \"CPU\"\n",
       " memory_limit: 268435456\n",
       " locality {\n",
       " }\n",
       " incarnation: 16753999655061887608\n",
       " xla_global_id: -1,\n",
       " name: \"/device:GPU:0\"\n",
       " device_type: \"GPU\"\n",
       " memory_limit: 9879683072\n",
       " locality {\n",
       "   bus_id: 1\n",
       "   links {\n",
       "   }\n",
       " }\n",
       " incarnation: 689270035654922212\n",
       " physical_device_desc: \"device: 0, name: NVIDIA GeForce RTX 3080 Ti, pci bus id: 0000:01:00.0, compute capability: 8.6\"\n",
       " xla_global_id: 416903419]"
      ]
     },
     "execution_count": 3,
     "metadata": {},
     "output_type": "execute_result"
    }
   ],
   "execution_count": 3
  },
  {
   "cell_type": "markdown",
   "id": "4496db74",
   "metadata": {
    "id": "bkxLQcpqG0PR"
   },
   "source": [
    "### `Load dataset (by_merge)`"
   ]
  },
  {
   "cell_type": "code",
   "id": "17f47f2c",
   "metadata": {
    "ExecuteTime": {
     "end_time": "2024-06-05T10:31:25.625691Z",
     "start_time": "2024-06-05T10:31:25.610691Z"
    }
   },
   "source": [
    "# Hyper parameter setting\n",
    "BATCH_SIZE = 32\n",
    "EPOCHS = 100\n",
    "VALIDATION_SPLIT = 0.15\n",
    "LEARNING_RATE = 0.0001\n",
    "PATIENCE = 10\n",
    "MIN_LEARNING_RATE = 0.00001\n",
    "DECAY_FACTOR = 0.2\n",
    "DENSE_LAYER_ACTIVATION = 'elu'\n",
    "FINAL_LAYER_ACTIVATION = 'softmax'\n",
    "LOSS_FUNCTION = 'categorical_crossentropy'\n",
    "METRICS = ['accuracy']\n",
    "optimizer = Adam(learning_rate=LEARNING_RATE)\n",
    "\n",
    "CHECK_POINT_BALANCE = 'Best_points_densenet.h'"
   ],
   "outputs": [],
   "execution_count": 4
  },
  {
   "cell_type": "markdown",
   "id": "9daac484",
   "metadata": {
    "id": "bkxLQcpqG0PR"
   },
   "source": [
    "### `Load dataset (by_balanced)`"
   ]
  },
  {
   "cell_type": "code",
   "id": "2bc7f70a",
   "metadata": {
    "ExecuteTime": {
     "end_time": "2024-06-05T10:31:29.898070Z",
     "start_time": "2024-06-05T10:31:25.626692Z"
    }
   },
   "source": [
    "# 데이터 불러오기\n",
    "testing_set_balance = pd.read_csv('emnist-balanced-test.csv')\n",
    "training_set_balance = pd.read_csv('emnist-balanced-train.csv')\n",
    "\n",
    "\n",
    "# 훈련 데이터와 레이블 추출\n",
    "train_y_balance = np.array(training_set_balance.iloc[:, 0].values)\n",
    "train_x_balance = np.array(training_set_balance.iloc[:, 1:].values)\n",
    "\n",
    "# 테스트 데이터와 레이블 추출\n",
    "test_y_balance = np.array(testing_set_balance.iloc[:, 0].values)\n",
    "test_x_balance = np.array(testing_set_balance.iloc[:, 1:].values)\n",
    "\n",
    "# 데이터 정규화\n",
    "train_x_balance = train_x_balance / 255.0\n",
    "test_x_balance = test_x_balance / 255.0\n",
    "\n",
    "# 이미지 크기 재조정 (데이터 차원 변경)\n",
    "images_height = 28\n",
    "images_width = 28\n",
    "train_x_balance = train_x_balance.reshape(train_x_balance.shape[0], images_height, images_width, 1)\n",
    "test_x_balance = test_x_balance.reshape(test_x_balance.shape[0], images_height, images_width, 1)\n",
    "\n",
    "# 클래스 수 = 47\n",
    "number_of_classes = 47\n",
    "\n",
    "# 레이블 원-핫 인코딩\n",
    "train_y_balance = tf.keras.utils.to_categorical(train_y_balance, number_of_classes)\n",
    "test_y_balance = tf.keras.utils.to_categorical(test_y_balance, number_of_classes)\n",
    "\n",
    "#VALIDATION_SPLIT = 0.15\n",
    "train_x_balance, val_x_balance, train_y_balance, val_y_balance = train_test_split(train_x_balance, train_y_balance, \n",
    "                                                                              test_size=VALIDATION_SPLIT, random_state=42)"
   ],
   "outputs": [],
   "execution_count": 5
  },
  {
   "cell_type": "code",
   "id": "5610cede",
   "metadata": {
    "ExecuteTime": {
     "end_time": "2024-06-05T10:31:29.914057Z",
     "start_time": "2024-06-05T10:31:29.898070Z"
    }
   },
   "source": [
    "from tensorflow.keras.callbacks import EarlyStopping, ReduceLROnPlateau,ModelCheckpoint\n",
    "from sklearn.model_selection import train_test_split\n",
    "from tensorflow.keras.applications import ResNet50\n",
    "from tensorflow.keras.layers import Conv2D, Input,MaxPooling2D, Dense, Flatten ,Activation ,  BatchNormalization , Dropout ,AveragePooling2D\n",
    "from tensorflow.keras.models import Model\n",
    "from functools import partial\n"
   ],
   "outputs": [],
   "execution_count": 6
  },
  {
   "cell_type": "markdown",
   "id": "2473c059",
   "metadata": {},
   "source": "#### Training PersonalModelwith bybalanced dataset"
  },
  {
   "metadata": {
    "ExecuteTime": {
     "end_time": "2024-06-05T10:31:29.976596Z",
     "start_time": "2024-06-05T10:31:29.915144Z"
    }
   },
   "cell_type": "code",
   "source": [
    "# Define Densenet\n",
    "model = tf.keras.Sequential([\n",
    "    Conv2D(16, kernel_size=(5, 5), activation=DENSE_LAYER_ACTIVATION, input_shape=(28, 28, 1), padding='same'),\n",
    "    AveragePooling2D(),\n",
    "    # Conv2D(16, kernel_size=(3, 3), activation=DENSE_LAYER_ACTIVATION, padding='same'),\n",
    "    # BatchNormalization(),\n",
    "    # AveragePooling2D(),\n",
    "    Conv2D(32, kernel_size=(5, 5), activation=DENSE_LAYER_ACTIVATION, padding='same'),\n",
    "    BatchNormalization(),\n",
    "    AveragePooling2D(),\n",
    "    Conv2D(64, kernel_size=(5, 5), activation=DENSE_LAYER_ACTIVATION, padding='same'),\n",
    "    BatchNormalization(),\n",
    "    AveragePooling2D(),\n",
    "    Conv2D(128, kernel_size=(5, 5), activation=DENSE_LAYER_ACTIVATION, padding='same'),\n",
    "    BatchNormalization(),\n",
    "    AveragePooling2D(pool_size=(1, 1)),\n",
    "    Flatten(),\n",
    "    Dense(128, activation=DENSE_LAYER_ACTIVATION),\n",
    "    Dropout(0.5),\n",
    "    Dense(number_of_classes, activation=FINAL_LAYER_ACTIVATION)\n",
    "])\n",
    "\n",
    "#model.summary()"
   ],
   "id": "fa5ba5a9d110466f",
   "outputs": [],
   "execution_count": 7
  },
  {
   "cell_type": "code",
   "id": "1d7bbfff",
   "metadata": {
    "ExecuteTime": {
     "end_time": "2024-06-05T10:31:29.991759Z",
     "start_time": "2024-06-05T10:31:29.977596Z"
    }
   },
   "source": [
    "# 모델 컴파일\n",
    "#LOSS_FUNCTION = 'categorical_crossentropy'\n",
    "#LEARNING_RATE = 0.001\n",
    "#METRICS = ['accuracy']\n",
    "\n",
    "model.compile(optimizer=optimizer,\n",
    "            loss=LOSS_FUNCTION,\n",
    "            metrics=METRICS)\n",
    "\n",
    "# 콜백 설정\n",
    "#DECAY_FACTOR = 0.2\n",
    "#PATIENCE = 3\n",
    "#MIN_LEARNING_RATE = 0.0001\n",
    "\n",
    "callbacks_balance = [\n",
    "    ModelCheckpoint(CHECK_POINT_BALANCE, verbose=1, save_best_only=True, monitor='val_accuracy', mode='max'),\n",
    "    EarlyStopping(monitor='val_accuracy', restore_best_weights=True, patience=PATIENCE, mode='max'),\n",
    "    ReduceLROnPlateau(monitor='val_loss', patience=3, factor=DECAY_FACTOR, min_lr=MIN_LEARNING_RATE)\n",
    "]\n"
   ],
   "outputs": [],
   "execution_count": 8
  },
  {
   "cell_type": "code",
   "id": "7124dfa4",
   "metadata": {
    "ExecuteTime": {
     "end_time": "2024-06-05T10:39:27.713123Z",
     "start_time": "2024-06-05T10:31:29.991759Z"
    }
   },
   "source": [
    "start_time = time.time()  # 학습 시작 시간\n",
    "\n",
    "# 모델 학습\n",
    "history_balance = model.fit(train_x_balance, train_y_balance, batch_size=BATCH_SIZE, epochs=EPOCHS, \n",
    "                                validation_data=(val_x_balance, val_y_balance), callbacks=callbacks_balance)\n",
    "\n",
    "training_time = time.time() - start_time"
   ],
   "outputs": [
    {
     "name": "stdout",
     "output_type": "stream",
     "text": [
      "Epoch 1/100\n",
      "2997/2997 [==============================] - ETA: 0s - loss: 1.6085 - accuracy: 0.5463\n",
      "Epoch 1: val_accuracy improved from -inf to 0.76525, saving model to Best_points_densenet.h\n",
      "INFO:tensorflow:Assets written to: Best_points_densenet.h\\assets\n",
      "2997/2997 [==============================] - 10s 3ms/step - loss: 1.6085 - accuracy: 0.5463 - val_loss: 0.7619 - val_accuracy: 0.7652 - lr: 1.0000e-04\n",
      "Epoch 2/100\n",
      "2980/2997 [============================>.] - ETA: 0s - loss: 0.8920 - accuracy: 0.7269\n",
      "Epoch 2: val_accuracy improved from 0.76525 to 0.81696, saving model to Best_points_densenet.h\n",
      "INFO:tensorflow:Assets written to: Best_points_densenet.h\\assets\n",
      "2997/2997 [==============================] - 7s 2ms/step - loss: 0.8916 - accuracy: 0.7271 - val_loss: 0.5515 - val_accuracy: 0.8170 - lr: 1.0000e-04\n",
      "Epoch 3/100\n",
      "2981/2997 [============================>.] - ETA: 0s - loss: 0.7115 - accuracy: 0.7755\n",
      "Epoch 3: val_accuracy improved from 0.81696 to 0.82896, saving model to Best_points_densenet.h\n",
      "INFO:tensorflow:Assets written to: Best_points_densenet.h\\assets\n",
      "2997/2997 [==============================] - 8s 3ms/step - loss: 0.7113 - accuracy: 0.7755 - val_loss: 0.4947 - val_accuracy: 0.8290 - lr: 1.0000e-04\n",
      "Epoch 4/100\n",
      "2988/2997 [============================>.] - ETA: 0s - loss: 0.6152 - accuracy: 0.7997\n",
      "Epoch 4: val_accuracy improved from 0.82896 to 0.84486, saving model to Best_points_densenet.h\n",
      "INFO:tensorflow:Assets written to: Best_points_densenet.h\\assets\n",
      "2997/2997 [==============================] - 7s 2ms/step - loss: 0.6151 - accuracy: 0.7997 - val_loss: 0.4472 - val_accuracy: 0.8449 - lr: 1.0000e-04\n",
      "Epoch 5/100\n",
      "2989/2997 [============================>.] - ETA: 0s - loss: 0.5645 - accuracy: 0.8158\n",
      "Epoch 5: val_accuracy improved from 0.84486 to 0.84799, saving model to Best_points_densenet.h\n",
      "INFO:tensorflow:Assets written to: Best_points_densenet.h\\assets\n",
      "2997/2997 [==============================] - 8s 3ms/step - loss: 0.5644 - accuracy: 0.8159 - val_loss: 0.4364 - val_accuracy: 0.8480 - lr: 1.0000e-04\n",
      "Epoch 6/100\n",
      "2971/2997 [============================>.] - ETA: 0s - loss: 0.5203 - accuracy: 0.8265\n",
      "Epoch 6: val_accuracy improved from 0.84799 to 0.85325, saving model to Best_points_densenet.h\n",
      "INFO:tensorflow:Assets written to: Best_points_densenet.h\\assets\n",
      "2997/2997 [==============================] - 8s 3ms/step - loss: 0.5202 - accuracy: 0.8265 - val_loss: 0.4225 - val_accuracy: 0.8533 - lr: 1.0000e-04\n",
      "Epoch 7/100\n",
      "2989/2997 [============================>.] - ETA: 0s - loss: 0.4888 - accuracy: 0.8349\n",
      "Epoch 7: val_accuracy improved from 0.85325 to 0.86022, saving model to Best_points_densenet.h\n",
      "INFO:tensorflow:Assets written to: Best_points_densenet.h\\assets\n",
      "2997/2997 [==============================] - 8s 3ms/step - loss: 0.4890 - accuracy: 0.8349 - val_loss: 0.4032 - val_accuracy: 0.8602 - lr: 1.0000e-04\n",
      "Epoch 8/100\n",
      "2972/2997 [============================>.] - ETA: 0s - loss: 0.4643 - accuracy: 0.8435\n",
      "Epoch 8: val_accuracy improved from 0.86022 to 0.86123, saving model to Best_points_densenet.h\n",
      "INFO:tensorflow:Assets written to: Best_points_densenet.h\\assets\n",
      "2997/2997 [==============================] - 12s 4ms/step - loss: 0.4640 - accuracy: 0.8437 - val_loss: 0.3920 - val_accuracy: 0.8612 - lr: 1.0000e-04\n",
      "Epoch 9/100\n",
      "2996/2997 [============================>.] - ETA: 0s - loss: 0.4424 - accuracy: 0.8499\n",
      "Epoch 9: val_accuracy improved from 0.86123 to 0.86743, saving model to Best_points_densenet.h\n",
      "INFO:tensorflow:Assets written to: Best_points_densenet.h\\assets\n",
      "2997/2997 [==============================] - 15s 5ms/step - loss: 0.4424 - accuracy: 0.8499 - val_loss: 0.3693 - val_accuracy: 0.8674 - lr: 1.0000e-04\n",
      "Epoch 10/100\n",
      "2990/2997 [============================>.] - ETA: 0s - loss: 0.4239 - accuracy: 0.8552\n",
      "Epoch 10: val_accuracy improved from 0.86743 to 0.86903, saving model to Best_points_densenet.h\n",
      "INFO:tensorflow:Assets written to: Best_points_densenet.h\\assets\n",
      "2997/2997 [==============================] - 16s 5ms/step - loss: 0.4239 - accuracy: 0.8552 - val_loss: 0.3684 - val_accuracy: 0.8690 - lr: 1.0000e-04\n",
      "Epoch 11/100\n",
      "2995/2997 [============================>.] - ETA: 0s - loss: 0.4060 - accuracy: 0.8588\n",
      "Epoch 11: val_accuracy improved from 0.86903 to 0.87080, saving model to Best_points_densenet.h\n",
      "INFO:tensorflow:Assets written to: Best_points_densenet.h\\assets\n",
      "2997/2997 [==============================] - 16s 5ms/step - loss: 0.4059 - accuracy: 0.8588 - val_loss: 0.3583 - val_accuracy: 0.8708 - lr: 1.0000e-04\n",
      "Epoch 12/100\n",
      "2993/2997 [============================>.] - ETA: 0s - loss: 0.3971 - accuracy: 0.8621\n",
      "Epoch 12: val_accuracy improved from 0.87080 to 0.87181, saving model to Best_points_densenet.h\n",
      "INFO:tensorflow:Assets written to: Best_points_densenet.h\\assets\n",
      "2997/2997 [==============================] - 16s 5ms/step - loss: 0.3971 - accuracy: 0.8621 - val_loss: 0.3498 - val_accuracy: 0.8718 - lr: 1.0000e-04\n",
      "Epoch 13/100\n",
      "2991/2997 [============================>.] - ETA: 0s - loss: 0.3831 - accuracy: 0.8660\n",
      "Epoch 13: val_accuracy improved from 0.87181 to 0.87394, saving model to Best_points_densenet.h\n",
      "INFO:tensorflow:Assets written to: Best_points_densenet.h\\assets\n",
      "2997/2997 [==============================] - 16s 5ms/step - loss: 0.3831 - accuracy: 0.8660 - val_loss: 0.3487 - val_accuracy: 0.8739 - lr: 1.0000e-04\n",
      "Epoch 14/100\n",
      "2987/2997 [============================>.] - ETA: 0s - loss: 0.3696 - accuracy: 0.8692\n",
      "Epoch 14: val_accuracy improved from 0.87394 to 0.87541, saving model to Best_points_densenet.h\n",
      "INFO:tensorflow:Assets written to: Best_points_densenet.h\\assets\n",
      "2997/2997 [==============================] - 16s 5ms/step - loss: 0.3694 - accuracy: 0.8694 - val_loss: 0.3477 - val_accuracy: 0.8754 - lr: 1.0000e-04\n",
      "Epoch 15/100\n",
      "2990/2997 [============================>.] - ETA: 0s - loss: 0.3599 - accuracy: 0.8720\n",
      "Epoch 15: val_accuracy improved from 0.87541 to 0.87600, saving model to Best_points_densenet.h\n",
      "INFO:tensorflow:Assets written to: Best_points_densenet.h\\assets\n",
      "2997/2997 [==============================] - 16s 5ms/step - loss: 0.3597 - accuracy: 0.8721 - val_loss: 0.3348 - val_accuracy: 0.8760 - lr: 1.0000e-04\n",
      "Epoch 16/100\n",
      "2987/2997 [============================>.] - ETA: 0s - loss: 0.3493 - accuracy: 0.8759\n",
      "Epoch 16: val_accuracy did not improve from 0.87600\n",
      "2997/2997 [==============================] - 15s 5ms/step - loss: 0.3491 - accuracy: 0.8760 - val_loss: 0.3596 - val_accuracy: 0.8722 - lr: 1.0000e-04\n",
      "Epoch 17/100\n",
      "2989/2997 [============================>.] - ETA: 0s - loss: 0.3381 - accuracy: 0.8784\n",
      "Epoch 17: val_accuracy improved from 0.87600 to 0.87813, saving model to Best_points_densenet.h\n",
      "INFO:tensorflow:Assets written to: Best_points_densenet.h\\assets\n",
      "2997/2997 [==============================] - 15s 5ms/step - loss: 0.3380 - accuracy: 0.8784 - val_loss: 0.3283 - val_accuracy: 0.8781 - lr: 1.0000e-04\n",
      "Epoch 18/100\n",
      "2986/2997 [============================>.] - ETA: 0s - loss: 0.3292 - accuracy: 0.8803\n",
      "Epoch 18: val_accuracy improved from 0.87813 to 0.88008, saving model to Best_points_densenet.h\n",
      "INFO:tensorflow:Assets written to: Best_points_densenet.h\\assets\n",
      "2997/2997 [==============================] - 16s 5ms/step - loss: 0.3292 - accuracy: 0.8803 - val_loss: 0.3234 - val_accuracy: 0.8801 - lr: 1.0000e-04\n",
      "Epoch 19/100\n",
      "2988/2997 [============================>.] - ETA: 0s - loss: 0.3203 - accuracy: 0.8828\n",
      "Epoch 19: val_accuracy improved from 0.88008 to 0.88251, saving model to Best_points_densenet.h\n",
      "INFO:tensorflow:Assets written to: Best_points_densenet.h\\assets\n",
      "2997/2997 [==============================] - 16s 5ms/step - loss: 0.3202 - accuracy: 0.8828 - val_loss: 0.3290 - val_accuracy: 0.8825 - lr: 1.0000e-04\n",
      "Epoch 20/100\n",
      "2994/2997 [============================>.] - ETA: 0s - loss: 0.3110 - accuracy: 0.8871\n",
      "Epoch 20: val_accuracy improved from 0.88251 to 0.88339, saving model to Best_points_densenet.h\n",
      "INFO:tensorflow:Assets written to: Best_points_densenet.h\\assets\n",
      "2997/2997 [==============================] - 16s 5ms/step - loss: 0.3110 - accuracy: 0.8871 - val_loss: 0.3187 - val_accuracy: 0.8834 - lr: 1.0000e-04\n",
      "Epoch 21/100\n",
      "2976/2997 [============================>.] - ETA: 0s - loss: 0.3031 - accuracy: 0.8877\n",
      "Epoch 21: val_accuracy did not improve from 0.88339\n",
      "2997/2997 [==============================] - 11s 4ms/step - loss: 0.3029 - accuracy: 0.8878 - val_loss: 0.3225 - val_accuracy: 0.8826 - lr: 1.0000e-04\n",
      "Epoch 22/100\n",
      "2993/2997 [============================>.] - ETA: 0s - loss: 0.2962 - accuracy: 0.8906\n",
      "Epoch 22: val_accuracy did not improve from 0.88339\n",
      "2997/2997 [==============================] - 7s 2ms/step - loss: 0.2964 - accuracy: 0.8905 - val_loss: 0.3238 - val_accuracy: 0.8822 - lr: 1.0000e-04\n",
      "Epoch 23/100\n",
      "2990/2997 [============================>.] - ETA: 0s - loss: 0.2896 - accuracy: 0.8926\n",
      "Epoch 23: val_accuracy improved from 0.88339 to 0.88505, saving model to Best_points_densenet.h\n",
      "INFO:tensorflow:Assets written to: Best_points_densenet.h\\assets\n",
      "2997/2997 [==============================] - 8s 3ms/step - loss: 0.2895 - accuracy: 0.8926 - val_loss: 0.3182 - val_accuracy: 0.8850 - lr: 1.0000e-04\n",
      "Epoch 24/100\n",
      "2971/2997 [============================>.] - ETA: 0s - loss: 0.2825 - accuracy: 0.8946\n",
      "Epoch 24: val_accuracy did not improve from 0.88505\n",
      "2997/2997 [==============================] - 7s 2ms/step - loss: 0.2825 - accuracy: 0.8946 - val_loss: 0.3199 - val_accuracy: 0.8839 - lr: 1.0000e-04\n",
      "Epoch 25/100\n",
      "2983/2997 [============================>.] - ETA: 0s - loss: 0.2755 - accuracy: 0.8969\n",
      "Epoch 25: val_accuracy did not improve from 0.88505\n",
      "2997/2997 [==============================] - 8s 3ms/step - loss: 0.2755 - accuracy: 0.8969 - val_loss: 0.3305 - val_accuracy: 0.8833 - lr: 1.0000e-04\n",
      "Epoch 26/100\n",
      "2977/2997 [============================>.] - ETA: 0s - loss: 0.2690 - accuracy: 0.8980\n",
      "Epoch 26: val_accuracy improved from 0.88505 to 0.88759, saving model to Best_points_densenet.h\n",
      "INFO:tensorflow:Assets written to: Best_points_densenet.h\\assets\n",
      "2997/2997 [==============================] - 8s 3ms/step - loss: 0.2694 - accuracy: 0.8979 - val_loss: 0.3149 - val_accuracy: 0.8876 - lr: 1.0000e-04\n",
      "Epoch 27/100\n",
      "2979/2997 [============================>.] - ETA: 0s - loss: 0.2626 - accuracy: 0.8993\n",
      "Epoch 27: val_accuracy did not improve from 0.88759\n",
      "2997/2997 [==============================] - 8s 3ms/step - loss: 0.2631 - accuracy: 0.8992 - val_loss: 0.3219 - val_accuracy: 0.8848 - lr: 1.0000e-04\n",
      "Epoch 28/100\n",
      "2972/2997 [============================>.] - ETA: 0s - loss: 0.2561 - accuracy: 0.9026\n",
      "Epoch 28: val_accuracy did not improve from 0.88759\n",
      "2997/2997 [==============================] - 7s 2ms/step - loss: 0.2559 - accuracy: 0.9026 - val_loss: 0.3146 - val_accuracy: 0.8870 - lr: 1.0000e-04\n",
      "Epoch 29/100\n",
      "2985/2997 [============================>.] - ETA: 0s - loss: 0.2526 - accuracy: 0.9024\n",
      "Epoch 29: val_accuracy did not improve from 0.88759\n",
      "2997/2997 [==============================] - 7s 2ms/step - loss: 0.2528 - accuracy: 0.9024 - val_loss: 0.3127 - val_accuracy: 0.8856 - lr: 1.0000e-04\n",
      "Epoch 30/100\n",
      "2984/2997 [============================>.] - ETA: 0s - loss: 0.2473 - accuracy: 0.9040\n",
      "Epoch 30: val_accuracy did not improve from 0.88759\n",
      "2997/2997 [==============================] - 7s 2ms/step - loss: 0.2472 - accuracy: 0.9041 - val_loss: 0.3191 - val_accuracy: 0.8863 - lr: 1.0000e-04\n",
      "Epoch 31/100\n",
      "2969/2997 [============================>.] - ETA: 0s - loss: 0.2406 - accuracy: 0.9068\n",
      "Epoch 31: val_accuracy did not improve from 0.88759\n",
      "2997/2997 [==============================] - 7s 2ms/step - loss: 0.2406 - accuracy: 0.9069 - val_loss: 0.3212 - val_accuracy: 0.8853 - lr: 1.0000e-04\n",
      "Epoch 32/100\n",
      "2971/2997 [============================>.] - ETA: 0s - loss: 0.2347 - accuracy: 0.9077\n",
      "Epoch 32: val_accuracy did not improve from 0.88759\n",
      "2997/2997 [==============================] - 7s 2ms/step - loss: 0.2347 - accuracy: 0.9076 - val_loss: 0.3222 - val_accuracy: 0.8858 - lr: 1.0000e-04\n",
      "Epoch 33/100\n",
      "2995/2997 [============================>.] - ETA: 0s - loss: 0.2097 - accuracy: 0.9170\n",
      "Epoch 33: val_accuracy improved from 0.88759 to 0.88830, saving model to Best_points_densenet.h\n",
      "INFO:tensorflow:Assets written to: Best_points_densenet.h\\assets\n",
      "2997/2997 [==============================] - 8s 3ms/step - loss: 0.2097 - accuracy: 0.9170 - val_loss: 0.3114 - val_accuracy: 0.8883 - lr: 2.0000e-05\n",
      "Epoch 34/100\n",
      "2994/2997 [============================>.] - ETA: 0s - loss: 0.2031 - accuracy: 0.9202\n",
      "Epoch 34: val_accuracy improved from 0.88830 to 0.89007, saving model to Best_points_densenet.h\n",
      "INFO:tensorflow:Assets written to: Best_points_densenet.h\\assets\n",
      "2997/2997 [==============================] - 8s 3ms/step - loss: 0.2031 - accuracy: 0.9201 - val_loss: 0.3111 - val_accuracy: 0.8901 - lr: 2.0000e-05\n",
      "Epoch 35/100\n",
      "2988/2997 [============================>.] - ETA: 0s - loss: 0.1990 - accuracy: 0.9210\n",
      "Epoch 35: val_accuracy did not improve from 0.89007\n",
      "2997/2997 [==============================] - 7s 2ms/step - loss: 0.1991 - accuracy: 0.9210 - val_loss: 0.3113 - val_accuracy: 0.8900 - lr: 2.0000e-05\n",
      "Epoch 36/100\n",
      "2974/2997 [============================>.] - ETA: 0s - loss: 0.1965 - accuracy: 0.9210\n",
      "Epoch 36: val_accuracy did not improve from 0.89007\n",
      "2997/2997 [==============================] - 7s 2ms/step - loss: 0.1964 - accuracy: 0.9210 - val_loss: 0.3106 - val_accuracy: 0.8899 - lr: 2.0000e-05\n",
      "Epoch 37/100\n",
      "2975/2997 [============================>.] - ETA: 0s - loss: 0.1933 - accuracy: 0.9227\n",
      "Epoch 37: val_accuracy improved from 0.89007 to 0.89090, saving model to Best_points_densenet.h\n",
      "INFO:tensorflow:Assets written to: Best_points_densenet.h\\assets\n",
      "2997/2997 [==============================] - 8s 3ms/step - loss: 0.1933 - accuracy: 0.9227 - val_loss: 0.3110 - val_accuracy: 0.8909 - lr: 2.0000e-05\n",
      "Epoch 38/100\n",
      "2994/2997 [============================>.] - ETA: 0s - loss: 0.1933 - accuracy: 0.9219\n",
      "Epoch 38: val_accuracy did not improve from 0.89090\n",
      "2997/2997 [==============================] - 7s 2ms/step - loss: 0.1933 - accuracy: 0.9219 - val_loss: 0.3123 - val_accuracy: 0.8892 - lr: 2.0000e-05\n",
      "Epoch 39/100\n",
      "2976/2997 [============================>.] - ETA: 0s - loss: 0.1906 - accuracy: 0.9231\n",
      "Epoch 39: val_accuracy did not improve from 0.89090\n",
      "2997/2997 [==============================] - 7s 2ms/step - loss: 0.1904 - accuracy: 0.9232 - val_loss: 0.3147 - val_accuracy: 0.8895 - lr: 2.0000e-05\n",
      "Epoch 40/100\n",
      "2974/2997 [============================>.] - ETA: 0s - loss: 0.1867 - accuracy: 0.9256\n",
      "Epoch 40: val_accuracy did not improve from 0.89090\n",
      "2997/2997 [==============================] - 7s 2ms/step - loss: 0.1867 - accuracy: 0.9256 - val_loss: 0.3133 - val_accuracy: 0.8890 - lr: 1.0000e-05\n",
      "Epoch 41/100\n",
      "2995/2997 [============================>.] - ETA: 0s - loss: 0.1867 - accuracy: 0.9245\n",
      "Epoch 41: val_accuracy did not improve from 0.89090\n",
      "2997/2997 [==============================] - 7s 2ms/step - loss: 0.1866 - accuracy: 0.9245 - val_loss: 0.3129 - val_accuracy: 0.8899 - lr: 1.0000e-05\n",
      "Epoch 42/100\n",
      "2974/2997 [============================>.] - ETA: 0s - loss: 0.1848 - accuracy: 0.9259\n",
      "Epoch 42: val_accuracy did not improve from 0.89090\n",
      "2997/2997 [==============================] - 7s 2ms/step - loss: 0.1846 - accuracy: 0.9261 - val_loss: 0.3144 - val_accuracy: 0.8897 - lr: 1.0000e-05\n",
      "Epoch 43/100\n",
      "2986/2997 [============================>.] - ETA: 0s - loss: 0.1843 - accuracy: 0.9263\n",
      "Epoch 43: val_accuracy did not improve from 0.89090\n",
      "2997/2997 [==============================] - 7s 2ms/step - loss: 0.1842 - accuracy: 0.9263 - val_loss: 0.3143 - val_accuracy: 0.8902 - lr: 1.0000e-05\n",
      "Epoch 44/100\n",
      "2982/2997 [============================>.] - ETA: 0s - loss: 0.1820 - accuracy: 0.9272\n",
      "Epoch 44: val_accuracy did not improve from 0.89090\n",
      "2997/2997 [==============================] - 7s 2ms/step - loss: 0.1823 - accuracy: 0.9271 - val_loss: 0.3140 - val_accuracy: 0.8885 - lr: 1.0000e-05\n",
      "Epoch 45/100\n",
      "2993/2997 [============================>.] - ETA: 0s - loss: 0.1825 - accuracy: 0.9264\n",
      "Epoch 45: val_accuracy did not improve from 0.89090\n",
      "2997/2997 [==============================] - 14s 5ms/step - loss: 0.1825 - accuracy: 0.9264 - val_loss: 0.3138 - val_accuracy: 0.8900 - lr: 1.0000e-05\n",
      "Epoch 46/100\n",
      "2986/2997 [============================>.] - ETA: 0s - loss: 0.1823 - accuracy: 0.9272\n",
      "Epoch 46: val_accuracy did not improve from 0.89090\n",
      "2997/2997 [==============================] - 14s 5ms/step - loss: 0.1822 - accuracy: 0.9272 - val_loss: 0.3150 - val_accuracy: 0.8904 - lr: 1.0000e-05\n",
      "Epoch 47/100\n",
      "2994/2997 [============================>.] - ETA: 0s - loss: 0.1816 - accuracy: 0.9271\n",
      "Epoch 47: val_accuracy did not improve from 0.89090\n",
      "2997/2997 [==============================] - 14s 5ms/step - loss: 0.1816 - accuracy: 0.9270 - val_loss: 0.3147 - val_accuracy: 0.8895 - lr: 1.0000e-05\n"
     ]
    }
   ],
   "execution_count": 9
  },
  {
   "cell_type": "code",
   "id": "5aa2888c",
   "metadata": {
    "ExecuteTime": {
     "end_time": "2024-06-05T10:40:33.227356Z",
     "start_time": "2024-06-05T10:40:33.124467Z"
    }
   },
   "source": [
    "# 학습 결과 시각화\n",
    "# Train 및 Validation Accuracy 데이터\n",
    "train_accuracy = history_balance.history['accuracy']\n",
    "val_accuracy = history_balance.history['val_accuracy']\n",
    "train_loss = history_balance.history['loss']\n",
    "val_loss = history_balance.history['val_loss']\n",
    "\n",
    "# 그래프 생성\n",
    "plt.figure(figsize=(10, 6))\n",
    "\n",
    "# Train Accuracy 그래프\n",
    "plt.plot(range(1, len(train_accuracy) + 1), train_accuracy, label='Train Accuracy')\n",
    "\n",
    "# Validation Accuracy 그래프\n",
    "plt.plot(range(1, len(val_accuracy) + 1), val_accuracy, label='Validation Accuracy')\n",
    "\n",
    "plt.plot(range(1, len(train_accuracy) + 1), train_loss, label='Train Loss')\n",
    "\n",
    "plt.plot(range(1, len(train_accuracy) + 1), val_loss, label='Validation Loss')\n",
    "# 그래프 제목 및 축 레이블\n",
    "plt.title('Model Accuracy with DenseNet (Training with bybalanced)')\n",
    "plt.xlabel('Epochs')\n",
    "plt.ylabel('Accuracy')\n",
    "\n",
    "plt.ylim(0, 1)\n",
    "\n",
    "plt.yticks(np.arange(0, 1.1, 0.05))\n",
    "\n",
    "# 범례 추가\n",
    "plt.legend()\n",
    "\n",
    "# 그래프 출력\n",
    "plt.show()"
   ],
   "outputs": [
    {
     "data": {
      "text/plain": [
       "<Figure size 1000x600 with 1 Axes>"
      ],
      "image/png": "[encoded data removed]"
     },
     "metadata": {},
     "output_type": "display_data"
    }
   ],
   "execution_count": 14
  },
  {
   "cell_type": "code",
   "id": "520bbca4",
   "metadata": {
    "ExecuteTime": {
     "end_time": "2024-06-05T10:39:30.130489Z",
     "start_time": "2024-06-05T10:39:29.196820Z"
    }
   },
   "source": [
    "# Evaluate model\n",
    "start_time = time.time()  # 추론 시작 시간\n",
    "predictions = model.predict(test_x_balance)\n",
    "end_time = time.time()  # 추론 종료 시간\n",
    "total_inference_time = end_time - start_time\n",
    "average_inference_time = total_inference_time / len(test_x_balance)\n",
    "\n",
    "# 테스트 데이터에 대한 예측 결과 처리\n",
    "predicted_classes = np.argmax(predictions, axis=1)\n",
    "actual_classes = np.argmax(test_y_balance, axis=1)\n",
    "\n",
    "# 정확도 계산\n",
    "correct_predictions = np.sum(predicted_classes == actual_classes)\n",
    "accuracy = correct_predictions / len(predicted_classes)\n",
    "\n",
    "# 결과 출력\n",
    "print(f\"Correct Predictions: {correct_predictions}\")\n",
    "print(f\"Total Predictions: {len(predicted_classes)}\")\n",
    "print(f\"정확도: {accuracy:.4f}\")\n",
    "print(f\"훈련시간 : {training_time:.2f} seconds.\")\n",
    "print(f\"평균 추론 시간: {average_inference_time:.4f} seconds.\") #각 샘플에 대한 추론 시간을 개별적으로 측정함으로써, 추론에 필요한 시간을 더 정확히 파악"
   ],
   "outputs": [
    {
     "name": "stdout",
     "output_type": "stream",
     "text": [
      "Correct Predictions: 16716\n",
      "Total Predictions: 18799\n",
      "정확도: 0.8892\n",
      "훈련시간 : 477.71 seconds.\n",
      "평균 추론 시간: 0.0000 seconds.\n"
     ]
    }
   ],
   "execution_count": 13
  },
  {
   "cell_type": "markdown",
   "id": "1d3f268e",
   "metadata": {},
   "source": [
    "\n",
    "-------------------"
   ]
  },
  {
   "metadata": {},
   "cell_type": "code",
   "outputs": [],
   "execution_count": null,
   "source": "",
   "id": "11067b095c73a3dc"
  }
 ],
 "metadata": {
  "kernelspec": {
   "display_name": "Python 3 (ipykernel)",
   "language": "python",
   "name": "python3"
  },
  "language_info": {
   "codemirror_mode": {
    "name": "ipython",
    "version": 3
   },
   "file_extension": ".py",
   "mimetype": "text/x-python",
   "name": "python",
   "nbconvert_exporter": "python",
   "pygments_lexer": "ipython3",
   "version": "3.7.16"
  }
 },
 "nbformat": 4,
 "nbformat_minor": 5
}
