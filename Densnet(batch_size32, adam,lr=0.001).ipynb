{
 "cells": [
  {
   "cell_type": "markdown",
   "id": "80632cca",
   "metadata": {
    "id": "o0TqkLkqHpXU"
   },
   "source": [
    "### `Basic setting`"
   ]
  },
  {
   "cell_type": "code",
   "id": "ae003839",
   "metadata": {
    "ExecuteTime": {
     "end_time": "2024-06-05T08:06:18.670311Z",
     "start_time": "2024-06-05T08:06:16.838468Z"
    }
   },
   "source": [
    "import sys\n",
    "\n",
    "assert sys.version_info >= (3, 7)\n",
    "\n",
    "from packaging import version\n",
    "import sklearn\n",
    "print(\"sklearn version: \", sklearn.__version__)\n",
    "assert version.parse(sklearn.__version__) >= version.parse(\"1.0.1\")\n",
    "\n",
    "import tensorflow as tf\n",
    "print(\"TF version: \", tf.__version__)\n",
    "assert version.parse(tf.__version__) >= version.parse(\"2.8.0\")\n",
    "\n",
    "import matplotlib.pyplot as plt\n",
    "\n",
    "# Is this notebook running on Colab or Kaggle?\n",
    "IS_COLAB = \"google.colab\" in sys.modules\n",
    "IS_KAGGLE = \"kaggle_secrets\" in sys.modules\n",
    "\n",
    "if not tf.config.list_physical_devices('GPU'):\n",
    "    print(\"No GPU was detected. Neural nets can be very slow without a GPU.\")\n",
    "    if IS_COLAB:\n",
    "        print(\"Go to Runtime > Change runtime and select a GPU hardware \"\n",
    "              \"accelerator.\")\n",
    "    if IS_KAGGLE:\n",
    "        print(\"Go to Settings > Accelerator and select GPU.\")\n",
    "\n",
    "\n",
    "# To prevent \"CUDNN_STATUS_ALLOC_FAILED\" error with GPUs\n",
    "gpus = tf.config.list_physical_devices('GPU')\n",
    "if gpus:\n",
    "  try:\n",
    "    # Currently, memory growth needs to be the same across GPUs\n",
    "    for gpu in gpus:\n",
    "      tf.config.experimental.set_memory_growth(gpu, True)\n",
    "    logical_gpus = tf.config.list_logical_devices('GPU')\n",
    "    print(len(gpus), \"Physical GPUs,\", len(logical_gpus), \"Logical GPUs\")\n",
    "  except RuntimeError as e:\n",
    "    # Memory growth must be set before GPUs have been initialized\n",
    "    print(e)"
   ],
   "outputs": [
    {
     "name": "stdout",
     "output_type": "stream",
     "text": [
      "sklearn version:  1.0.2\n",
      "TF version:  2.8.0\n",
      "1 Physical GPUs, 1 Logical GPUs\n"
     ]
    }
   ],
   "execution_count": 1
  },
  {
   "cell_type": "code",
   "id": "ebe4b6f1",
   "metadata": {
    "ExecuteTime": {
     "end_time": "2024-06-05T08:06:18.701513Z",
     "start_time": "2024-06-05T08:06:18.670311Z"
    }
   },
   "source": [
    "import os\n",
    "import time\n",
    "import numpy as np\n",
    "import pandas as pd\n",
    "import seaborn as sns\n",
    "import tensorflow as tf\n",
    "import matplotlib.pyplot as plt\n",
    "from pathlib import Path\n",
    "from sklearn.model_selection import train_test_split\n",
    "from tensorflow.keras.layers import Conv2D, AveragePooling2D, Flatten, Dense, Dropout, BatchNormalization, LeakyReLU, ReLU, ELU\n",
    "from tensorflow.keras.callbacks import EarlyStopping, ReduceLROnPlateau, ModelCheckpoint\n",
    "from tensorflow.keras.optimizers import Adam\n",
    "from tensorflow.keras.optimizers import SGD\n",
    "np.random.seed(42)\n"
   ],
   "outputs": [],
   "execution_count": 2
  },
  {
   "cell_type": "code",
   "id": "65e65b99",
   "metadata": {
    "scrolled": true,
    "ExecuteTime": {
     "end_time": "2024-06-05T08:06:18.717526Z",
     "start_time": "2024-06-05T08:06:18.701513Z"
    }
   },
   "source": [
    "# check GPU\n",
    "from tensorflow.python.client import device_lib\n",
    "device_lib.list_local_devices()"
   ],
   "outputs": [
    {
     "data": {
      "text/plain": [
       "[name: \"/device:CPU:0\"\n",
       " device_type: \"CPU\"\n",
       " memory_limit: 268435456\n",
       " locality {\n",
       " }\n",
       " incarnation: 1268015287719876465\n",
       " xla_global_id: -1,\n",
       " name: \"/device:GPU:0\"\n",
       " device_type: \"GPU\"\n",
       " memory_limit: 9879683072\n",
       " locality {\n",
       "   bus_id: 1\n",
       "   links {\n",
       "   }\n",
       " }\n",
       " incarnation: 6781127009661624419\n",
       " physical_device_desc: \"device: 0, name: NVIDIA GeForce RTX 3080 Ti, pci bus id: 0000:01:00.0, compute capability: 8.6\"\n",
       " xla_global_id: 416903419]"
      ]
     },
     "execution_count": 3,
     "metadata": {},
     "output_type": "execute_result"
    }
   ],
   "execution_count": 3
  },
  {
   "cell_type": "markdown",
   "id": "4496db74",
   "metadata": {
    "id": "bkxLQcpqG0PR"
   },
   "source": [
    "### `Load dataset (by_merge)`"
   ]
  },
  {
   "cell_type": "code",
   "id": "17f47f2c",
   "metadata": {
    "ExecuteTime": {
     "end_time": "2024-06-05T08:06:18.733153Z",
     "start_time": "2024-06-05T08:06:18.717526Z"
    }
   },
   "source": [
    "# Hyper parameter setting\n",
    "BATCH_SIZE = 32\n",
    "EPOCHS = 100\n",
    "VALIDATION_SPLIT = 0.15\n",
    "LEARNING_RATE = 0.0001\n",
    "PATIENCE = 10\n",
    "MIN_LEARNING_RATE = 0.00001\n",
    "DECAY_FACTOR = 0.2\n",
    "DENSE_LAYER_ACTIVATION = 'elu'\n",
    "FINAL_LAYER_ACTIVATION = 'softmax'\n",
    "LOSS_FUNCTION = 'categorical_crossentropy'\n",
    "METRICS = ['accuracy']\n",
    "optimizer = Adam(learning_rate=LEARNING_RATE)\n",
    "\n",
    "CHECK_POINT_BALANCE = 'Best_points_densenet.h'"
   ],
   "outputs": [],
   "execution_count": 4
  },
  {
   "cell_type": "markdown",
   "id": "9daac484",
   "metadata": {
    "id": "bkxLQcpqG0PR"
   },
   "source": [
    "### `Load dataset (by_balanced)`"
   ]
  },
  {
   "cell_type": "code",
   "id": "2bc7f70a",
   "metadata": {
    "ExecuteTime": {
     "end_time": "2024-06-05T08:06:22.669264Z",
     "start_time": "2024-06-05T08:06:18.733153Z"
    }
   },
   "source": [
    "# 데이터 불러오기\n",
    "testing_set_balance = pd.read_csv('emnist-balanced-test.csv')\n",
    "training_set_balance = pd.read_csv('emnist-balanced-train.csv')\n",
    "\n",
    "\n",
    "# 훈련 데이터와 레이블 추출\n",
    "train_y_balance = np.array(training_set_balance.iloc[:, 0].values)\n",
    "train_x_balance = np.array(training_set_balance.iloc[:, 1:].values)\n",
    "\n",
    "# 테스트 데이터와 레이블 추출\n",
    "test_y_balance = np.array(testing_set_balance.iloc[:, 0].values)\n",
    "test_x_balance = np.array(testing_set_balance.iloc[:, 1:].values)\n",
    "\n",
    "# 데이터 정규화\n",
    "train_x_balance = train_x_balance / 255.0\n",
    "test_x_balance = test_x_balance / 255.0\n",
    "\n",
    "# 이미지 크기 재조정 (데이터 차원 변경)\n",
    "images_height = 28\n",
    "images_width = 28\n",
    "train_x_balance = train_x_balance.reshape(train_x_balance.shape[0], images_height, images_width, 1)\n",
    "test_x_balance = test_x_balance.reshape(test_x_balance.shape[0], images_height, images_width, 1)\n",
    "\n",
    "# 클래스 수 = 47\n",
    "number_of_classes = 47\n",
    "\n",
    "# 레이블 원-핫 인코딩\n",
    "train_y_balance = tf.keras.utils.to_categorical(train_y_balance, number_of_classes)\n",
    "test_y_balance = tf.keras.utils.to_categorical(test_y_balance, number_of_classes)\n",
    "\n",
    "#VALIDATION_SPLIT = 0.15\n",
    "train_x_balance, val_x_balance, train_y_balance, val_y_balance = train_test_split(train_x_balance, train_y_balance, \n",
    "                                                                              test_size=VALIDATION_SPLIT, random_state=42)"
   ],
   "outputs": [],
   "execution_count": 5
  },
  {
   "cell_type": "code",
   "id": "5610cede",
   "metadata": {
    "ExecuteTime": {
     "end_time": "2024-06-05T08:06:22.684851Z",
     "start_time": "2024-06-05T08:06:22.669264Z"
    }
   },
   "source": [
    "from tensorflow.keras.callbacks import EarlyStopping, ReduceLROnPlateau,ModelCheckpoint\n",
    "from sklearn.model_selection import train_test_split\n",
    "from tensorflow.keras.applications import ResNet50\n",
    "from tensorflow.keras.layers import Conv2D, Input,MaxPooling2D, Dense, Flatten ,Activation ,  BatchNormalization , Dropout ,AveragePooling2D\n",
    "from tensorflow.keras.models import Model\n",
    "from functools import partial\n"
   ],
   "outputs": [],
   "execution_count": 6
  },
  {
   "cell_type": "markdown",
   "id": "2473c059",
   "metadata": {},
   "source": "#### Training PersonalModelwith bybalanced dataset"
  },
  {
   "metadata": {
    "ExecuteTime": {
     "end_time": "2024-06-05T08:06:22.752911Z",
     "start_time": "2024-06-05T08:06:22.685989Z"
    }
   },
   "cell_type": "code",
   "source": [
    "# Define Densenet\n",
    "model = tf.keras.Sequential([\n",
    "    Conv2D(16, kernel_size=(5, 5), activation=DENSE_LAYER_ACTIVATION, input_shape=(28, 28, 1), padding='same'),\n",
    "    AveragePooling2D(),\n",
    "    # Conv2D(16, kernel_size=(3, 3), activation=DENSE_LAYER_ACTIVATION, padding='same'),\n",
    "    # BatchNormalization(),\n",
    "    # AveragePooling2D(),\n",
    "    Conv2D(32, kernel_size=(5, 5), activation=DENSE_LAYER_ACTIVATION, padding='same'),\n",
    "    BatchNormalization(),\n",
    "    AveragePooling2D(),\n",
    "    Conv2D(64, kernel_size=(5, 5), activation=DENSE_LAYER_ACTIVATION, padding='same'),\n",
    "    BatchNormalization(),\n",
    "    AveragePooling2D(),\n",
    "    Conv2D(128, kernel_size=(5, 5), activation=DENSE_LAYER_ACTIVATION, padding='same'),\n",
    "    BatchNormalization(),\n",
    "    AveragePooling2D(pool_size=(1, 1)),\n",
    "    Flatten(),\n",
    "    Dense(128, activation=DENSE_LAYER_ACTIVATION),\n",
    "    Dropout(0.5),\n",
    "    Dense(number_of_classes, activation=FINAL_LAYER_ACTIVATION)\n",
    "])\n",
    "\n",
    "#model.summary()"
   ],
   "id": "fa5ba5a9d110466f",
   "outputs": [],
   "execution_count": 7
  },
  {
   "cell_type": "code",
   "id": "1d7bbfff",
   "metadata": {
    "ExecuteTime": {
     "end_time": "2024-06-05T08:06:22.768810Z",
     "start_time": "2024-06-05T08:06:22.753186Z"
    }
   },
   "source": [
    "# 모델 컴파일\n",
    "#LOSS_FUNCTION = 'categorical_crossentropy'\n",
    "#LEARNING_RATE = 0.001\n",
    "#METRICS = ['accuracy']\n",
    "\n",
    "model.compile(optimizer=optimizer,\n",
    "            loss=LOSS_FUNCTION,\n",
    "            metrics=METRICS)\n",
    "\n",
    "# 콜백 설정\n",
    "#DECAY_FACTOR = 0.2\n",
    "#PATIENCE = 3\n",
    "#MIN_LEARNING_RATE = 0.0001\n",
    "\n",
    "callbacks_balance = [\n",
    "    ModelCheckpoint(CHECK_POINT_BALANCE, verbose=1, save_best_only=True, monitor='val_accuracy', mode='max'),\n",
    "    EarlyStopping(monitor='val_accuracy', restore_best_weights=True, patience=PATIENCE, mode='max'),\n",
    "    ReduceLROnPlateau(monitor='val_loss', patience=3, factor=DECAY_FACTOR, min_lr=MIN_LEARNING_RATE)\n",
    "]\n"
   ],
   "outputs": [],
   "execution_count": 8
  },
  {
   "cell_type": "code",
   "id": "7124dfa4",
   "metadata": {
    "ExecuteTime": {
     "end_time": "2024-06-05T08:11:48.457528Z",
     "start_time": "2024-06-05T08:06:22.768810Z"
    }
   },
   "source": [
    "start_time = time.time()  # 학습 시작 시간\n",
    "\n",
    "# 모델 학습\n",
    "history_balance = model.fit(train_x_balance, train_y_balance, batch_size=BATCH_SIZE, epochs=EPOCHS, \n",
    "                                validation_data=(val_x_balance, val_y_balance), callbacks=callbacks_balance)\n",
    "\n",
    "training_time = time.time() - start_time"
   ],
   "outputs": [
    {
     "name": "stdout",
     "output_type": "stream",
     "text": [
      "Epoch 1/100\n",
      "2997/2997 [==============================] - ETA: 0s - loss: 1.5841 - accuracy: 0.5532\n",
      "Epoch 1: val_accuracy improved from -inf to 0.76584, saving model to Best_points_densenet.h\n",
      "INFO:tensorflow:Assets written to: Best_points_densenet.h\\assets\n",
      "2997/2997 [==============================] - 10s 3ms/step - loss: 1.5841 - accuracy: 0.5532 - val_loss: 0.7498 - val_accuracy: 0.7658 - lr: 1.0000e-04\n",
      "Epoch 2/100\n",
      "2992/2997 [============================>.] - ETA: 0s - loss: 0.8912 - accuracy: 0.7281\n",
      "Epoch 2: val_accuracy improved from 0.76584 to 0.81241, saving model to Best_points_densenet.h\n",
      "INFO:tensorflow:Assets written to: Best_points_densenet.h\\assets\n",
      "2997/2997 [==============================] - 7s 2ms/step - loss: 0.8912 - accuracy: 0.7281 - val_loss: 0.5654 - val_accuracy: 0.8124 - lr: 1.0000e-04\n",
      "Epoch 3/100\n",
      "2991/2997 [============================>.] - ETA: 0s - loss: 0.7136 - accuracy: 0.7751\n",
      "Epoch 3: val_accuracy improved from 0.81241 to 0.83528, saving model to Best_points_densenet.h\n",
      "INFO:tensorflow:Assets written to: Best_points_densenet.h\\assets\n",
      "2997/2997 [==============================] - 8s 3ms/step - loss: 0.7133 - accuracy: 0.7752 - val_loss: 0.4878 - val_accuracy: 0.8353 - lr: 1.0000e-04\n",
      "Epoch 4/100\n",
      "2992/2997 [============================>.] - ETA: 0s - loss: 0.6224 - accuracy: 0.7987\n",
      "Epoch 4: val_accuracy improved from 0.83528 to 0.83871, saving model to Best_points_densenet.h\n",
      "INFO:tensorflow:Assets written to: Best_points_densenet.h\\assets\n",
      "2997/2997 [==============================] - 8s 3ms/step - loss: 0.6225 - accuracy: 0.7988 - val_loss: 0.4661 - val_accuracy: 0.8387 - lr: 1.0000e-04\n",
      "Epoch 5/100\n",
      "2975/2997 [============================>.] - ETA: 0s - loss: 0.5644 - accuracy: 0.8145\n",
      "Epoch 5: val_accuracy improved from 0.83871 to 0.84716, saving model to Best_points_densenet.h\n",
      "INFO:tensorflow:Assets written to: Best_points_densenet.h\\assets\n",
      "2997/2997 [==============================] - 8s 3ms/step - loss: 0.5642 - accuracy: 0.8145 - val_loss: 0.4320 - val_accuracy: 0.8472 - lr: 1.0000e-04\n",
      "Epoch 6/100\n",
      "2988/2997 [============================>.] - ETA: 0s - loss: 0.5219 - accuracy: 0.8285\n",
      "Epoch 6: val_accuracy improved from 0.84716 to 0.85372, saving model to Best_points_densenet.h\n",
      "INFO:tensorflow:Assets written to: Best_points_densenet.h\\assets\n",
      "2997/2997 [==============================] - 8s 3ms/step - loss: 0.5222 - accuracy: 0.8284 - val_loss: 0.4185 - val_accuracy: 0.8537 - lr: 1.0000e-04\n",
      "Epoch 7/100\n",
      "2990/2997 [============================>.] - ETA: 0s - loss: 0.4913 - accuracy: 0.8355\n",
      "Epoch 7: val_accuracy improved from 0.85372 to 0.86342, saving model to Best_points_densenet.h\n",
      "INFO:tensorflow:Assets written to: Best_points_densenet.h\\assets\n",
      "2997/2997 [==============================] - 8s 3ms/step - loss: 0.4913 - accuracy: 0.8354 - val_loss: 0.3908 - val_accuracy: 0.8634 - lr: 1.0000e-04\n",
      "Epoch 8/100\n",
      "2987/2997 [============================>.] - ETA: 0s - loss: 0.4636 - accuracy: 0.8425\n",
      "Epoch 8: val_accuracy improved from 0.86342 to 0.86690, saving model to Best_points_densenet.h\n",
      "INFO:tensorflow:Assets written to: Best_points_densenet.h\\assets\n",
      "2997/2997 [==============================] - 8s 3ms/step - loss: 0.4636 - accuracy: 0.8425 - val_loss: 0.3797 - val_accuracy: 0.8669 - lr: 1.0000e-04\n",
      "Epoch 9/100\n",
      "2991/2997 [============================>.] - ETA: 0s - loss: 0.4435 - accuracy: 0.8493\n",
      "Epoch 9: val_accuracy did not improve from 0.86690\n",
      "2997/2997 [==============================] - 7s 2ms/step - loss: 0.4434 - accuracy: 0.8492 - val_loss: 0.3757 - val_accuracy: 0.8646 - lr: 1.0000e-04\n",
      "Epoch 10/100\n",
      "2971/2997 [============================>.] - ETA: 0s - loss: 0.4254 - accuracy: 0.8543\n",
      "Epoch 10: val_accuracy improved from 0.86690 to 0.86980, saving model to Best_points_densenet.h\n",
      "INFO:tensorflow:Assets written to: Best_points_densenet.h\\assets\n",
      "2997/2997 [==============================] - 8s 3ms/step - loss: 0.4257 - accuracy: 0.8543 - val_loss: 0.3664 - val_accuracy: 0.8698 - lr: 1.0000e-04\n",
      "Epoch 11/100\n",
      "2976/2997 [============================>.] - ETA: 0s - loss: 0.4100 - accuracy: 0.8584\n",
      "Epoch 11: val_accuracy improved from 0.86980 to 0.87116, saving model to Best_points_densenet.h\n",
      "INFO:tensorflow:Assets written to: Best_points_densenet.h\\assets\n",
      "2997/2997 [==============================] - 8s 3ms/step - loss: 0.4097 - accuracy: 0.8585 - val_loss: 0.3596 - val_accuracy: 0.8712 - lr: 1.0000e-04\n",
      "Epoch 12/100\n",
      "2983/2997 [============================>.] - ETA: 0s - loss: 0.3966 - accuracy: 0.8619\n",
      "Epoch 12: val_accuracy improved from 0.87116 to 0.87476, saving model to Best_points_densenet.h\n",
      "INFO:tensorflow:Assets written to: Best_points_densenet.h\\assets\n",
      "2997/2997 [==============================] - 8s 3ms/step - loss: 0.3969 - accuracy: 0.8618 - val_loss: 0.3465 - val_accuracy: 0.8748 - lr: 1.0000e-04\n",
      "Epoch 13/100\n",
      "2980/2997 [============================>.] - ETA: 0s - loss: 0.3840 - accuracy: 0.8646\n",
      "Epoch 13: val_accuracy did not improve from 0.87476\n",
      "2997/2997 [==============================] - 7s 2ms/step - loss: 0.3839 - accuracy: 0.8647 - val_loss: 0.3477 - val_accuracy: 0.8732 - lr: 1.0000e-04\n",
      "Epoch 14/100\n",
      "2984/2997 [============================>.] - ETA: 0s - loss: 0.3700 - accuracy: 0.8693\n",
      "Epoch 14: val_accuracy improved from 0.87476 to 0.87790, saving model to Best_points_densenet.h\n",
      "INFO:tensorflow:Assets written to: Best_points_densenet.h\\assets\n",
      "2997/2997 [==============================] - 8s 3ms/step - loss: 0.3701 - accuracy: 0.8692 - val_loss: 0.3342 - val_accuracy: 0.8779 - lr: 1.0000e-04\n",
      "Epoch 15/100\n",
      "2989/2997 [============================>.] - ETA: 0s - loss: 0.3577 - accuracy: 0.8732\n",
      "Epoch 15: val_accuracy did not improve from 0.87790\n",
      "2997/2997 [==============================] - 7s 2ms/step - loss: 0.3577 - accuracy: 0.8732 - val_loss: 0.3383 - val_accuracy: 0.8767 - lr: 1.0000e-04\n",
      "Epoch 16/100\n",
      "2997/2997 [==============================] - ETA: 0s - loss: 0.3473 - accuracy: 0.8760\n",
      "Epoch 16: val_accuracy did not improve from 0.87790\n",
      "2997/2997 [==============================] - 7s 2ms/step - loss: 0.3473 - accuracy: 0.8760 - val_loss: 0.3371 - val_accuracy: 0.8771 - lr: 1.0000e-04\n",
      "Epoch 17/100\n",
      "2993/2997 [============================>.] - ETA: 0s - loss: 0.3383 - accuracy: 0.8788\n",
      "Epoch 17: val_accuracy improved from 0.87790 to 0.88191, saving model to Best_points_densenet.h\n",
      "INFO:tensorflow:Assets written to: Best_points_densenet.h\\assets\n",
      "2997/2997 [==============================] - 8s 3ms/step - loss: 0.3383 - accuracy: 0.8788 - val_loss: 0.3229 - val_accuracy: 0.8819 - lr: 1.0000e-04\n",
      "Epoch 18/100\n",
      "2977/2997 [============================>.] - ETA: 0s - loss: 0.3285 - accuracy: 0.8810\n",
      "Epoch 18: val_accuracy did not improve from 0.88191\n",
      "2997/2997 [==============================] - 7s 2ms/step - loss: 0.3285 - accuracy: 0.8809 - val_loss: 0.3292 - val_accuracy: 0.8801 - lr: 1.0000e-04\n",
      "Epoch 19/100\n",
      "2976/2997 [============================>.] - ETA: 0s - loss: 0.3197 - accuracy: 0.8836\n",
      "Epoch 19: val_accuracy did not improve from 0.88191\n",
      "2997/2997 [==============================] - 7s 2ms/step - loss: 0.3202 - accuracy: 0.8834 - val_loss: 0.3249 - val_accuracy: 0.8819 - lr: 1.0000e-04\n",
      "Epoch 20/100\n",
      "2979/2997 [============================>.] - ETA: 0s - loss: 0.3133 - accuracy: 0.8853\n",
      "Epoch 20: val_accuracy improved from 0.88191 to 0.88197, saving model to Best_points_densenet.h\n",
      "INFO:tensorflow:Assets written to: Best_points_densenet.h\\assets\n",
      "2997/2997 [==============================] - 8s 3ms/step - loss: 0.3132 - accuracy: 0.8854 - val_loss: 0.3193 - val_accuracy: 0.8820 - lr: 1.0000e-04\n",
      "Epoch 21/100\n",
      "2973/2997 [============================>.] - ETA: 0s - loss: 0.3032 - accuracy: 0.8880\n",
      "Epoch 21: val_accuracy improved from 0.88197 to 0.88257, saving model to Best_points_densenet.h\n",
      "INFO:tensorflow:Assets written to: Best_points_densenet.h\\assets\n",
      "2997/2997 [==============================] - 8s 3ms/step - loss: 0.3033 - accuracy: 0.8881 - val_loss: 0.3249 - val_accuracy: 0.8826 - lr: 1.0000e-04\n",
      "Epoch 22/100\n",
      "2975/2997 [============================>.] - ETA: 0s - loss: 0.2979 - accuracy: 0.8886\n",
      "Epoch 22: val_accuracy improved from 0.88257 to 0.88564, saving model to Best_points_densenet.h\n",
      "INFO:tensorflow:Assets written to: Best_points_densenet.h\\assets\n",
      "2997/2997 [==============================] - 8s 3ms/step - loss: 0.2981 - accuracy: 0.8886 - val_loss: 0.3173 - val_accuracy: 0.8856 - lr: 1.0000e-04\n",
      "Epoch 23/100\n",
      "2989/2997 [============================>.] - ETA: 0s - loss: 0.2893 - accuracy: 0.8922\n",
      "Epoch 23: val_accuracy did not improve from 0.88564\n",
      "2997/2997 [==============================] - 7s 2ms/step - loss: 0.2894 - accuracy: 0.8922 - val_loss: 0.3208 - val_accuracy: 0.8825 - lr: 1.0000e-04\n",
      "Epoch 24/100\n",
      "2981/2997 [============================>.] - ETA: 0s - loss: 0.2840 - accuracy: 0.8931\n",
      "Epoch 24: val_accuracy did not improve from 0.88564\n",
      "2997/2997 [==============================] - 7s 2ms/step - loss: 0.2840 - accuracy: 0.8931 - val_loss: 0.3171 - val_accuracy: 0.8824 - lr: 1.0000e-04\n",
      "Epoch 25/100\n",
      "2980/2997 [============================>.] - ETA: 0s - loss: 0.2771 - accuracy: 0.8954\n",
      "Epoch 25: val_accuracy did not improve from 0.88564\n",
      "2997/2997 [==============================] - 7s 2ms/step - loss: 0.2773 - accuracy: 0.8953 - val_loss: 0.3162 - val_accuracy: 0.8856 - lr: 1.0000e-04\n",
      "Epoch 26/100\n",
      "2980/2997 [============================>.] - ETA: 0s - loss: 0.2703 - accuracy: 0.8971\n",
      "Epoch 26: val_accuracy improved from 0.88564 to 0.88570, saving model to Best_points_densenet.h\n",
      "INFO:tensorflow:Assets written to: Best_points_densenet.h\\assets\n",
      "2997/2997 [==============================] - 8s 3ms/step - loss: 0.2705 - accuracy: 0.8970 - val_loss: 0.3200 - val_accuracy: 0.8857 - lr: 1.0000e-04\n",
      "Epoch 27/100\n",
      "2978/2997 [============================>.] - ETA: 0s - loss: 0.2648 - accuracy: 0.8990\n",
      "Epoch 27: val_accuracy improved from 0.88570 to 0.88652, saving model to Best_points_densenet.h\n",
      "INFO:tensorflow:Assets written to: Best_points_densenet.h\\assets\n",
      "2997/2997 [==============================] - 8s 3ms/step - loss: 0.2650 - accuracy: 0.8989 - val_loss: 0.3116 - val_accuracy: 0.8865 - lr: 1.0000e-04\n",
      "Epoch 28/100\n",
      "2969/2997 [============================>.] - ETA: 0s - loss: 0.2604 - accuracy: 0.8992\n",
      "Epoch 28: val_accuracy did not improve from 0.88652\n",
      "2997/2997 [==============================] - 7s 2ms/step - loss: 0.2604 - accuracy: 0.8992 - val_loss: 0.3215 - val_accuracy: 0.8863 - lr: 1.0000e-04\n",
      "Epoch 29/100\n",
      "2987/2997 [============================>.] - ETA: 0s - loss: 0.2543 - accuracy: 0.9019\n",
      "Epoch 29: val_accuracy improved from 0.88652 to 0.88682, saving model to Best_points_densenet.h\n",
      "INFO:tensorflow:Assets written to: Best_points_densenet.h\\assets\n",
      "2997/2997 [==============================] - 7s 2ms/step - loss: 0.2545 - accuracy: 0.9018 - val_loss: 0.3131 - val_accuracy: 0.8868 - lr: 1.0000e-04\n",
      "Epoch 30/100\n",
      "2986/2997 [============================>.] - ETA: 0s - loss: 0.2480 - accuracy: 0.9030\n",
      "Epoch 30: val_accuracy did not improve from 0.88682\n",
      "2997/2997 [==============================] - 7s 2ms/step - loss: 0.2480 - accuracy: 0.9030 - val_loss: 0.3195 - val_accuracy: 0.8858 - lr: 1.0000e-04\n",
      "Epoch 31/100\n",
      "2990/2997 [============================>.] - ETA: 0s - loss: 0.2426 - accuracy: 0.9049\n",
      "Epoch 31: val_accuracy improved from 0.88682 to 0.88747, saving model to Best_points_densenet.h\n",
      "INFO:tensorflow:Assets written to: Best_points_densenet.h\\assets\n",
      "2997/2997 [==============================] - 8s 3ms/step - loss: 0.2425 - accuracy: 0.9050 - val_loss: 0.3177 - val_accuracy: 0.8875 - lr: 1.0000e-04\n",
      "Epoch 32/100\n",
      "2995/2997 [============================>.] - ETA: 0s - loss: 0.2385 - accuracy: 0.9068\n",
      "Epoch 32: val_accuracy did not improve from 0.88747\n",
      "2997/2997 [==============================] - 7s 2ms/step - loss: 0.2385 - accuracy: 0.9068 - val_loss: 0.3226 - val_accuracy: 0.8846 - lr: 1.0000e-04\n",
      "Epoch 33/100\n",
      "2971/2997 [============================>.] - ETA: 0s - loss: 0.2328 - accuracy: 0.9089\n",
      "Epoch 33: val_accuracy improved from 0.88747 to 0.88759, saving model to Best_points_densenet.h\n",
      "INFO:tensorflow:Assets written to: Best_points_densenet.h\\assets\n",
      "2997/2997 [==============================] - 8s 3ms/step - loss: 0.2327 - accuracy: 0.9089 - val_loss: 0.3216 - val_accuracy: 0.8876 - lr: 1.0000e-04\n",
      "Epoch 34/100\n",
      "2979/2997 [============================>.] - ETA: 0s - loss: 0.2270 - accuracy: 0.9100\n",
      "Epoch 34: val_accuracy improved from 0.88759 to 0.88966, saving model to Best_points_densenet.h\n",
      "INFO:tensorflow:Assets written to: Best_points_densenet.h\\assets\n",
      "2997/2997 [==============================] - 7s 2ms/step - loss: 0.2271 - accuracy: 0.9100 - val_loss: 0.3168 - val_accuracy: 0.8897 - lr: 1.0000e-04\n",
      "Epoch 35/100\n",
      "2982/2997 [============================>.] - ETA: 0s - loss: 0.2230 - accuracy: 0.9104\n",
      "Epoch 35: val_accuracy did not improve from 0.88966\n",
      "2997/2997 [==============================] - 7s 2ms/step - loss: 0.2230 - accuracy: 0.9105 - val_loss: 0.3234 - val_accuracy: 0.8870 - lr: 1.0000e-04\n",
      "Epoch 36/100\n",
      "2975/2997 [============================>.] - ETA: 0s - loss: 0.2204 - accuracy: 0.9117\n",
      "Epoch 36: val_accuracy did not improve from 0.88966\n",
      "2997/2997 [==============================] - 7s 2ms/step - loss: 0.2203 - accuracy: 0.9117 - val_loss: 0.3263 - val_accuracy: 0.8850 - lr: 1.0000e-04\n",
      "Epoch 37/100\n",
      "2987/2997 [============================>.] - ETA: 0s - loss: 0.2150 - accuracy: 0.9139\n",
      "Epoch 37: val_accuracy did not improve from 0.88966\n",
      "2997/2997 [==============================] - 7s 2ms/step - loss: 0.2149 - accuracy: 0.9139 - val_loss: 0.3260 - val_accuracy: 0.8889 - lr: 1.0000e-04\n",
      "Epoch 38/100\n",
      "2978/2997 [============================>.] - ETA: 0s - loss: 0.2097 - accuracy: 0.9156\n",
      "Epoch 38: val_accuracy did not improve from 0.88966\n",
      "2997/2997 [==============================] - 7s 2ms/step - loss: 0.2097 - accuracy: 0.9156 - val_loss: 0.3300 - val_accuracy: 0.8865 - lr: 1.0000e-04\n",
      "Epoch 39/100\n",
      "2979/2997 [============================>.] - ETA: 0s - loss: 0.2042 - accuracy: 0.9170\n",
      "Epoch 39: val_accuracy did not improve from 0.88966\n",
      "2997/2997 [==============================] - 7s 2ms/step - loss: 0.2042 - accuracy: 0.9170 - val_loss: 0.3299 - val_accuracy: 0.8895 - lr: 1.0000e-04\n",
      "Epoch 40/100\n",
      "2990/2997 [============================>.] - ETA: 0s - loss: 0.2006 - accuracy: 0.9177\n",
      "Epoch 40: val_accuracy did not improve from 0.88966\n",
      "2997/2997 [==============================] - 7s 2ms/step - loss: 0.2005 - accuracy: 0.9177 - val_loss: 0.3355 - val_accuracy: 0.8877 - lr: 1.0000e-04\n",
      "Epoch 41/100\n",
      "2971/2997 [============================>.] - ETA: 0s - loss: 0.1967 - accuracy: 0.9192\n",
      "Epoch 41: val_accuracy did not improve from 0.88966\n",
      "2997/2997 [==============================] - 7s 2ms/step - loss: 0.1969 - accuracy: 0.9190 - val_loss: 0.3389 - val_accuracy: 0.8869 - lr: 1.0000e-04\n",
      "Epoch 42/100\n",
      "2979/2997 [============================>.] - ETA: 0s - loss: 0.1943 - accuracy: 0.9213\n",
      "Epoch 42: val_accuracy did not improve from 0.88966\n",
      "2997/2997 [==============================] - 7s 2ms/step - loss: 0.1943 - accuracy: 0.9213 - val_loss: 0.3462 - val_accuracy: 0.8868 - lr: 1.0000e-04\n",
      "Epoch 43/100\n",
      "2991/2997 [============================>.] - ETA: 0s - loss: 0.1898 - accuracy: 0.9216\n",
      "Epoch 43: val_accuracy did not improve from 0.88966\n",
      "2997/2997 [==============================] - 7s 2ms/step - loss: 0.1898 - accuracy: 0.9217 - val_loss: 0.3468 - val_accuracy: 0.8862 - lr: 1.0000e-04\n",
      "Epoch 44/100\n",
      "2984/2997 [============================>.] - ETA: 0s - loss: 0.1866 - accuracy: 0.9229\n",
      "Epoch 44: val_accuracy did not improve from 0.88966\n",
      "2997/2997 [==============================] - 7s 2ms/step - loss: 0.1866 - accuracy: 0.9229 - val_loss: 0.3489 - val_accuracy: 0.8866 - lr: 1.0000e-04\n"
     ]
    }
   ],
   "execution_count": 9
  },
  {
   "cell_type": "code",
   "id": "5aa2888c",
   "metadata": {
    "ExecuteTime": {
     "end_time": "2024-06-05T08:14:31.085503Z",
     "start_time": "2024-06-05T08:14:30.969786Z"
    }
   },
   "source": [
    "# 학습 결과 시각화\n",
    "# Train 및 Validation Accuracy 데이터\n",
    "train_accuracy = history_balance.history['accuracy']\n",
    "val_accuracy = history_balance.history['val_accuracy']\n",
    "train_loss = history_balance.history['loss']\n",
    "val_loss = history_balance.history['val_loss']\n",
    "\n",
    "# 그래프 생성\n",
    "plt.figure(figsize=(10, 6))\n",
    "\n",
    "# Train Accuracy 그래프\n",
    "plt.plot(range(1, len(train_accuracy) + 1), train_accuracy, label='Train Accuracy')\n",
    "\n",
    "# Validation Accuracy 그래프\n",
    "plt.plot(range(1, len(val_accuracy) + 1), val_accuracy, label='Validation Accuracy')\n",
    "\n",
    "plt.plot(range(1, len(train_accuracy) + 1), train_loss, label='Train Loss')\n",
    "\n",
    "plt.plot(range(1, len(train_accuracy) + 1), val_loss, label='Validation Loss')\n",
    "# 그래프 제목 및 축 레이블\n",
    "plt.title('Model Accuracy with DenseNet (Training with bybalanced)')\n",
    "plt.xlabel('Epochs')\n",
    "plt.ylabel('Accuracy')\n",
    "\n",
    "plt.ylim(0, 1)\n",
    "\n",
    "plt.yticks(np.arange(0, 1.1, 0.05))\n",
    "\n",
    "# 범례 추가\n",
    "plt.legend()\n",
    "\n",
    "# 그래프 출력\n",
    "plt.show()"
   ],
   "outputs": [
    {
     "data": {
      "text/plain": [
       "<Figure size 1000x600 with 1 Axes>"
      ],
      "image/png": "[encoded data removed]"
     },
     "metadata": {},
     "output_type": "display_data"
    }
   ],
   "execution_count": 12
  },
  {
   "cell_type": "code",
   "id": "520bbca4",
   "metadata": {
    "ExecuteTime": {
     "end_time": "2024-06-05T08:42:53.972064Z",
     "start_time": "2024-06-05T08:42:53.909210Z"
    }
   },
   "source": [
    "# Evaluate model\n",
    "start_time = time.time()  # 추론 시작 시간\n",
    "predictions = model.predict(test_x_balance)\n",
    "end_time = time.time()  # 추론 종료 시간\n",
    "total_inference_time = end_time - start_time\n",
    "average_inference_time = total_inference_time / len(test_x_balance)\n",
    "\n",
    "# 테스트 데이터에 대한 예측 결과 처리\n",
    "predicted_classes = np.argmax(predictions, axis=1)\n",
    "actual_classes = np.argmax(test_y_balance, axis=1)\n",
    "\n",
    "# 정확도 계산\n",
    "correct_predictions = np.sum(predicted_classes == actual_classes)\n",
    "accuracy = correct_predictions / len(predicted_classes)\n",
    "\n",
    "# 결과 출력\n",
    "print(f\"Correct Predictions: {correct_predictions}\")\n",
    "print(f\"Total Predictions: {len(predicted_classes)}\")\n",
    "print(f\"정확도: {accuracy:.4f}\")\n",
    "print(f\"훈련시간 : {training_time:.2f} seconds.\")\n",
    "print(f\"평균 추론 시간: {average_inference_time:.4f} seconds.\") #각 샘플에 대한 추론 시간을 개별적으로 측정함으로써, 추론에 필요한 시간을 더 정확히 파악"
   ],
   "outputs": [
    {
     "ename": "NameError",
     "evalue": "name 'time' is not defined",
     "output_type": "error",
     "traceback": [
      "\u001B[1;31m---------------------------------------------------------------------------\u001B[0m",
      "\u001B[1;31mNameError\u001B[0m                                 Traceback (most recent call last)",
      "\u001B[1;32m~\\AppData\\Local\\Temp\\ipykernel_25496\\1790195054.py\u001B[0m in \u001B[0;36m<module>\u001B[1;34m\u001B[0m\n\u001B[0;32m      1\u001B[0m \u001B[1;31m# Evaluate model\u001B[0m\u001B[1;33m\u001B[0m\u001B[1;33m\u001B[0m\u001B[1;33m\u001B[0m\u001B[0m\n\u001B[1;32m----> 2\u001B[1;33m \u001B[0mstart_time\u001B[0m \u001B[1;33m=\u001B[0m \u001B[0mtime\u001B[0m\u001B[1;33m.\u001B[0m\u001B[0mtime\u001B[0m\u001B[1;33m(\u001B[0m\u001B[1;33m)\u001B[0m  \u001B[1;31m# 추론 시작 시간\u001B[0m\u001B[1;33m\u001B[0m\u001B[1;33m\u001B[0m\u001B[0m\n\u001B[0m\u001B[0;32m      3\u001B[0m \u001B[0mpredictions\u001B[0m \u001B[1;33m=\u001B[0m \u001B[0mmodel\u001B[0m\u001B[1;33m.\u001B[0m\u001B[0mpredict\u001B[0m\u001B[1;33m(\u001B[0m\u001B[0mtest_x_balance\u001B[0m\u001B[1;33m)\u001B[0m\u001B[1;33m\u001B[0m\u001B[1;33m\u001B[0m\u001B[0m\n\u001B[0;32m      4\u001B[0m \u001B[0mend_time\u001B[0m \u001B[1;33m=\u001B[0m \u001B[0mtime\u001B[0m\u001B[1;33m.\u001B[0m\u001B[0mtime\u001B[0m\u001B[1;33m(\u001B[0m\u001B[1;33m)\u001B[0m  \u001B[1;31m# 추론 종료 시간\u001B[0m\u001B[1;33m\u001B[0m\u001B[1;33m\u001B[0m\u001B[0m\n\u001B[0;32m      5\u001B[0m \u001B[0mtotal_inference_time\u001B[0m \u001B[1;33m=\u001B[0m \u001B[0mend_time\u001B[0m \u001B[1;33m-\u001B[0m \u001B[0mstart_time\u001B[0m\u001B[1;33m\u001B[0m\u001B[1;33m\u001B[0m\u001B[0m\n",
      "\u001B[1;31mNameError\u001B[0m: name 'time' is not defined"
     ]
    }
   ],
   "execution_count": 1
  },
  {
   "cell_type": "markdown",
   "id": "1d3f268e",
   "metadata": {},
   "source": [
    "\n",
    "-------------------"
   ]
  }
 ],
 "metadata": {
  "kernelspec": {
   "display_name": "Python 3 (ipykernel)",
   "language": "python",
   "name": "python3"
  },
  "language_info": {
   "codemirror_mode": {
    "name": "ipython",
    "version": 3
   },
   "file_extension": ".py",
   "mimetype": "text/x-python",
   "name": "python",
   "nbconvert_exporter": "python",
   "pygments_lexer": "ipython3",
   "version": "3.7.16"
  }
 },
 "nbformat": 4,
 "nbformat_minor": 5
}
