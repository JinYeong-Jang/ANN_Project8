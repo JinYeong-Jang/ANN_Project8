{
 "cells": [
  {
   "cell_type": "markdown",
   "id": "80632cca",
   "metadata": {
    "id": "o0TqkLkqHpXU"
   },
   "source": [
    "### `Basic setting`"
   ]
  },
  {
   "cell_type": "code",
   "id": "ae003839",
   "metadata": {
    "ExecuteTime": {
     "end_time": "2024-06-05T08:22:58.013093Z",
     "start_time": "2024-06-05T08:22:56.153861Z"
    }
   },
   "source": [
    "import sys\n",
    "\n",
    "assert sys.version_info >= (3, 7)\n",
    "\n",
    "from packaging import version\n",
    "import sklearn\n",
    "print(\"sklearn version: \", sklearn.__version__)\n",
    "assert version.parse(sklearn.__version__) >= version.parse(\"1.0.1\")\n",
    "\n",
    "import tensorflow as tf\n",
    "print(\"TF version: \", tf.__version__)\n",
    "assert version.parse(tf.__version__) >= version.parse(\"2.8.0\")\n",
    "\n",
    "import matplotlib.pyplot as plt\n",
    "\n",
    "# Is this notebook running on Colab or Kaggle?\n",
    "IS_COLAB = \"google.colab\" in sys.modules\n",
    "IS_KAGGLE = \"kaggle_secrets\" in sys.modules\n",
    "\n",
    "if not tf.config.list_physical_devices('GPU'):\n",
    "    print(\"No GPU was detected. Neural nets can be very slow without a GPU.\")\n",
    "    if IS_COLAB:\n",
    "        print(\"Go to Runtime > Change runtime and select a GPU hardware \"\n",
    "              \"accelerator.\")\n",
    "    if IS_KAGGLE:\n",
    "        print(\"Go to Settings > Accelerator and select GPU.\")\n",
    "\n",
    "\n",
    "# To prevent \"CUDNN_STATUS_ALLOC_FAILED\" error with GPUs\n",
    "gpus = tf.config.list_physical_devices('GPU')\n",
    "if gpus:\n",
    "  try:\n",
    "    # Currently, memory growth needs to be the same across GPUs\n",
    "    for gpu in gpus:\n",
    "      tf.config.experimental.set_memory_growth(gpu, True)\n",
    "    logical_gpus = tf.config.list_logical_devices('GPU')\n",
    "    print(len(gpus), \"Physical GPUs,\", len(logical_gpus), \"Logical GPUs\")\n",
    "  except RuntimeError as e:\n",
    "    # Memory growth must be set before GPUs have been initialized\n",
    "    print(e)"
   ],
   "outputs": [
    {
     "name": "stdout",
     "output_type": "stream",
     "text": [
      "sklearn version:  1.0.2\n",
      "TF version:  2.8.0\n",
      "1 Physical GPUs, 1 Logical GPUs\n"
     ]
    }
   ],
   "execution_count": 1
  },
  {
   "cell_type": "code",
   "id": "ebe4b6f1",
   "metadata": {
    "ExecuteTime": {
     "end_time": "2024-06-05T08:22:58.043850Z",
     "start_time": "2024-06-05T08:22:58.014093Z"
    }
   },
   "source": [
    "import os\n",
    "import time\n",
    "import numpy as np\n",
    "import pandas as pd\n",
    "import seaborn as sns\n",
    "import tensorflow as tf\n",
    "import matplotlib.pyplot as plt\n",
    "from pathlib import Path\n",
    "from sklearn.model_selection import train_test_split\n",
    "from tensorflow.keras.layers import Conv2D, AveragePooling2D, Flatten, Dense, Dropout, BatchNormalization, LeakyReLU, ReLU, ELU\n",
    "from tensorflow.keras.callbacks import EarlyStopping, ReduceLROnPlateau, ModelCheckpoint\n",
    "from tensorflow.keras.optimizers import Adam\n",
    "from tensorflow.keras.optimizers import SGD\n",
    "np.random.seed(42)\n"
   ],
   "outputs": [],
   "execution_count": 2
  },
  {
   "cell_type": "code",
   "id": "65e65b99",
   "metadata": {
    "scrolled": true,
    "ExecuteTime": {
     "end_time": "2024-06-05T08:22:58.059434Z",
     "start_time": "2024-06-05T08:22:58.044851Z"
    }
   },
   "source": [
    "# check GPU\n",
    "from tensorflow.python.client import device_lib\n",
    "device_lib.list_local_devices()"
   ],
   "outputs": [
    {
     "data": {
      "text/plain": [
       "[name: \"/device:CPU:0\"\n",
       " device_type: \"CPU\"\n",
       " memory_limit: 268435456\n",
       " locality {\n",
       " }\n",
       " incarnation: 12686263259638859238\n",
       " xla_global_id: -1,\n",
       " name: \"/device:GPU:0\"\n",
       " device_type: \"GPU\"\n",
       " memory_limit: 9879683072\n",
       " locality {\n",
       "   bus_id: 1\n",
       "   links {\n",
       "   }\n",
       " }\n",
       " incarnation: 3060925252892943078\n",
       " physical_device_desc: \"device: 0, name: NVIDIA GeForce RTX 3080 Ti, pci bus id: 0000:01:00.0, compute capability: 8.6\"\n",
       " xla_global_id: 416903419]"
      ]
     },
     "execution_count": 3,
     "metadata": {},
     "output_type": "execute_result"
    }
   ],
   "execution_count": 3
  },
  {
   "cell_type": "markdown",
   "id": "4496db74",
   "metadata": {
    "id": "bkxLQcpqG0PR"
   },
   "source": [
    "### `Load dataset (by_merge)`"
   ]
  },
  {
   "cell_type": "code",
   "id": "17f47f2c",
   "metadata": {
    "ExecuteTime": {
     "end_time": "2024-06-05T08:23:02.636649Z",
     "start_time": "2024-06-05T08:23:02.625584Z"
    }
   },
   "source": [
    "# Hyper parameter setting\n",
    "BATCH_SIZE = 32\n",
    "EPOCHS = 100\n",
    "VALIDATION_SPLIT = 0.15\n",
    "LEARNING_RATE = 0.0001\n",
    "PATIENCE = 10\n",
    "MIN_LEARNING_RATE = 0.00001\n",
    "DECAY_FACTOR = 0.2\n",
    "DENSE_LAYER_ACTIVATION = 'elu'\n",
    "FINAL_LAYER_ACTIVATION = 'softmax'\n",
    "LOSS_FUNCTION = 'categorical_crossentropy'\n",
    "METRICS = ['accuracy']\n",
    "optimizer = Adam(learning_rate=LEARNING_RATE)\n",
    "\n",
    "CHECK_POINT_BALANCE = 'Best_points_densenet.h'"
   ],
   "outputs": [],
   "execution_count": 4
  },
  {
   "cell_type": "markdown",
   "id": "9daac484",
   "metadata": {
    "id": "bkxLQcpqG0PR"
   },
   "source": [
    "### `Load dataset (by_balanced)`"
   ]
  },
  {
   "cell_type": "code",
   "id": "2bc7f70a",
   "metadata": {
    "ExecuteTime": {
     "end_time": "2024-06-05T08:23:07.736563Z",
     "start_time": "2024-06-05T08:23:03.392211Z"
    }
   },
   "source": [
    "# 데이터 불러오기\n",
    "testing_set_balance = pd.read_csv('emnist-balanced-test.csv')\n",
    "training_set_balance = pd.read_csv('emnist-balanced-train.csv')\n",
    "\n",
    "\n",
    "# 훈련 데이터와 레이블 추출\n",
    "train_y_balance = np.array(training_set_balance.iloc[:, 0].values)\n",
    "train_x_balance = np.array(training_set_balance.iloc[:, 1:].values)\n",
    "\n",
    "# 테스트 데이터와 레이블 추출\n",
    "test_y_balance = np.array(testing_set_balance.iloc[:, 0].values)\n",
    "test_x_balance = np.array(testing_set_balance.iloc[:, 1:].values)\n",
    "\n",
    "# 데이터 정규화\n",
    "train_x_balance = train_x_balance / 255.0\n",
    "test_x_balance = test_x_balance / 255.0\n",
    "\n",
    "# 이미지 크기 재조정 (데이터 차원 변경)\n",
    "images_height = 28\n",
    "images_width = 28\n",
    "train_x_balance = train_x_balance.reshape(train_x_balance.shape[0], images_height, images_width, 1)\n",
    "test_x_balance = test_x_balance.reshape(test_x_balance.shape[0], images_height, images_width, 1)\n",
    "\n",
    "# 클래스 수 = 47\n",
    "number_of_classes = 47\n",
    "\n",
    "# 레이블 원-핫 인코딩\n",
    "train_y_balance = tf.keras.utils.to_categorical(train_y_balance, number_of_classes)\n",
    "test_y_balance = tf.keras.utils.to_categorical(test_y_balance, number_of_classes)\n",
    "\n",
    "#VALIDATION_SPLIT = 0.15\n",
    "train_x_balance, val_x_balance, train_y_balance, val_y_balance = train_test_split(train_x_balance, train_y_balance, \n",
    "                                                                              test_size=VALIDATION_SPLIT, random_state=42)"
   ],
   "outputs": [],
   "execution_count": 5
  },
  {
   "cell_type": "code",
   "id": "5610cede",
   "metadata": {
    "ExecuteTime": {
     "end_time": "2024-06-05T08:23:07.752348Z",
     "start_time": "2024-06-05T08:23:07.736563Z"
    }
   },
   "source": [
    "from tensorflow.keras.callbacks import EarlyStopping, ReduceLROnPlateau,ModelCheckpoint\n",
    "from sklearn.model_selection import train_test_split\n",
    "from tensorflow.keras.applications import ResNet50\n",
    "from tensorflow.keras.layers import Conv2D, Input,MaxPooling2D, Dense, Flatten ,Activation ,  BatchNormalization , Dropout ,AveragePooling2D\n",
    "from tensorflow.keras.models import Model\n",
    "from functools import partial\n"
   ],
   "outputs": [],
   "execution_count": 6
  },
  {
   "metadata": {
    "ExecuteTime": {
     "end_time": "2024-06-05T08:23:07.768360Z",
     "start_time": "2024-06-05T08:23:07.752348Z"
    }
   },
   "cell_type": "code",
   "source": [
    "img_generator = tf.keras.preprocessing.image.ImageDataGenerator(\n",
    "    rotation_range=20,\n",
    "    width_shift_range=0.2,\n",
    "    height_shift_range=0.2,\n",
    ")\n",
    "\n",
    "img_generator2 = tf.keras.preprocessing.image.ImageDataGenerator(\n",
    "    rotation_range=30,\n",
    "    width_shift_range=0.1,\n",
    "    height_shift_range=0.1,\n",
    ")\n",
    "\n",
    "img_generator3 = tf.keras.preprocessing.image.ImageDataGenerator(\n",
    "    rotation_range=45,\n",
    "    width_shift_range=0.05,\n",
    "    height_shift_range=0.05,\n",
    ")"
   ],
   "id": "3fa0dbd7c28689c",
   "outputs": [],
   "execution_count": 7
  },
  {
   "metadata": {
    "ExecuteTime": {
     "end_time": "2024-06-05T08:23:31.106975Z",
     "start_time": "2024-06-05T08:23:07.768360Z"
    }
   },
   "cell_type": "code",
   "source": [
    "aug1_train_data = img_generator.flow(train_x_balance,train_y_balance, batch_size=len(train_x_balance))\n",
    "aug2_train_data = img_generator2.flow(train_x_balance,train_y_balance, batch_size=len(train_x_balance))\n",
    "aug3_train_data = img_generator3.flow(train_x_balance,train_y_balance, batch_size=len(train_x_balance))\n",
    "\n",
    "aug1_x,aug1_y = aug1_train_data.next()\n",
    "aug2_x,aug2_y = aug2_train_data.next()\n",
    "aug3_x,aug3_y = aug3_train_data.next()\n",
    "\n",
    "x_combined = np.concatenate((train_x_balance,aug1_x,aug2_x,aug3_x))\n",
    "y_combined = np.concatenate((train_y_balance,aug1_y,aug2_y,aug3_y))\n",
    "\n",
    "shuffle_index = np.random.permutation(len(x_combined))\n",
    "x_combined_shff = x_combined[shuffle_index]\n",
    "y_combined_shff = y_combined[shuffle_index]\n",
    "\n",
    "\n",
    "aug1_valid_data = img_generator.flow(val_x_balance,val_y_balance, batch_size=len(val_x_balance))\n",
    "aug2_valid_data = img_generator2.flow(val_x_balance,val_y_balance, batch_size=len(val_x_balance))\n",
    "aug3_valid_data = img_generator3.flow(val_x_balance,val_y_balance, batch_size=len(val_x_balance))\n",
    "\n",
    "aug1_val_x,aug1_val_y = aug1_valid_data.next()\n",
    "aug2_val_x,aug2_val_y = aug2_valid_data.next()\n",
    "aug3_val_x,aug3_val_y = aug3_valid_data.next()\n",
    "\n",
    "x_val_combined = np.concatenate((val_x_balance,aug1_val_x,aug2_val_x,aug3_val_x))\n",
    "y_val_combined = np.concatenate((val_y_balance,aug1_val_y,aug2_val_y,aug3_val_y))\n",
    "\n",
    "shuffle_index2 = np.random.permutation(len(x_val_combined))\n",
    "x_combined_val_shff = x_val_combined[shuffle_index2]\n",
    "y_combined_val_shff = y_val_combined[shuffle_index2]\n"
   ],
   "id": "ec331f1a1c011897",
   "outputs": [],
   "execution_count": 8
  },
  {
   "cell_type": "markdown",
   "id": "2473c059",
   "metadata": {},
   "source": "#### Training PersonalModelwith bybalanced dataset"
  },
  {
   "metadata": {
    "ExecuteTime": {
     "end_time": "2024-06-05T08:23:31.185566Z",
     "start_time": "2024-06-05T08:23:31.106975Z"
    }
   },
   "cell_type": "code",
   "source": [
    "# Define Densenet\n",
    "model = tf.keras.Sequential([\n",
    "    Conv2D(16, kernel_size=(5, 5), activation=DENSE_LAYER_ACTIVATION, input_shape=(28, 28, 1), padding='same'),\n",
    "    AveragePooling2D(),\n",
    "    # Conv2D(16, kernel_size=(3, 3), activation=DENSE_LAYER_ACTIVATION, padding='same'),\n",
    "    # BatchNormalization(),\n",
    "    # AveragePooling2D(),\n",
    "    Conv2D(32, kernel_size=(5, 5), activation=DENSE_LAYER_ACTIVATION, padding='same'),\n",
    "    BatchNormalization(),\n",
    "    AveragePooling2D(),\n",
    "    Conv2D(64, kernel_size=(5, 5), activation=DENSE_LAYER_ACTIVATION, padding='same'),\n",
    "    BatchNormalization(),\n",
    "    AveragePooling2D(),\n",
    "    Conv2D(128, kernel_size=(5, 5), activation=DENSE_LAYER_ACTIVATION, padding='same'),\n",
    "    BatchNormalization(),\n",
    "    AveragePooling2D(pool_size=(1, 1)),\n",
    "    Flatten(),\n",
    "    Dense(128, activation=DENSE_LAYER_ACTIVATION),\n",
    "    Dropout(0.5),\n",
    "    Dense(number_of_classes, activation=FINAL_LAYER_ACTIVATION)\n",
    "])\n",
    "\n",
    "#model.summary()"
   ],
   "id": "fa5ba5a9d110466f",
   "outputs": [],
   "execution_count": 9
  },
  {
   "cell_type": "code",
   "id": "1d7bbfff",
   "metadata": {
    "ExecuteTime": {
     "end_time": "2024-06-05T08:23:31.201579Z",
     "start_time": "2024-06-05T08:23:31.185566Z"
    }
   },
   "source": [
    "# 모델 컴파일\n",
    "#LOSS_FUNCTION = 'categorical_crossentropy'\n",
    "#LEARNING_RATE = 0.001\n",
    "#METRICS = ['accuracy']\n",
    "\n",
    "model.compile(optimizer=optimizer,\n",
    "            loss=LOSS_FUNCTION,\n",
    "            metrics=METRICS)\n",
    "\n",
    "# 콜백 설정\n",
    "#DECAY_FACTOR = 0.2\n",
    "#PATIENCE = 3\n",
    "#MIN_LEARNING_RATE = 0.0001\n",
    "\n",
    "callbacks_balance = [\n",
    "    ModelCheckpoint(CHECK_POINT_BALANCE, verbose=1, save_best_only=True, monitor='val_accuracy', mode='max'),\n",
    "    EarlyStopping(monitor='val_accuracy', restore_best_weights=True, patience=PATIENCE, mode='max'),\n",
    "    ReduceLROnPlateau(monitor='val_loss', patience=3, factor=DECAY_FACTOR, min_lr=MIN_LEARNING_RATE)\n",
    "]\n"
   ],
   "outputs": [],
   "execution_count": 10
  },
  {
   "cell_type": "code",
   "id": "7124dfa4",
   "metadata": {
    "ExecuteTime": {
     "end_time": "2024-06-05T08:39:51.948721Z",
     "start_time": "2024-06-05T08:23:31.201579Z"
    }
   },
   "source": [
    "start_time = time.time()  # 학습 시작 시간\n",
    "\n",
    "# 모델 학습\n",
    "history_balance = model.fit(x_combined_shff, y_combined_shff, batch_size=BATCH_SIZE, epochs=EPOCHS, \n",
    "                                validation_data=(x_combined_val_shff, y_combined_val_shff), callbacks=callbacks_balance)\n",
    "\n",
    "training_time = time.time() - start_time"
   ],
   "outputs": [
    {
     "name": "stdout",
     "output_type": "stream",
     "text": [
      "Epoch 1/100\n",
      "11985/11985 [==============================] - ETA: 0s - loss: 1.6531 - accuracy: 0.5317\n",
      "Epoch 1: val_accuracy improved from -inf to 0.74579, saving model to Best_points_densenet.h\n",
      "INFO:tensorflow:Assets written to: Best_points_densenet.h\\assets\n",
      "11985/11985 [==============================] - 34s 3ms/step - loss: 1.6531 - accuracy: 0.5317 - val_loss: 0.8040 - val_accuracy: 0.7458 - lr: 1.0000e-04\n",
      "Epoch 2/100\n",
      "11963/11985 [============================>.] - ETA: 0s - loss: 0.8748 - accuracy: 0.7245\n",
      "Epoch 2: val_accuracy improved from 0.74579 to 0.79233, saving model to Best_points_densenet.h\n",
      "INFO:tensorflow:Assets written to: Best_points_densenet.h\\assets\n",
      "11985/11985 [==============================] - 29s 2ms/step - loss: 0.8748 - accuracy: 0.7246 - val_loss: 0.6336 - val_accuracy: 0.7923 - lr: 1.0000e-04\n",
      "Epoch 3/100\n",
      "11967/11985 [============================>.] - ETA: 0s - loss: 0.6830 - accuracy: 0.7792\n",
      "Epoch 3: val_accuracy improved from 0.79233 to 0.82209, saving model to Best_points_densenet.h\n",
      "INFO:tensorflow:Assets written to: Best_points_densenet.h\\assets\n",
      "11985/11985 [==============================] - 28s 2ms/step - loss: 0.6830 - accuracy: 0.7792 - val_loss: 0.5202 - val_accuracy: 0.8221 - lr: 1.0000e-04\n",
      "Epoch 4/100\n",
      "11964/11985 [============================>.] - ETA: 0s - loss: 0.5875 - accuracy: 0.8052\n",
      "Epoch 4: val_accuracy improved from 0.82209 to 0.83242, saving model to Best_points_densenet.h\n",
      "INFO:tensorflow:Assets written to: Best_points_densenet.h\\assets\n",
      "11985/11985 [==============================] - 29s 2ms/step - loss: 0.5876 - accuracy: 0.8052 - val_loss: 0.4837 - val_accuracy: 0.8324 - lr: 1.0000e-04\n",
      "Epoch 5/100\n",
      "11980/11985 [============================>.] - ETA: 0s - loss: 0.5304 - accuracy: 0.8216\n",
      "Epoch 5: val_accuracy improved from 0.83242 to 0.84554, saving model to Best_points_densenet.h\n",
      "INFO:tensorflow:Assets written to: Best_points_densenet.h\\assets\n",
      "11985/11985 [==============================] - 28s 2ms/step - loss: 0.5303 - accuracy: 0.8216 - val_loss: 0.4421 - val_accuracy: 0.8455 - lr: 1.0000e-04\n",
      "Epoch 6/100\n",
      "11969/11985 [============================>.] - ETA: 0s - loss: 0.4887 - accuracy: 0.8338\n",
      "Epoch 6: val_accuracy improved from 0.84554 to 0.84803, saving model to Best_points_densenet.h\n",
      "INFO:tensorflow:Assets written to: Best_points_densenet.h\\assets\n",
      "11985/11985 [==============================] - 29s 2ms/step - loss: 0.4886 - accuracy: 0.8338 - val_loss: 0.4250 - val_accuracy: 0.8480 - lr: 1.0000e-04\n",
      "Epoch 7/100\n",
      "11983/11985 [============================>.] - ETA: 0s - loss: 0.4557 - accuracy: 0.8436\n",
      "Epoch 7: val_accuracy improved from 0.84803 to 0.85628, saving model to Best_points_densenet.h\n",
      "INFO:tensorflow:Assets written to: Best_points_densenet.h\\assets\n",
      "11985/11985 [==============================] - 28s 2ms/step - loss: 0.4556 - accuracy: 0.8436 - val_loss: 0.4085 - val_accuracy: 0.8563 - lr: 1.0000e-04\n",
      "Epoch 8/100\n",
      "11960/11985 [============================>.] - ETA: 0s - loss: 0.4319 - accuracy: 0.8501\n",
      "Epoch 8: val_accuracy improved from 0.85628 to 0.86027, saving model to Best_points_densenet.h\n",
      "INFO:tensorflow:Assets written to: Best_points_densenet.h\\assets\n",
      "11985/11985 [==============================] - 29s 2ms/step - loss: 0.4319 - accuracy: 0.8501 - val_loss: 0.3941 - val_accuracy: 0.8603 - lr: 1.0000e-04\n",
      "Epoch 9/100\n",
      "11985/11985 [==============================] - ETA: 0s - loss: 0.4087 - accuracy: 0.8563\n",
      "Epoch 9: val_accuracy improved from 0.86027 to 0.86231, saving model to Best_points_densenet.h\n",
      "INFO:tensorflow:Assets written to: Best_points_densenet.h\\assets\n",
      "11985/11985 [==============================] - 29s 2ms/step - loss: 0.4087 - accuracy: 0.8563 - val_loss: 0.3870 - val_accuracy: 0.8623 - lr: 1.0000e-04\n",
      "Epoch 10/100\n",
      "11956/11985 [============================>.] - ETA: 0s - loss: 0.3909 - accuracy: 0.8610\n",
      "Epoch 10: val_accuracy improved from 0.86231 to 0.86650, saving model to Best_points_densenet.h\n",
      "INFO:tensorflow:Assets written to: Best_points_densenet.h\\assets\n",
      "11985/11985 [==============================] - 29s 2ms/step - loss: 0.3908 - accuracy: 0.8610 - val_loss: 0.3700 - val_accuracy: 0.8665 - lr: 1.0000e-04\n",
      "Epoch 11/100\n",
      "11974/11985 [============================>.] - ETA: 0s - loss: 0.3747 - accuracy: 0.8660\n",
      "Epoch 11: val_accuracy improved from 0.86650 to 0.86832, saving model to Best_points_densenet.h\n",
      "INFO:tensorflow:Assets written to: Best_points_densenet.h\\assets\n",
      "11985/11985 [==============================] - 29s 2ms/step - loss: 0.3747 - accuracy: 0.8660 - val_loss: 0.3698 - val_accuracy: 0.8683 - lr: 1.0000e-04\n",
      "Epoch 12/100\n",
      "11973/11985 [============================>.] - ETA: 0s - loss: 0.3600 - accuracy: 0.8699\n",
      "Epoch 12: val_accuracy improved from 0.86832 to 0.86891, saving model to Best_points_densenet.h\n",
      "INFO:tensorflow:Assets written to: Best_points_densenet.h\\assets\n",
      "11985/11985 [==============================] - 28s 2ms/step - loss: 0.3600 - accuracy: 0.8699 - val_loss: 0.3680 - val_accuracy: 0.8689 - lr: 1.0000e-04\n",
      "Epoch 13/100\n",
      "11963/11985 [============================>.] - ETA: 0s - loss: 0.3475 - accuracy: 0.8732\n",
      "Epoch 13: val_accuracy improved from 0.86891 to 0.87088, saving model to Best_points_densenet.h\n",
      "INFO:tensorflow:Assets written to: Best_points_densenet.h\\assets\n",
      "11985/11985 [==============================] - 29s 2ms/step - loss: 0.3475 - accuracy: 0.8731 - val_loss: 0.3615 - val_accuracy: 0.8709 - lr: 1.0000e-04\n",
      "Epoch 14/100\n",
      "11963/11985 [============================>.] - ETA: 0s - loss: 0.3360 - accuracy: 0.8768\n",
      "Epoch 14: val_accuracy did not improve from 0.87088\n",
      "11985/11985 [==============================] - 28s 2ms/step - loss: 0.3361 - accuracy: 0.8767 - val_loss: 0.4039 - val_accuracy: 0.8603 - lr: 1.0000e-04\n",
      "Epoch 15/100\n",
      "11971/11985 [============================>.] - ETA: 0s - loss: 0.3254 - accuracy: 0.8792\n",
      "Epoch 15: val_accuracy did not improve from 0.87088\n",
      "11985/11985 [==============================] - 29s 2ms/step - loss: 0.3255 - accuracy: 0.8792 - val_loss: 0.3662 - val_accuracy: 0.8698 - lr: 1.0000e-04\n",
      "Epoch 16/100\n",
      "11975/11985 [============================>.] - ETA: 0s - loss: 0.3168 - accuracy: 0.8816\n",
      "Epoch 16: val_accuracy did not improve from 0.87088\n",
      "11985/11985 [==============================] - 29s 2ms/step - loss: 0.3168 - accuracy: 0.8816 - val_loss: 0.3637 - val_accuracy: 0.8708 - lr: 1.0000e-04\n",
      "Epoch 17/100\n",
      "11962/11985 [============================>.] - ETA: 0s - loss: 0.2805 - accuracy: 0.8930\n",
      "Epoch 17: val_accuracy improved from 0.87088 to 0.87753, saving model to Best_points_densenet.h\n",
      "INFO:tensorflow:Assets written to: Best_points_densenet.h\\assets\n",
      "11985/11985 [==============================] - 29s 2ms/step - loss: 0.2804 - accuracy: 0.8930 - val_loss: 0.3456 - val_accuracy: 0.8775 - lr: 2.0000e-05\n",
      "Epoch 18/100\n",
      "11981/11985 [============================>.] - ETA: 0s - loss: 0.2710 - accuracy: 0.8966\n",
      "Epoch 18: val_accuracy improved from 0.87753 to 0.87785, saving model to Best_points_densenet.h\n",
      "INFO:tensorflow:Assets written to: Best_points_densenet.h\\assets\n",
      "11985/11985 [==============================] - 29s 2ms/step - loss: 0.2710 - accuracy: 0.8966 - val_loss: 0.3439 - val_accuracy: 0.8779 - lr: 2.0000e-05\n",
      "Epoch 19/100\n",
      "11962/11985 [============================>.] - ETA: 0s - loss: 0.2667 - accuracy: 0.8978\n",
      "Epoch 19: val_accuracy improved from 0.87785 to 0.87843, saving model to Best_points_densenet.h\n",
      "INFO:tensorflow:Assets written to: Best_points_densenet.h\\assets\n",
      "11985/11985 [==============================] - 29s 2ms/step - loss: 0.2666 - accuracy: 0.8979 - val_loss: 0.3454 - val_accuracy: 0.8784 - lr: 2.0000e-05\n",
      "Epoch 20/100\n",
      "11985/11985 [==============================] - ETA: 0s - loss: 0.2637 - accuracy: 0.8990\n",
      "Epoch 20: val_accuracy did not improve from 0.87843\n",
      "11985/11985 [==============================] - 28s 2ms/step - loss: 0.2637 - accuracy: 0.8990 - val_loss: 0.3476 - val_accuracy: 0.8777 - lr: 2.0000e-05\n",
      "Epoch 21/100\n",
      "11969/11985 [============================>.] - ETA: 0s - loss: 0.2603 - accuracy: 0.8995\n",
      "Epoch 21: val_accuracy did not improve from 0.87843\n",
      "11985/11985 [==============================] - 29s 2ms/step - loss: 0.2603 - accuracy: 0.8995 - val_loss: 0.3514 - val_accuracy: 0.8775 - lr: 2.0000e-05\n",
      "Epoch 22/100\n",
      "11984/11985 [============================>.] - ETA: 0s - loss: 0.2551 - accuracy: 0.9017\n",
      "Epoch 22: val_accuracy improved from 0.87843 to 0.87903, saving model to Best_points_densenet.h\n",
      "INFO:tensorflow:Assets written to: Best_points_densenet.h\\assets\n",
      "11985/11985 [==============================] - 29s 2ms/step - loss: 0.2551 - accuracy: 0.9017 - val_loss: 0.3462 - val_accuracy: 0.8790 - lr: 1.0000e-05\n",
      "Epoch 23/100\n",
      "11969/11985 [============================>.] - ETA: 0s - loss: 0.2522 - accuracy: 0.9018\n",
      "Epoch 23: val_accuracy did not improve from 0.87903\n",
      "11985/11985 [==============================] - 28s 2ms/step - loss: 0.2522 - accuracy: 0.9018 - val_loss: 0.3470 - val_accuracy: 0.8785 - lr: 1.0000e-05\n",
      "Epoch 24/100\n",
      "11961/11985 [============================>.] - ETA: 0s - loss: 0.2511 - accuracy: 0.9023\n",
      "Epoch 24: val_accuracy improved from 0.87903 to 0.87928, saving model to Best_points_densenet.h\n",
      "INFO:tensorflow:Assets written to: Best_points_densenet.h\\assets\n",
      "11985/11985 [==============================] - 29s 2ms/step - loss: 0.2512 - accuracy: 0.9023 - val_loss: 0.3461 - val_accuracy: 0.8793 - lr: 1.0000e-05\n",
      "Epoch 25/100\n",
      "11976/11985 [============================>.] - ETA: 0s - loss: 0.2506 - accuracy: 0.9026\n",
      "Epoch 25: val_accuracy did not improve from 0.87928\n",
      "11985/11985 [==============================] - 28s 2ms/step - loss: 0.2506 - accuracy: 0.9026 - val_loss: 0.3471 - val_accuracy: 0.8791 - lr: 1.0000e-05\n",
      "Epoch 26/100\n",
      "11961/11985 [============================>.] - ETA: 0s - loss: 0.2481 - accuracy: 0.9034\n",
      "Epoch 26: val_accuracy did not improve from 0.87928\n",
      "11985/11985 [==============================] - 29s 2ms/step - loss: 0.2481 - accuracy: 0.9034 - val_loss: 0.3484 - val_accuracy: 0.8786 - lr: 1.0000e-05\n",
      "Epoch 27/100\n",
      "11974/11985 [============================>.] - ETA: 0s - loss: 0.2469 - accuracy: 0.9038\n",
      "Epoch 27: val_accuracy did not improve from 0.87928\n",
      "11985/11985 [==============================] - 29s 2ms/step - loss: 0.2469 - accuracy: 0.9038 - val_loss: 0.3464 - val_accuracy: 0.8790 - lr: 1.0000e-05\n",
      "Epoch 28/100\n",
      "11985/11985 [==============================] - ETA: 0s - loss: 0.2467 - accuracy: 0.9038\n",
      "Epoch 28: val_accuracy did not improve from 0.87928\n",
      "11985/11985 [==============================] - 29s 2ms/step - loss: 0.2467 - accuracy: 0.9038 - val_loss: 0.3489 - val_accuracy: 0.8784 - lr: 1.0000e-05\n",
      "Epoch 29/100\n",
      "11978/11985 [============================>.] - ETA: 0s - loss: 0.2441 - accuracy: 0.9046\n",
      "Epoch 29: val_accuracy did not improve from 0.87928\n",
      "11985/11985 [==============================] - 29s 2ms/step - loss: 0.2441 - accuracy: 0.9046 - val_loss: 0.3503 - val_accuracy: 0.8788 - lr: 1.0000e-05\n",
      "Epoch 30/100\n",
      "11975/11985 [============================>.] - ETA: 0s - loss: 0.2441 - accuracy: 0.9044\n",
      "Epoch 30: val_accuracy did not improve from 0.87928\n",
      "11985/11985 [==============================] - 29s 2ms/step - loss: 0.2440 - accuracy: 0.9044 - val_loss: 0.3506 - val_accuracy: 0.8784 - lr: 1.0000e-05\n",
      "Epoch 31/100\n",
      "11978/11985 [============================>.] - ETA: 0s - loss: 0.2420 - accuracy: 0.9050\n",
      "Epoch 31: val_accuracy did not improve from 0.87928\n",
      "11985/11985 [==============================] - 29s 2ms/step - loss: 0.2420 - accuracy: 0.9050 - val_loss: 0.3501 - val_accuracy: 0.8783 - lr: 1.0000e-05\n",
      "Epoch 32/100\n",
      "11959/11985 [============================>.] - ETA: 0s - loss: 0.2418 - accuracy: 0.9055\n",
      "Epoch 32: val_accuracy did not improve from 0.87928\n",
      "11985/11985 [==============================] - 28s 2ms/step - loss: 0.2418 - accuracy: 0.9055 - val_loss: 0.3504 - val_accuracy: 0.8786 - lr: 1.0000e-05\n",
      "Epoch 33/100\n",
      "11978/11985 [============================>.] - ETA: 0s - loss: 0.2407 - accuracy: 0.9057\n",
      "Epoch 33: val_accuracy did not improve from 0.87928\n",
      "11985/11985 [==============================] - 28s 2ms/step - loss: 0.2407 - accuracy: 0.9057 - val_loss: 0.3510 - val_accuracy: 0.8792 - lr: 1.0000e-05\n",
      "Epoch 34/100\n",
      "11974/11985 [============================>.] - ETA: 0s - loss: 0.2386 - accuracy: 0.9064\n",
      "Epoch 34: val_accuracy did not improve from 0.87928\n",
      "11985/11985 [==============================] - 29s 2ms/step - loss: 0.2386 - accuracy: 0.9064 - val_loss: 0.3527 - val_accuracy: 0.8784 - lr: 1.0000e-05\n"
     ]
    }
   ],
   "execution_count": 11
  },
  {
   "cell_type": "code",
   "id": "5aa2888c",
   "metadata": {
    "ExecuteTime": {
     "end_time": "2024-06-05T08:40:01.937522Z",
     "start_time": "2024-06-05T08:40:01.819175Z"
    }
   },
   "source": [
    "# 학습 결과 시각화\n",
    "# Train 및 Validation Accuracy 데이터\n",
    "train_accuracy = history_balance.history['accuracy']\n",
    "val_accuracy = history_balance.history['val_accuracy']\n",
    "train_loss = history_balance.history['loss']\n",
    "val_loss = history_balance.history['val_loss']\n",
    "\n",
    "# 그래프 생성\n",
    "plt.figure(figsize=(10, 6))\n",
    "\n",
    "# Train Accuracy 그래프\n",
    "plt.plot(range(1, len(train_accuracy) + 1), train_accuracy, label='Train Accuracy')\n",
    "\n",
    "# Validation Accuracy 그래프\n",
    "plt.plot(range(1, len(val_accuracy) + 1), val_accuracy, label='Validation Accuracy')\n",
    "\n",
    "plt.plot(range(1, len(train_accuracy) + 1), train_loss, label='Train Loss')\n",
    "\n",
    "plt.plot(range(1, len(train_accuracy) + 1), val_loss, label='Validation Loss')\n",
    "# 그래프 제목 및 축 레이블\n",
    "plt.title('Model Accuracy with DenseNet (Training with bybalanced)')\n",
    "plt.xlabel('Epochs')\n",
    "plt.ylabel('Accuracy')\n",
    "\n",
    "plt.ylim(0, 1)\n",
    "\n",
    "plt.yticks(np.arange(0, 1.1, 0.05))\n",
    "\n",
    "# 범례 추가\n",
    "plt.legend()\n",
    "\n",
    "# 그래프 출력\n",
    "plt.show()"
   ],
   "outputs": [
    {
     "data": {
      "text/plain": [
       "<Figure size 1000x600 with 1 Axes>"
      ],
      "image/png": "[encoded data removed]"
     },
     "metadata": {},
     "output_type": "display_data"
    }
   ],
   "execution_count": 14
  },
  {
   "cell_type": "code",
   "id": "520bbca4",
   "metadata": {
    "ExecuteTime": {
     "end_time": "2024-06-05T08:42:39.174651Z",
     "start_time": "2024-06-05T08:42:38.233582Z"
    }
   },
   "source": [
    "# Evaluate model\n",
    "start_time = time.time()  # 추론 시작 시간\n",
    "predictions = model.predict(test_x_balance)\n",
    "end_time = time.time()  # 추론 종료 시간\n",
    "total_inference_time = end_time - start_time\n",
    "average_inference_time = total_inference_time / len(test_x_balance)\n",
    "\n",
    "# 테스트 데이터에 대한 예측 결과 처리\n",
    "predicted_classes = np.argmax(predictions, axis=1)\n",
    "actual_classes = np.argmax(test_y_balance, axis=1)\n",
    "\n",
    "# 정확도 계산\n",
    "correct_predictions = np.sum(predicted_classes == actual_classes)\n",
    "accuracy = correct_predictions / len(predicted_classes)\n",
    "\n",
    "# 결과 출력\n",
    "print(f\"Correct Predictions: {correct_predictions}\")\n",
    "print(f\"Total Predictions: {len(predicted_classes)}\")\n",
    "print(f\"정확도: {accuracy:.4f}\")\n",
    "print(f\"훈련시간 : {training_time:.2f} seconds.\")\n",
    "print(f\"평균 추론 시간: {average_inference_time:.4f} seconds.\") #각 샘플에 대한 추론 시간을 개별적으로 측정함으로써, 추론에 필요한 시간을 더 정확히 파악"
   ],
   "outputs": [
    {
     "name": "stdout",
     "output_type": "stream",
     "text": [
      "Correct Predictions: 16813\n",
      "Total Predictions: 18799\n",
      "정확도: 0.8944\n",
      "훈련시간 : 980.73 seconds.\n",
      "평균 추론 시간: 0.0000 seconds.\n"
     ]
    }
   ],
   "execution_count": 16
  },
  {
   "cell_type": "markdown",
   "id": "1d3f268e",
   "metadata": {},
   "source": [
    "\n",
    "-------------------"
   ]
  }
 ],
 "metadata": {
  "kernelspec": {
   "display_name": "Python 3 (ipykernel)",
   "language": "python",
   "name": "python3"
  },
  "language_info": {
   "codemirror_mode": {
    "name": "ipython",
    "version": 3
   },
   "file_extension": ".py",
   "mimetype": "text/x-python",
   "name": "python",
   "nbconvert_exporter": "python",
   "pygments_lexer": "ipython3",
   "version": "3.7.16"
  }
 },
 "nbformat": 4,
 "nbformat_minor": 5
}
