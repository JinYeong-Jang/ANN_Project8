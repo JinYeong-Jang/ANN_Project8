{
 "cells": [
  {
   "cell_type": "markdown",
   "id": "80632cca",
   "metadata": {
    "id": "o0TqkLkqHpXU"
   },
   "source": [
    "### `Basic setting`"
   ]
  },
  {
   "cell_type": "code",
   "id": "ae003839",
   "metadata": {
    "ExecuteTime": {
     "end_time": "2024-05-28T06:29:25.040729Z",
     "start_time": "2024-05-28T06:29:19.029164Z"
    }
   },
   "source": [
    "import sys\n",
    "\n",
    "assert sys.version_info >= (3, 7)\n",
    "\n",
    "from packaging import version\n",
    "import sklearn\n",
    "print(\"sklearn version: \", sklearn.__version__)\n",
    "assert version.parse(sklearn.__version__) >= version.parse(\"1.0.1\")\n",
    "\n",
    "import tensorflow as tf\n",
    "print(\"TF version: \", tf.__version__)\n",
    "assert version.parse(tf.__version__) >= version.parse(\"2.8.0\")\n",
    "\n",
    "import matplotlib.pyplot as plt\n",
    "\n",
    "# Is this notebook running on Colab or Kaggle?\n",
    "IS_COLAB = \"google.colab\" in sys.modules\n",
    "IS_KAGGLE = \"kaggle_secrets\" in sys.modules\n",
    "\n",
    "if not tf.config.list_physical_devices('GPU'):\n",
    "    print(\"No GPU was detected. Neural nets can be very slow without a GPU.\")\n",
    "    if IS_COLAB:\n",
    "        print(\"Go to Runtime > Change runtime and select a GPU hardware \"\n",
    "              \"accelerator.\")\n",
    "    if IS_KAGGLE:\n",
    "        print(\"Go to Settings > Accelerator and select GPU.\")\n",
    "\n",
    "\n",
    "# To prevent \"CUDNN_STATUS_ALLOC_FAILED\" error with GPUs\n",
    "gpus = tf.config.list_physical_devices('GPU')\n",
    "if gpus:\n",
    "  try:\n",
    "    # Currently, memory growth needs to be the same across GPUs\n",
    "    for gpu in gpus:\n",
    "      tf.config.experimental.set_memory_growth(gpu, True)\n",
    "    logical_gpus = tf.config.list_logical_devices('GPU')\n",
    "    print(len(gpus), \"Physical GPUs,\", len(logical_gpus), \"Logical GPUs\")\n",
    "  except RuntimeError as e:\n",
    "    # Memory growth must be set before GPUs have been initialized\n",
    "    print(e)"
   ],
   "outputs": [
    {
     "name": "stdout",
     "output_type": "stream",
     "text": [
      "sklearn version:  1.0.2\n",
      "TF version:  2.8.0\n",
      "1 Physical GPUs, 1 Logical GPUs\n"
     ]
    }
   ],
   "execution_count": 1
  },
  {
   "cell_type": "code",
   "id": "ebe4b6f1",
   "metadata": {
    "ExecuteTime": {
     "end_time": "2024-05-28T06:30:11.231947Z",
     "start_time": "2024-05-28T06:30:11.138206Z"
    }
   },
   "source": [
    "import os\n",
    "import time\n",
    "import numpy as np\n",
    "import pandas as pd\n",
    "import tensorflow as tf\n",
    "import matplotlib.pyplot as plt\n",
    "from pathlib import Path\n",
    "from sklearn.model_selection import train_test_split\n",
    "#optimizer 함수 추가적으로 import하기\n",
    "from tensorflow.keras.optimizers import Adam\n",
    "np.random.seed(42)"
   ],
   "outputs": [],
   "execution_count": 2
  },
  {
   "cell_type": "code",
   "id": "65e65b99",
   "metadata": {
    "scrolled": true,
    "ExecuteTime": {
     "end_time": "2024-05-28T06:30:11.420914Z",
     "start_time": "2024-05-28T06:30:11.405289Z"
    }
   },
   "source": [
    "# check GPU\n",
    "from tensorflow.python.client import device_lib\n",
    "device_lib.list_local_devices()"
   ],
   "outputs": [
    {
     "data": {
      "text/plain": [
       "[name: \"/device:CPU:0\"\n",
       " device_type: \"CPU\"\n",
       " memory_limit: 268435456\n",
       " locality {\n",
       " }\n",
       " incarnation: 8688906937662036026\n",
       " xla_global_id: -1,\n",
       " name: \"/device:GPU:0\"\n",
       " device_type: \"GPU\"\n",
       " memory_limit: 9879683072\n",
       " locality {\n",
       "   bus_id: 1\n",
       "   links {\n",
       "   }\n",
       " }\n",
       " incarnation: 3872941345452848333\n",
       " physical_device_desc: \"device: 0, name: NVIDIA GeForce RTX 3080 Ti, pci bus id: 0000:01:00.0, compute capability: 8.6\"\n",
       " xla_global_id: 416903419]"
      ]
     },
     "execution_count": 3,
     "metadata": {},
     "output_type": "execute_result"
    }
   ],
   "execution_count": 3
  },
  {
   "cell_type": "markdown",
   "id": "4496db74",
   "metadata": {
    "id": "bkxLQcpqG0PR"
   },
   "source": [
    "### `Load dataset (by_merge)`"
   ]
  },
  {
   "cell_type": "code",
   "id": "17f47f2c",
   "metadata": {
    "ExecuteTime": {
     "end_time": "2024-05-28T08:29:34.066761Z",
     "start_time": "2024-05-28T08:29:34.051134Z"
    }
   },
   "source": [
    "# Hyper parameter setting\n",
    "BATCH_SIZE = 32\n",
    "EPOCHS = 100\n",
    "VALIDATION_SPLIT = 0.15\n",
    "LEARNING_RATE = 0.01\n",
    "PATIENCE = 10\n",
    "MIN_LEARNING_RATE = 0.0001\n",
    "DECAY_FACTOR = 0.2\n",
    "DENSE_LAYER_ACTIVATION = 'tanh'\n",
    "FINAL_LAYER_ACTIVATION = 'softmax'\n",
    "LOSS_FUNCTION = 'categorical_crossentropy'\n",
    "METRICS = ['accuracy']\n",
    "optimizer = Adam(learning_rate=LEARNING_RATE)\n",
    "\n",
    "CHECK_POINT_BALANCE = 'Best_points_Resnet34_balance.h5'\n",
    "CHECK_POINT_BALANCE_AUG = 'Best_points_LeNet5_balance_aug.h5'"
   ],
   "outputs": [],
   "execution_count": 16
  },
  {
   "cell_type": "markdown",
   "id": "9daac484",
   "metadata": {
    "id": "bkxLQcpqG0PR"
   },
   "source": [
    "### `Load dataset (by_balanced)`"
   ]
  },
  {
   "cell_type": "code",
   "id": "2bc7f70a",
   "metadata": {
    "ExecuteTime": {
     "end_time": "2024-05-28T06:30:17.432420Z",
     "start_time": "2024-05-28T06:30:13.513526Z"
    }
   },
   "source": [
    "# 데이터 불러오기\n",
    "testing_set_balance = pd.read_csv('emnist-balanced-test.csv')\n",
    "training_set_balance = pd.read_csv('emnist-balanced-train.csv')\n",
    "\n",
    "\n",
    "# 훈련 데이터와 레이블 추출\n",
    "train_y_balance = np.array(training_set_balance.iloc[:, 0].values)\n",
    "train_x_balance = np.array(training_set_balance.iloc[:, 1:].values)\n",
    "\n",
    "# 테스트 데이터와 레이블 추출\n",
    "test_y_balance = np.array(testing_set_balance.iloc[:, 0].values)\n",
    "test_x_balance = np.array(testing_set_balance.iloc[:, 1:].values)\n",
    "\n",
    "# 데이터 정규화\n",
    "train_x_balance = train_x_balance / 255.0\n",
    "test_x_balance = test_x_balance / 255.0\n",
    "\n",
    "# 이미지 크기 재조정 (데이터 차원 변경)\n",
    "images_height = 28\n",
    "images_width = 28\n",
    "train_x_balance = train_x_balance.reshape(train_x_balance.shape[0], images_height, images_width, 1)\n",
    "test_x_balance = test_x_balance.reshape(test_x_balance.shape[0], images_height, images_width, 1)\n",
    "\n",
    "# 클래스 수 = 47\n",
    "number_of_classes = 47\n",
    "\n",
    "# 레이블 원-핫 인코딩\n",
    "train_y_balance = tf.keras.utils.to_categorical(train_y_balance, number_of_classes)\n",
    "test_y_balance = tf.keras.utils.to_categorical(test_y_balance, number_of_classes)\n",
    "\n",
    "#VALIDATION_SPLIT = 0.15\n",
    "train_x_balance, val_x_balance, train_y_balance, val_y_balance = train_test_split(train_x_balance, train_y_balance, \n",
    "                                                                              test_size=VALIDATION_SPLIT, random_state=42)"
   ],
   "outputs": [],
   "execution_count": 5
  },
  {
   "cell_type": "code",
   "id": "5610cede",
   "metadata": {
    "ExecuteTime": {
     "end_time": "2024-05-28T08:43:15.635213Z",
     "start_time": "2024-05-28T08:43:15.619531Z"
    }
   },
   "source": [
    "from tensorflow.keras.callbacks import EarlyStopping, ReduceLROnPlateau,ModelCheckpoint\n",
    "from sklearn.model_selection import train_test_split\n",
    "from tensorflow.keras.applications import ResNet50\n",
    "from tensorflow.keras.layers import Conv2D, Input,AveragePooling2D, Dense, Flatten ,Activation\n",
    "from tensorflow.keras.models import Model\n",
    "from functools import partial\n"
   ],
   "outputs": [],
   "execution_count": 31
  },
  {
   "cell_type": "markdown",
   "id": "2473c059",
   "metadata": {},
   "source": "#### Training ResNet50 with bybalanced dataset"
  },
  {
   "metadata": {
    "ExecuteTime": {
     "end_time": "2024-05-28T08:43:17.046612Z",
     "start_time": "2024-05-28T08:43:17.030897Z"
    }
   },
   "cell_type": "code",
   "source": [
    "DefaultConv2D = partial(tf.keras.layers.Conv2D, kernel_size=3, strides=1,\n",
    "                        padding=\"same\", kernel_initializer=\"he_normal\",\n",
    "                        use_bias=False)\n",
    "\n",
    "# Residual Unit 정의\n",
    "class ResidualUnit(tf.keras.layers.Layer):\n",
    "    def __init__(self, filters, strides=1, activation=\"relu\", **kwargs):\n",
    "        super().__init__(**kwargs)\n",
    "        self.filters = filters\n",
    "        self.strides = strides\n",
    "        self.activation = tf.keras.activations.get(activation)\n",
    "        self.main_layers = [\n",
    "            DefaultConv2D(filters, strides=strides),\n",
    "            tf.keras.layers.BatchNormalization(),\n",
    "            Activation(self.activation),\n",
    "            DefaultConv2D(filters),\n",
    "            tf.keras.layers.BatchNormalization()\n",
    "        ]\n",
    "        self.skip_layers = []\n",
    "        if strides > 1:\n",
    "            self.skip_layers = [\n",
    "                DefaultConv2D(filters, kernel_size=1, strides=strides),\n",
    "                tf.keras.layers.BatchNormalization()\n",
    "            ]\n",
    "\n",
    "    def call(self, inputs):\n",
    "        Z = inputs\n",
    "        for layer in self.main_layers:\n",
    "            Z = layer(Z)\n",
    "        skip_Z = inputs\n",
    "        for layer in self.skip_layers:\n",
    "            skip_Z = layer(skip_Z)\n",
    "        return self.activation(Z + skip_Z)\n",
    "    \n",
    "    def get_config(self):\n",
    "        config = super().get_config().copy()\n",
    "        config.update({\n",
    "            'filters': self.filters,\n",
    "            'strides': self.strides,\n",
    "            'activation': tf.keras.activations.serialize(self.activation),\n",
    "        })\n",
    "        return config\n"
   ],
   "id": "bb54d016f073d58c",
   "outputs": [],
   "execution_count": 32
  },
  {
   "metadata": {
    "ExecuteTime": {
     "end_time": "2024-05-28T08:43:18.374367Z",
     "start_time": "2024-05-28T08:43:18.100795Z"
    }
   },
   "cell_type": "code",
   "source": [
    "# Define ResNet-34\n",
    "Resnet34 = tf.keras.Sequential([\n",
    "    DefaultConv2D(64, kernel_size=3, strides=1, input_shape=[28, 28, 1]), #FEATURE SIZE 유지\n",
    "    tf.keras.layers.BatchNormalization(),\n",
    "    tf.keras.layers.Activation(\"relu\"),\n",
    "    #tf.keras.layers.MaxPool2D(pool_size=3, strides=2, padding=\"same\"),\n",
    "])\n",
    "prev_filters = 64\n",
    "for filters in [64] * 3 + [128] * 4 + [256] * 6 + [512] * 3:\n",
    "    strides = 1 if filters == prev_filters else 2\n",
    "    Resnet34.add(ResidualUnit(filters, strides=strides))\n",
    "    prev_filters = filters\n",
    "\n",
    "Resnet34.add(tf.keras.layers.GlobalAvgPool2D())\n",
    "Resnet34.add(tf.keras.layers.Flatten())\n",
    "Resnet34.add(tf.keras.layers.Dense(47, activation=\"softmax\"))\n",
    "#Resnet34.summary()"
   ],
   "id": "fa5ba5a9d110466f",
   "outputs": [],
   "execution_count": 33
  },
  {
   "cell_type": "code",
   "id": "1d7bbfff",
   "metadata": {
    "ExecuteTime": {
     "end_time": "2024-05-28T08:43:19.226375Z",
     "start_time": "2024-05-28T08:43:19.195688Z"
    }
   },
   "source": [
    "# 모델 컴파일\n",
    "#LOSS_FUNCTION = 'categorical_crossentropy'\n",
    "#LEARNING_RATE = 0.001\n",
    "#METRICS = ['accuracy']\n",
    "\n",
    "Resnet34.compile(optimizer=optimizer,\n",
    "              loss=LOSS_FUNCTION,\n",
    "              metrics=METRICS)\n",
    "\n",
    "\n",
    "# 콜백 설정\n",
    "#DECAY_FACTOR = 0.2\n",
    "#PATIENCE = 3\n",
    "#MIN_LEARNING_RATE = 0.0001\n",
    "\n",
    "callbacks_balance = [\n",
    "    ModelCheckpoint(CHECK_POINT_BALANCE, verbose=1, save_best_only=True, monitor='val_accuracy', mode='max'),\n",
    "    EarlyStopping(monitor='val_accuracy', restore_best_weights=True, patience=PATIENCE, mode='max'),\n",
    "    ReduceLROnPlateau(monitor='val_loss', patience=PATIENCE, factor=DECAY_FACTOR, min_lr=MIN_LEARNING_RATE)\n",
    "]\n"
   ],
   "outputs": [],
   "execution_count": 34
  },
  {
   "cell_type": "code",
   "id": "7124dfa4",
   "metadata": {
    "ExecuteTime": {
     "end_time": "2024-05-28T09:16:33.415400Z",
     "start_time": "2024-05-28T08:43:19.604696Z"
    }
   },
   "source": [
    "start_time = time.time()  # 학습 시작 시간\n",
    "\n",
    "# 모델 학습\n",
    "history_balance = Resnet34.fit(train_x_balance, train_y_balance, batch_size=BATCH_SIZE, epochs=EPOCHS, \n",
    "                                validation_data=(val_x_balance, val_y_balance), callbacks=callbacks_balance)\n",
    "\n",
    "training_time = time.time() - start_time"
   ],
   "outputs": [
    {
     "name": "stdout",
     "output_type": "stream",
     "text": [
      "Epoch 1/100\n",
      "2995/2997 [============================>.] - ETA: 0s - loss: 1.2146 - accuracy: 0.6459\n",
      "Epoch 1: val_accuracy improved from -inf to 0.79982, saving model to Best_points_Resnet34_balance.h5\n",
      "2997/2997 [==============================] - 66s 21ms/step - loss: 1.2143 - accuracy: 0.6460 - val_loss: 0.6035 - val_accuracy: 0.7998 - lr: 0.0100\n",
      "Epoch 2/100\n",
      "2994/2997 [============================>.] - ETA: 0s - loss: 0.4778 - accuracy: 0.8333\n",
      "Epoch 2: val_accuracy improved from 0.79982 to 0.83097, saving model to Best_points_Resnet34_balance.h5\n",
      "2997/2997 [==============================] - 64s 21ms/step - loss: 0.4778 - accuracy: 0.8333 - val_loss: 0.4726 - val_accuracy: 0.8310 - lr: 0.0100\n",
      "Epoch 3/100\n",
      "2995/2997 [============================>.] - ETA: 0s - loss: 0.4032 - accuracy: 0.8566\n",
      "Epoch 3: val_accuracy improved from 0.83097 to 0.85165, saving model to Best_points_Resnet34_balance.h5\n",
      "2997/2997 [==============================] - 64s 21ms/step - loss: 0.4032 - accuracy: 0.8566 - val_loss: 0.4139 - val_accuracy: 0.8517 - lr: 0.0100\n",
      "Epoch 4/100\n",
      "2996/2997 [============================>.] - ETA: 0s - loss: 0.3606 - accuracy: 0.8692\n",
      "Epoch 4: val_accuracy improved from 0.85165 to 0.86714, saving model to Best_points_Resnet34_balance.h5\n",
      "2997/2997 [==============================] - 64s 21ms/step - loss: 0.3606 - accuracy: 0.8692 - val_loss: 0.3659 - val_accuracy: 0.8671 - lr: 0.0100\n",
      "Epoch 5/100\n",
      "2995/2997 [============================>.] - ETA: 0s - loss: 0.3309 - accuracy: 0.8794\n",
      "Epoch 5: val_accuracy improved from 0.86714 to 0.87512, saving model to Best_points_Resnet34_balance.h5\n",
      "2997/2997 [==============================] - 64s 21ms/step - loss: 0.3309 - accuracy: 0.8794 - val_loss: 0.3450 - val_accuracy: 0.8751 - lr: 0.0100\n",
      "Epoch 6/100\n",
      "2994/2997 [============================>.] - ETA: 0s - loss: 0.3089 - accuracy: 0.8849\n",
      "Epoch 6: val_accuracy did not improve from 0.87512\n",
      "2997/2997 [==============================] - 64s 21ms/step - loss: 0.3089 - accuracy: 0.8849 - val_loss: 0.3493 - val_accuracy: 0.8741 - lr: 0.0100\n",
      "Epoch 7/100\n",
      "2995/2997 [============================>.] - ETA: 0s - loss: 0.2885 - accuracy: 0.8906\n",
      "Epoch 7: val_accuracy improved from 0.87512 to 0.87784, saving model to Best_points_Resnet34_balance.h5\n",
      "2997/2997 [==============================] - 65s 22ms/step - loss: 0.2887 - accuracy: 0.8906 - val_loss: 0.3367 - val_accuracy: 0.8778 - lr: 0.0100\n",
      "Epoch 8/100\n",
      "2994/2997 [============================>.] - ETA: 0s - loss: 0.2731 - accuracy: 0.8959\n",
      "Epoch 8: val_accuracy improved from 0.87784 to 0.88641, saving model to Best_points_Resnet34_balance.h5\n",
      "2997/2997 [==============================] - 65s 22ms/step - loss: 0.2731 - accuracy: 0.8959 - val_loss: 0.3188 - val_accuracy: 0.8864 - lr: 0.0100\n",
      "Epoch 9/100\n",
      "2994/2997 [============================>.] - ETA: 0s - loss: 0.2599 - accuracy: 0.8993\n",
      "Epoch 9: val_accuracy did not improve from 0.88641\n",
      "2997/2997 [==============================] - 64s 21ms/step - loss: 0.2598 - accuracy: 0.8993 - val_loss: 0.3212 - val_accuracy: 0.8844 - lr: 0.0100\n",
      "Epoch 10/100\n",
      "2995/2997 [============================>.] - ETA: 0s - loss: 0.2458 - accuracy: 0.9040\n",
      "Epoch 10: val_accuracy improved from 0.88641 to 0.88747, saving model to Best_points_Resnet34_balance.h5\n",
      "2997/2997 [==============================] - 64s 22ms/step - loss: 0.2459 - accuracy: 0.9040 - val_loss: 0.3136 - val_accuracy: 0.8875 - lr: 0.0100\n",
      "Epoch 11/100\n",
      "2996/2997 [============================>.] - ETA: 0s - loss: 0.2366 - accuracy: 0.9064\n",
      "Epoch 11: val_accuracy did not improve from 0.88747\n",
      "2997/2997 [==============================] - 64s 22ms/step - loss: 0.2366 - accuracy: 0.9064 - val_loss: 0.3401 - val_accuracy: 0.8774 - lr: 0.0100\n",
      "Epoch 12/100\n",
      "2996/2997 [============================>.] - ETA: 0s - loss: 0.2243 - accuracy: 0.9097\n",
      "Epoch 12: val_accuracy did not improve from 0.88747\n",
      "2997/2997 [==============================] - 64s 21ms/step - loss: 0.2243 - accuracy: 0.9097 - val_loss: 0.3159 - val_accuracy: 0.8850 - lr: 0.0100\n",
      "Epoch 13/100\n",
      "2995/2997 [============================>.] - ETA: 0s - loss: 0.2145 - accuracy: 0.9138\n",
      "Epoch 13: val_accuracy did not improve from 0.88747\n",
      "2997/2997 [==============================] - 64s 21ms/step - loss: 0.2144 - accuracy: 0.9138 - val_loss: 0.3313 - val_accuracy: 0.8847 - lr: 0.0100\n",
      "Epoch 14/100\n",
      "2997/2997 [==============================] - ETA: 0s - loss: 0.2034 - accuracy: 0.9175\n",
      "Epoch 14: val_accuracy improved from 0.88747 to 0.88788, saving model to Best_points_Resnet34_balance.h5\n",
      "2997/2997 [==============================] - 65s 22ms/step - loss: 0.2034 - accuracy: 0.9175 - val_loss: 0.3273 - val_accuracy: 0.8879 - lr: 0.0100\n",
      "Epoch 15/100\n",
      "2996/2997 [============================>.] - ETA: 0s - loss: 0.1970 - accuracy: 0.9197\n",
      "Epoch 15: val_accuracy did not improve from 0.88788\n",
      "2997/2997 [==============================] - 64s 21ms/step - loss: 0.1970 - accuracy: 0.9197 - val_loss: 0.3584 - val_accuracy: 0.8817 - lr: 0.0100\n",
      "Epoch 16/100\n",
      "2995/2997 [============================>.] - ETA: 0s - loss: 0.1870 - accuracy: 0.9228\n",
      "Epoch 16: val_accuracy improved from 0.88788 to 0.89048, saving model to Best_points_Resnet34_balance.h5\n",
      "2997/2997 [==============================] - 64s 22ms/step - loss: 0.1870 - accuracy: 0.9228 - val_loss: 0.3306 - val_accuracy: 0.8905 - lr: 0.0100\n",
      "Epoch 17/100\n",
      "2997/2997 [==============================] - ETA: 0s - loss: 0.1823 - accuracy: 0.9248\n",
      "Epoch 17: val_accuracy did not improve from 0.89048\n",
      "2997/2997 [==============================] - 64s 21ms/step - loss: 0.1823 - accuracy: 0.9248 - val_loss: 0.3456 - val_accuracy: 0.8820 - lr: 0.0100\n",
      "Epoch 18/100\n",
      "2996/2997 [============================>.] - ETA: 0s - loss: 0.1730 - accuracy: 0.9269\n",
      "Epoch 18: val_accuracy did not improve from 0.89048\n",
      "2997/2997 [==============================] - 64s 21ms/step - loss: 0.1731 - accuracy: 0.9269 - val_loss: 0.3636 - val_accuracy: 0.8875 - lr: 0.0100\n",
      "Epoch 19/100\n",
      "2994/2997 [============================>.] - ETA: 0s - loss: 0.1653 - accuracy: 0.9309\n",
      "Epoch 19: val_accuracy did not improve from 0.89048\n",
      "2997/2997 [==============================] - 64s 21ms/step - loss: 0.1654 - accuracy: 0.9309 - val_loss: 0.3668 - val_accuracy: 0.8839 - lr: 0.0100\n",
      "Epoch 20/100\n",
      "2995/2997 [============================>.] - ETA: 0s - loss: 0.1610 - accuracy: 0.9326\n",
      "Epoch 20: val_accuracy did not improve from 0.89048\n",
      "2997/2997 [==============================] - 64s 21ms/step - loss: 0.1610 - accuracy: 0.9326 - val_loss: 0.3921 - val_accuracy: 0.8841 - lr: 0.0100\n",
      "Epoch 21/100\n",
      "2994/2997 [============================>.] - ETA: 0s - loss: 0.1143 - accuracy: 0.9506\n",
      "Epoch 21: val_accuracy improved from 0.89048 to 0.89480, saving model to Best_points_Resnet34_balance.h5\n",
      "2997/2997 [==============================] - 65s 22ms/step - loss: 0.1143 - accuracy: 0.9506 - val_loss: 0.3623 - val_accuracy: 0.8948 - lr: 0.0020\n",
      "Epoch 22/100\n",
      "2994/2997 [============================>.] - ETA: 0s - loss: 0.0976 - accuracy: 0.9584\n",
      "Epoch 22: val_accuracy did not improve from 0.89480\n",
      "2997/2997 [==============================] - 64s 21ms/step - loss: 0.0976 - accuracy: 0.9584 - val_loss: 0.3905 - val_accuracy: 0.8924 - lr: 0.0020\n",
      "Epoch 23/100\n",
      "2995/2997 [============================>.] - ETA: 0s - loss: 0.0889 - accuracy: 0.9618\n",
      "Epoch 23: val_accuracy did not improve from 0.89480\n",
      "2997/2997 [==============================] - 64s 21ms/step - loss: 0.0889 - accuracy: 0.9618 - val_loss: 0.4189 - val_accuracy: 0.8905 - lr: 0.0020\n",
      "Epoch 24/100\n",
      "2994/2997 [============================>.] - ETA: 0s - loss: 0.0807 - accuracy: 0.9663\n",
      "Epoch 24: val_accuracy did not improve from 0.89480\n",
      "2997/2997 [==============================] - 64s 21ms/step - loss: 0.0807 - accuracy: 0.9663 - val_loss: 0.4418 - val_accuracy: 0.8911 - lr: 0.0020\n",
      "Epoch 25/100\n",
      "2996/2997 [============================>.] - ETA: 0s - loss: 0.0731 - accuracy: 0.9696\n",
      "Epoch 25: val_accuracy did not improve from 0.89480\n",
      "2997/2997 [==============================] - 64s 21ms/step - loss: 0.0731 - accuracy: 0.9696 - val_loss: 0.4635 - val_accuracy: 0.8896 - lr: 0.0020\n",
      "Epoch 26/100\n",
      "2997/2997 [==============================] - ETA: 0s - loss: 0.0672 - accuracy: 0.9724\n",
      "Epoch 26: val_accuracy did not improve from 0.89480\n",
      "2997/2997 [==============================] - 64s 21ms/step - loss: 0.0672 - accuracy: 0.9724 - val_loss: 0.4945 - val_accuracy: 0.8870 - lr: 0.0020\n",
      "Epoch 27/100\n",
      "2994/2997 [============================>.] - ETA: 0s - loss: 0.0608 - accuracy: 0.9749\n",
      "Epoch 27: val_accuracy did not improve from 0.89480\n",
      "2997/2997 [==============================] - 64s 21ms/step - loss: 0.0607 - accuracy: 0.9749 - val_loss: 0.5169 - val_accuracy: 0.8881 - lr: 0.0020\n",
      "Epoch 28/100\n",
      "2996/2997 [============================>.] - ETA: 0s - loss: 0.0554 - accuracy: 0.9781\n",
      "Epoch 28: val_accuracy did not improve from 0.89480\n",
      "2997/2997 [==============================] - 64s 21ms/step - loss: 0.0554 - accuracy: 0.9781 - val_loss: 0.5468 - val_accuracy: 0.8858 - lr: 0.0020\n",
      "Epoch 29/100\n",
      "2995/2997 [============================>.] - ETA: 0s - loss: 0.0498 - accuracy: 0.9801\n",
      "Epoch 29: val_accuracy did not improve from 0.89480\n",
      "2997/2997 [==============================] - 64s 21ms/step - loss: 0.0498 - accuracy: 0.9801 - val_loss: 0.5786 - val_accuracy: 0.8866 - lr: 0.0020\n",
      "Epoch 30/100\n",
      "2997/2997 [==============================] - ETA: 0s - loss: 0.0459 - accuracy: 0.9819\n",
      "Epoch 30: val_accuracy did not improve from 0.89480\n",
      "2997/2997 [==============================] - 64s 21ms/step - loss: 0.0459 - accuracy: 0.9819 - val_loss: 0.5869 - val_accuracy: 0.8861 - lr: 0.0020\n",
      "Epoch 31/100\n",
      "2997/2997 [==============================] - ETA: 0s - loss: 0.0352 - accuracy: 0.9874\n",
      "Epoch 31: val_accuracy did not improve from 0.89480\n",
      "2997/2997 [==============================] - 64s 21ms/step - loss: 0.0352 - accuracy: 0.9874 - val_loss: 0.6063 - val_accuracy: 0.8861 - lr: 4.0000e-04\n"
     ]
    }
   ],
   "execution_count": 35
  },
  {
   "cell_type": "code",
   "id": "5aa2888c",
   "metadata": {
    "ExecuteTime": {
     "end_time": "2024-05-29T01:24:36.568691Z",
     "start_time": "2024-05-29T01:24:36.427863Z"
    }
   },
   "source": [
    "# 학습 결과 시각화\n",
    "# Train 및 Validation Accuracy 데이터\n",
    "train_accuracy = history_balance.history['accuracy']\n",
    "val_accuracy = history_balance.history['val_accuracy']\n",
    "\n",
    "# 그래프 생성\n",
    "plt.figure(figsize=(10, 6))\n",
    "\n",
    "# Train Accuracy 그래프\n",
    "plt.plot(range(1, len(train_accuracy) + 1), train_accuracy, label='Train Accuracy')\n",
    "\n",
    "# Validation Accuracy 그래프\n",
    "plt.plot(range(1, len(val_accuracy) + 1), val_accuracy, label='Validation Accuracy')\n",
    "\n",
    "# 그래프 제목 및 축 레이블\n",
    "plt.title('Model Accuracy with ResNet-34 (Training with bybalanced)')\n",
    "plt.xlabel('Epochs')\n",
    "plt.ylabel('Accuracy')\n",
    "\n",
    "plt.yticks(np.arange(0, 1.1, 0.05))\n",
    "\n",
    "# 범례 추가\n",
    "plt.legend()\n",
    "\n",
    "# 그래프 출력\n",
    "plt.show()"
   ],
   "outputs": [
    {
     "data": {
      "text/plain": [
       "<Figure size 1000x600 with 1 Axes>"
      ],
      "image/png": "[encoded data removed]"
     },
     "metadata": {},
     "output_type": "display_data"
    }
   ],
   "execution_count": 36
  },
  {
   "cell_type": "code",
   "id": "520bbca4",
   "metadata": {
    "ExecuteTime": {
     "end_time": "2024-05-29T01:25:16.855895Z",
     "start_time": "2024-05-29T01:25:12.730248Z"
    }
   },
   "source": [
    "# Evaluate model\n",
    "start_time = time.time()  # 추론 시작 시간\n",
    "predictions = Resnet34.predict(test_x_balance)\n",
    "end_time = time.time()  # 추론 종료 시간\n",
    "total_inference_time = end_time - start_time\n",
    "average_inference_time = total_inference_time / len(test_x_balance)\n",
    "\n",
    "# 테스트 데이터에 대한 예측 결과 처리\n",
    "predicted_classes = np.argmax(predictions, axis=1)\n",
    "actual_classes = np.argmax(test_y_balance, axis=1)\n",
    "\n",
    "# 정확도 계산\n",
    "correct_predictions = np.sum(predicted_classes == actual_classes)\n",
    "accuracy = correct_predictions / len(predicted_classes)\n",
    "\n",
    "# 결과 출력\n",
    "print(f\"Correct Predictions: {correct_predictions}\")\n",
    "print(f\"Total Predictions: {len(predicted_classes)}\")\n",
    "print(f\"정확도: {accuracy:.2f}\")\n",
    "print(f\"훈련시간 : {training_time:.2f} seconds.\")\n",
    "print(f\"평균 추론 시간: {average_inference_time:.4f} seconds.\") #각 샘플에 대한 추론 시간을 개별적으로 측정함으로써, 추론에 필요한 시간을 더 정확히 파악"
   ],
   "outputs": [
    {
     "name": "stdout",
     "output_type": "stream",
     "text": [
      "Correct Predictions: 16802\n",
      "Total Predictions: 18799\n",
      "정확도: 0.89\n",
      "훈련시간 : 1993.80 seconds.\n",
      "평균 추론 시간: 0.0002 seconds.\n"
     ]
    }
   ],
   "execution_count": 38
  },
  {
   "cell_type": "markdown",
   "id": "1d3f268e",
   "metadata": {},
   "source": [
    "-------------------"
   ]
  }
 ],
 "metadata": {
  "kernelspec": {
   "display_name": "Python 3 (ipykernel)",
   "language": "python",
   "name": "python3"
  },
  "language_info": {
   "codemirror_mode": {
    "name": "ipython",
    "version": 3
   },
   "file_extension": ".py",
   "mimetype": "text/x-python",
   "name": "python",
   "nbconvert_exporter": "python",
   "pygments_lexer": "ipython3",
   "version": "3.7.16"
  }
 },
 "nbformat": 4,
 "nbformat_minor": 5
}
