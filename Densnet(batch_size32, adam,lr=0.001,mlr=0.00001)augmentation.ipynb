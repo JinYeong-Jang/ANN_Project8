{
 "cells": [
  {
   "cell_type": "markdown",
   "id": "80632cca",
   "metadata": {
    "id": "o0TqkLkqHpXU"
   },
   "source": [
    "### `Basic setting`"
   ]
  },
  {
   "cell_type": "code",
   "id": "ae003839",
   "metadata": {
    "ExecuteTime": {
     "end_time": "2024-06-05T10:41:38.809332Z",
     "start_time": "2024-06-05T10:41:37.022506Z"
    }
   },
   "source": [
    "import sys\n",
    "\n",
    "assert sys.version_info >= (3, 7)\n",
    "\n",
    "from packaging import version\n",
    "import sklearn\n",
    "print(\"sklearn version: \", sklearn.__version__)\n",
    "assert version.parse(sklearn.__version__) >= version.parse(\"1.0.1\")\n",
    "\n",
    "import tensorflow as tf\n",
    "print(\"TF version: \", tf.__version__)\n",
    "assert version.parse(tf.__version__) >= version.parse(\"2.8.0\")\n",
    "\n",
    "import matplotlib.pyplot as plt\n",
    "\n",
    "# Is this notebook running on Colab or Kaggle?\n",
    "IS_COLAB = \"google.colab\" in sys.modules\n",
    "IS_KAGGLE = \"kaggle_secrets\" in sys.modules\n",
    "\n",
    "if not tf.config.list_physical_devices('GPU'):\n",
    "    print(\"No GPU was detected. Neural nets can be very slow without a GPU.\")\n",
    "    if IS_COLAB:\n",
    "        print(\"Go to Runtime > Change runtime and select a GPU hardware \"\n",
    "              \"accelerator.\")\n",
    "    if IS_KAGGLE:\n",
    "        print(\"Go to Settings > Accelerator and select GPU.\")\n",
    "\n",
    "\n",
    "# To prevent \"CUDNN_STATUS_ALLOC_FAILED\" error with GPUs\n",
    "gpus = tf.config.list_physical_devices('GPU')\n",
    "if gpus:\n",
    "  try:\n",
    "    # Currently, memory growth needs to be the same across GPUs\n",
    "    for gpu in gpus:\n",
    "      tf.config.experimental.set_memory_growth(gpu, True)\n",
    "    logical_gpus = tf.config.list_logical_devices('GPU')\n",
    "    print(len(gpus), \"Physical GPUs,\", len(logical_gpus), \"Logical GPUs\")\n",
    "  except RuntimeError as e:\n",
    "    # Memory growth must be set before GPUs have been initialized\n",
    "    print(e)"
   ],
   "outputs": [
    {
     "name": "stdout",
     "output_type": "stream",
     "text": [
      "sklearn version:  1.0.2\n",
      "TF version:  2.8.0\n",
      "1 Physical GPUs, 1 Logical GPUs\n"
     ]
    }
   ],
   "execution_count": 1
  },
  {
   "cell_type": "code",
   "id": "ebe4b6f1",
   "metadata": {
    "ExecuteTime": {
     "end_time": "2024-06-05T10:41:38.840702Z",
     "start_time": "2024-06-05T10:41:38.809332Z"
    }
   },
   "source": [
    "import os\n",
    "import time\n",
    "import numpy as np\n",
    "import pandas as pd\n",
    "import seaborn as sns\n",
    "import tensorflow as tf\n",
    "import matplotlib.pyplot as plt\n",
    "from pathlib import Path\n",
    "from sklearn.model_selection import train_test_split\n",
    "from tensorflow.keras.layers import Conv2D, AveragePooling2D, Flatten, Dense, Dropout, BatchNormalization, LeakyReLU, ReLU, ELU\n",
    "from tensorflow.keras.callbacks import EarlyStopping, ReduceLROnPlateau, ModelCheckpoint\n",
    "from tensorflow.keras.optimizers import Adam\n",
    "from tensorflow.keras.optimizers import SGD\n",
    "np.random.seed(42)\n"
   ],
   "outputs": [],
   "execution_count": 2
  },
  {
   "cell_type": "code",
   "id": "65e65b99",
   "metadata": {
    "scrolled": true,
    "ExecuteTime": {
     "end_time": "2024-06-05T10:41:38.856324Z",
     "start_time": "2024-06-05T10:41:38.840702Z"
    }
   },
   "source": [
    "# check GPU\n",
    "from tensorflow.python.client import device_lib\n",
    "device_lib.list_local_devices()"
   ],
   "outputs": [
    {
     "data": {
      "text/plain": [
       "[name: \"/device:CPU:0\"\n",
       " device_type: \"CPU\"\n",
       " memory_limit: 268435456\n",
       " locality {\n",
       " }\n",
       " incarnation: 18430165846633269559\n",
       " xla_global_id: -1,\n",
       " name: \"/device:GPU:0\"\n",
       " device_type: \"GPU\"\n",
       " memory_limit: 9879683072\n",
       " locality {\n",
       "   bus_id: 1\n",
       "   links {\n",
       "   }\n",
       " }\n",
       " incarnation: 1710073658966510946\n",
       " physical_device_desc: \"device: 0, name: NVIDIA GeForce RTX 3080 Ti, pci bus id: 0000:01:00.0, compute capability: 8.6\"\n",
       " xla_global_id: 416903419]"
      ]
     },
     "execution_count": 3,
     "metadata": {},
     "output_type": "execute_result"
    }
   ],
   "execution_count": 3
  },
  {
   "cell_type": "markdown",
   "id": "4496db74",
   "metadata": {
    "id": "bkxLQcpqG0PR"
   },
   "source": [
    "### `Load dataset (by_merge)`"
   ]
  },
  {
   "cell_type": "code",
   "id": "17f47f2c",
   "metadata": {
    "ExecuteTime": {
     "end_time": "2024-06-05T10:41:54.420717Z",
     "start_time": "2024-06-05T10:41:54.393057Z"
    }
   },
   "source": [
    "# Hyper parameter setting\n",
    "BATCH_SIZE = 32\n",
    "EPOCHS = 100\n",
    "VALIDATION_SPLIT = 0.15\n",
    "LEARNING_RATE = 0.0001\n",
    "PATIENCE = 10\n",
    "MIN_LEARNING_RATE = 0.00001\n",
    "DECAY_FACTOR = 0.2\n",
    "DENSE_LAYER_ACTIVATION = 'elu'\n",
    "FINAL_LAYER_ACTIVATION = 'softmax'\n",
    "LOSS_FUNCTION = 'categorical_crossentropy'\n",
    "METRICS = ['accuracy']\n",
    "optimizer = Adam(learning_rate=LEARNING_RATE)\n",
    "\n",
    "CHECK_POINT_BALANCE = 'Best_points_densenet.h'"
   ],
   "outputs": [],
   "execution_count": 4
  },
  {
   "cell_type": "markdown",
   "id": "9daac484",
   "metadata": {
    "id": "bkxLQcpqG0PR"
   },
   "source": [
    "### `Load dataset (by_balanced)`"
   ]
  },
  {
   "cell_type": "code",
   "id": "2bc7f70a",
   "metadata": {
    "ExecuteTime": {
     "end_time": "2024-06-05T10:42:00.219518Z",
     "start_time": "2024-06-05T10:41:56.106748Z"
    }
   },
   "source": [
    "# 데이터 불러오기\n",
    "testing_set_balance = pd.read_csv('emnist-balanced-test.csv')\n",
    "training_set_balance = pd.read_csv('emnist-balanced-train.csv')\n",
    "\n",
    "\n",
    "# 훈련 데이터와 레이블 추출\n",
    "train_y_balance = np.array(training_set_balance.iloc[:, 0].values)\n",
    "train_x_balance = np.array(training_set_balance.iloc[:, 1:].values)\n",
    "\n",
    "# 테스트 데이터와 레이블 추출\n",
    "test_y_balance = np.array(testing_set_balance.iloc[:, 0].values)\n",
    "test_x_balance = np.array(testing_set_balance.iloc[:, 1:].values)\n",
    "\n",
    "# 데이터 정규화\n",
    "train_x_balance = train_x_balance / 255.0\n",
    "test_x_balance = test_x_balance / 255.0\n",
    "\n",
    "# 이미지 크기 재조정 (데이터 차원 변경)\n",
    "images_height = 28\n",
    "images_width = 28\n",
    "train_x_balance = train_x_balance.reshape(train_x_balance.shape[0], images_height, images_width, 1)\n",
    "test_x_balance = test_x_balance.reshape(test_x_balance.shape[0], images_height, images_width, 1)\n",
    "\n",
    "# 클래스 수 = 47\n",
    "number_of_classes = 47\n",
    "\n",
    "# 레이블 원-핫 인코딩\n",
    "train_y_balance = tf.keras.utils.to_categorical(train_y_balance, number_of_classes)\n",
    "test_y_balance = tf.keras.utils.to_categorical(test_y_balance, number_of_classes)\n",
    "\n",
    "#VALIDATION_SPLIT = 0.15\n",
    "train_x_balance, val_x_balance, train_y_balance, val_y_balance = train_test_split(train_x_balance, train_y_balance, \n",
    "                                                                              test_size=VALIDATION_SPLIT, random_state=42)"
   ],
   "outputs": [],
   "execution_count": 5
  },
  {
   "cell_type": "code",
   "id": "5610cede",
   "metadata": {
    "ExecuteTime": {
     "end_time": "2024-06-05T10:42:07.839443Z",
     "start_time": "2024-06-05T10:42:07.826938Z"
    }
   },
   "source": [
    "from tensorflow.keras.callbacks import EarlyStopping, ReduceLROnPlateau,ModelCheckpoint\n",
    "from sklearn.model_selection import train_test_split\n",
    "from tensorflow.keras.applications import ResNet50\n",
    "from tensorflow.keras.layers import Conv2D, Input,MaxPooling2D, Dense, Flatten ,Activation ,  BatchNormalization , Dropout ,AveragePooling2D\n",
    "from tensorflow.keras.models import Model\n",
    "from functools import partial\n"
   ],
   "outputs": [],
   "execution_count": 6
  },
  {
   "metadata": {
    "ExecuteTime": {
     "end_time": "2024-06-05T10:42:08.304096Z",
     "start_time": "2024-06-05T10:42:08.288464Z"
    }
   },
   "cell_type": "code",
   "source": [
    "img_generator = tf.keras.preprocessing.image.ImageDataGenerator(\n",
    "    rotation_range=20,\n",
    "    width_shift_range=0.2,\n",
    "    height_shift_range=0.2,\n",
    ")\n",
    "\n",
    "img_generator2 = tf.keras.preprocessing.image.ImageDataGenerator(\n",
    "    rotation_range=30,\n",
    "    width_shift_range=0.1,\n",
    "    height_shift_range=0.1,\n",
    ")\n",
    "\n",
    "img_generator3 = tf.keras.preprocessing.image.ImageDataGenerator(\n",
    "    rotation_range=45,\n",
    "    width_shift_range=0.05,\n",
    "    height_shift_range=0.05,\n",
    ")"
   ],
   "id": "3fa0dbd7c28689c",
   "outputs": [],
   "execution_count": 7
  },
  {
   "metadata": {
    "ExecuteTime": {
     "end_time": "2024-06-05T10:42:37.981685Z",
     "start_time": "2024-06-05T10:42:08.789499Z"
    }
   },
   "cell_type": "code",
   "source": [
    "aug1_train_data = img_generator.flow(train_x_balance,train_y_balance, batch_size=len(train_x_balance))\n",
    "aug2_train_data = img_generator2.flow(train_x_balance,train_y_balance, batch_size=len(train_x_balance))\n",
    "aug3_train_data = img_generator3.flow(train_x_balance,train_y_balance, batch_size=len(train_x_balance))\n",
    "\n",
    "aug1_x,aug1_y = aug1_train_data.next()\n",
    "aug2_x,aug2_y = aug2_train_data.next()\n",
    "aug3_x,aug3_y = aug3_train_data.next()\n",
    "\n",
    "x_combined = np.concatenate((train_x_balance,aug1_x,aug2_x,aug3_x))\n",
    "y_combined = np.concatenate((train_y_balance,aug1_y,aug2_y,aug3_y))\n",
    "\n",
    "shuffle_index = np.random.permutation(len(x_combined))\n",
    "x_combined_shff = x_combined[shuffle_index]\n",
    "y_combined_shff = y_combined[shuffle_index]\n",
    "\n",
    "\n",
    "aug1_valid_data = img_generator.flow(val_x_balance,val_y_balance, batch_size=len(val_x_balance))\n",
    "aug2_valid_data = img_generator2.flow(val_x_balance,val_y_balance, batch_size=len(val_x_balance))\n",
    "aug3_valid_data = img_generator3.flow(val_x_balance,val_y_balance, batch_size=len(val_x_balance))\n",
    "\n",
    "aug1_val_x,aug1_val_y = aug1_valid_data.next()\n",
    "aug2_val_x,aug2_val_y = aug2_valid_data.next()\n",
    "aug3_val_x,aug3_val_y = aug3_valid_data.next()\n",
    "\n",
    "x_val_combined = np.concatenate((val_x_balance,aug1_val_x,aug2_val_x,aug3_val_x))\n",
    "y_val_combined = np.concatenate((val_y_balance,aug1_val_y,aug2_val_y,aug3_val_y))\n",
    "\n",
    "shuffle_index2 = np.random.permutation(len(x_val_combined))\n",
    "x_combined_val_shff = x_val_combined[shuffle_index2]\n",
    "y_combined_val_shff = y_val_combined[shuffle_index2]\n"
   ],
   "id": "ec331f1a1c011897",
   "outputs": [],
   "execution_count": 8
  },
  {
   "cell_type": "markdown",
   "id": "2473c059",
   "metadata": {},
   "source": "#### Training PersonalModelwith bybalanced dataset"
  },
  {
   "metadata": {
    "ExecuteTime": {
     "end_time": "2024-06-05T10:42:38.082360Z",
     "start_time": "2024-06-05T10:42:37.983449Z"
    }
   },
   "cell_type": "code",
   "source": [
    "# Define Densenet\n",
    "model = tf.keras.Sequential([\n",
    "    Conv2D(16, kernel_size=(5, 5), activation=DENSE_LAYER_ACTIVATION, input_shape=(28, 28, 1), padding='same'),\n",
    "    AveragePooling2D(),\n",
    "    # Conv2D(16, kernel_size=(3, 3), activation=DENSE_LAYER_ACTIVATION, padding='same'),\n",
    "    # BatchNormalization(),\n",
    "    # AveragePooling2D(),\n",
    "    Conv2D(32, kernel_size=(5, 5), activation=DENSE_LAYER_ACTIVATION, padding='same'),\n",
    "    BatchNormalization(),\n",
    "    AveragePooling2D(),\n",
    "    Conv2D(64, kernel_size=(5, 5), activation=DENSE_LAYER_ACTIVATION, padding='same'),\n",
    "    BatchNormalization(),\n",
    "    AveragePooling2D(),\n",
    "    Conv2D(128, kernel_size=(5, 5), activation=DENSE_LAYER_ACTIVATION, padding='same'),\n",
    "    BatchNormalization(),\n",
    "    AveragePooling2D(pool_size=(1, 1)),\n",
    "    Flatten(),\n",
    "    Dense(128, activation=DENSE_LAYER_ACTIVATION),\n",
    "    Dropout(0.5),\n",
    "    Dense(number_of_classes, activation=FINAL_LAYER_ACTIVATION)\n",
    "])\n",
    "\n",
    "#model.summary()"
   ],
   "id": "fa5ba5a9d110466f",
   "outputs": [],
   "execution_count": 9
  },
  {
   "cell_type": "code",
   "id": "1d7bbfff",
   "metadata": {
    "ExecuteTime": {
     "end_time": "2024-06-05T10:42:38.097360Z",
     "start_time": "2024-06-05T10:42:38.083361Z"
    }
   },
   "source": [
    "# 모델 컴파일\n",
    "#LOSS_FUNCTION = 'categorical_crossentropy'\n",
    "#LEARNING_RATE = 0.001\n",
    "#METRICS = ['accuracy']\n",
    "\n",
    "model.compile(optimizer=optimizer,\n",
    "            loss=LOSS_FUNCTION,\n",
    "            metrics=METRICS)\n",
    "\n",
    "# 콜백 설정\n",
    "#DECAY_FACTOR = 0.2\n",
    "#PATIENCE = 3\n",
    "#MIN_LEARNING_RATE = 0.0001\n",
    "\n",
    "callbacks_balance = [\n",
    "    ModelCheckpoint(CHECK_POINT_BALANCE, verbose=1, save_best_only=True, monitor='val_accuracy', mode='max'),\n",
    "    EarlyStopping(monitor='val_accuracy', restore_best_weights=True, patience=PATIENCE, mode='max'),\n",
    "    ReduceLROnPlateau(monitor='val_loss', patience=2, factor=DECAY_FACTOR, min_lr=MIN_LEARNING_RATE)\n",
    "]\n"
   ],
   "outputs": [],
   "execution_count": 10
  },
  {
   "cell_type": "code",
   "id": "7124dfa4",
   "metadata": {
    "ExecuteTime": {
     "end_time": "2024-06-05T10:57:52.661102Z",
     "start_time": "2024-06-05T10:42:38.099159Z"
    }
   },
   "source": [
    "start_time = time.time()  # 학습 시작 시간\n",
    "\n",
    "# 모델 학습\n",
    "history_balance = model.fit(x_combined_shff, y_combined_shff, batch_size=BATCH_SIZE, epochs=EPOCHS, \n",
    "                                validation_data=(x_combined_val_shff, y_combined_val_shff), callbacks=callbacks_balance)\n",
    "\n",
    "training_time = time.time() - start_time"
   ],
   "outputs": [
    {
     "name": "stdout",
     "output_type": "stream",
     "text": [
      "Epoch 1/100\n",
      "11985/11985 [==============================] - ETA: 0s - loss: 1.6556 - accuracy: 0.5312\n",
      "Epoch 1: val_accuracy improved from -inf to 0.72462, saving model to Best_points_densenet.h\n",
      "INFO:tensorflow:Assets written to: Best_points_densenet.h\\assets\n",
      "11985/11985 [==============================] - 59s 5ms/step - loss: 1.6556 - accuracy: 0.5312 - val_loss: 0.8830 - val_accuracy: 0.7246 - lr: 1.0000e-04\n",
      "Epoch 2/100\n",
      "11971/11985 [============================>.] - ETA: 0s - loss: 0.8763 - accuracy: 0.7240\n",
      "Epoch 2: val_accuracy improved from 0.72462 to 0.79972, saving model to Best_points_densenet.h\n",
      "INFO:tensorflow:Assets written to: Best_points_densenet.h\\assets\n",
      "11985/11985 [==============================] - 29s 2ms/step - loss: 0.8761 - accuracy: 0.7241 - val_loss: 0.5940 - val_accuracy: 0.7997 - lr: 1.0000e-04\n",
      "Epoch 3/100\n",
      "11973/11985 [============================>.] - ETA: 0s - loss: 0.6755 - accuracy: 0.7803\n",
      "Epoch 3: val_accuracy improved from 0.79972 to 0.80440, saving model to Best_points_densenet.h\n",
      "INFO:tensorflow:Assets written to: Best_points_densenet.h\\assets\n",
      "11985/11985 [==============================] - 28s 2ms/step - loss: 0.6754 - accuracy: 0.7803 - val_loss: 0.5795 - val_accuracy: 0.8044 - lr: 1.0000e-04\n",
      "Epoch 4/100\n",
      "11973/11985 [============================>.] - ETA: 0s - loss: 0.5809 - accuracy: 0.8077\n",
      "Epoch 4: val_accuracy improved from 0.80440 to 0.83883, saving model to Best_points_densenet.h\n",
      "INFO:tensorflow:Assets written to: Best_points_densenet.h\\assets\n",
      "11985/11985 [==============================] - 28s 2ms/step - loss: 0.5809 - accuracy: 0.8077 - val_loss: 0.4654 - val_accuracy: 0.8388 - lr: 1.0000e-04\n",
      "Epoch 5/100\n",
      "11985/11985 [==============================] - ETA: 0s - loss: 0.5199 - accuracy: 0.8246\n",
      "Epoch 5: val_accuracy improved from 0.83883 to 0.84699, saving model to Best_points_densenet.h\n",
      "INFO:tensorflow:Assets written to: Best_points_densenet.h\\assets\n",
      "11985/11985 [==============================] - 29s 2ms/step - loss: 0.5199 - accuracy: 0.8246 - val_loss: 0.4353 - val_accuracy: 0.8470 - lr: 1.0000e-04\n",
      "Epoch 6/100\n",
      "11964/11985 [============================>.] - ETA: 0s - loss: 0.4761 - accuracy: 0.8377\n",
      "Epoch 6: val_accuracy improved from 0.84699 to 0.85111, saving model to Best_points_densenet.h\n",
      "INFO:tensorflow:Assets written to: Best_points_densenet.h\\assets\n",
      "11985/11985 [==============================] - 28s 2ms/step - loss: 0.4762 - accuracy: 0.8377 - val_loss: 0.4188 - val_accuracy: 0.8511 - lr: 1.0000e-04\n",
      "Epoch 7/100\n",
      "11968/11985 [============================>.] - ETA: 0s - loss: 0.4455 - accuracy: 0.8467\n",
      "Epoch 7: val_accuracy improved from 0.85111 to 0.85929, saving model to Best_points_densenet.h\n",
      "INFO:tensorflow:Assets written to: Best_points_densenet.h\\assets\n",
      "11985/11985 [==============================] - 28s 2ms/step - loss: 0.4454 - accuracy: 0.8468 - val_loss: 0.3995 - val_accuracy: 0.8593 - lr: 1.0000e-04\n",
      "Epoch 8/100\n",
      "11971/11985 [============================>.] - ETA: 0s - loss: 0.4187 - accuracy: 0.8537\n",
      "Epoch 8: val_accuracy improved from 0.85929 to 0.86175, saving model to Best_points_densenet.h\n",
      "INFO:tensorflow:Assets written to: Best_points_densenet.h\\assets\n",
      "11985/11985 [==============================] - 28s 2ms/step - loss: 0.4188 - accuracy: 0.8537 - val_loss: 0.3875 - val_accuracy: 0.8617 - lr: 1.0000e-04\n",
      "Epoch 9/100\n",
      "11958/11985 [============================>.] - ETA: 0s - loss: 0.3989 - accuracy: 0.8592\n",
      "Epoch 9: val_accuracy improved from 0.86175 to 0.86383, saving model to Best_points_densenet.h\n",
      "INFO:tensorflow:Assets written to: Best_points_densenet.h\\assets\n",
      "11985/11985 [==============================] - 28s 2ms/step - loss: 0.3989 - accuracy: 0.8592 - val_loss: 0.3843 - val_accuracy: 0.8638 - lr: 1.0000e-04\n",
      "Epoch 10/100\n",
      "11968/11985 [============================>.] - ETA: 0s - loss: 0.3790 - accuracy: 0.8647\n",
      "Epoch 10: val_accuracy improved from 0.86383 to 0.86668, saving model to Best_points_densenet.h\n",
      "INFO:tensorflow:Assets written to: Best_points_densenet.h\\assets\n",
      "11985/11985 [==============================] - 27s 2ms/step - loss: 0.3790 - accuracy: 0.8647 - val_loss: 0.3773 - val_accuracy: 0.8667 - lr: 1.0000e-04\n",
      "Epoch 11/100\n",
      "11974/11985 [============================>.] - ETA: 0s - loss: 0.3647 - accuracy: 0.8690\n",
      "Epoch 11: val_accuracy improved from 0.86668 to 0.86809, saving model to Best_points_densenet.h\n",
      "INFO:tensorflow:Assets written to: Best_points_densenet.h\\assets\n",
      "11985/11985 [==============================] - 31s 3ms/step - loss: 0.3646 - accuracy: 0.8690 - val_loss: 0.3660 - val_accuracy: 0.8681 - lr: 1.0000e-04\n",
      "Epoch 12/100\n",
      "11985/11985 [==============================] - ETA: 0s - loss: 0.3507 - accuracy: 0.8724\n",
      "Epoch 12: val_accuracy did not improve from 0.86809\n",
      "11985/11985 [==============================] - 30s 3ms/step - loss: 0.3507 - accuracy: 0.8724 - val_loss: 0.3699 - val_accuracy: 0.8677 - lr: 1.0000e-04\n",
      "Epoch 13/100\n",
      "11980/11985 [============================>.] - ETA: 0s - loss: 0.3381 - accuracy: 0.8757\n",
      "Epoch 13: val_accuracy improved from 0.86809 to 0.87088, saving model to Best_points_densenet.h\n",
      "INFO:tensorflow:Assets written to: Best_points_densenet.h\\assets\n",
      "11985/11985 [==============================] - 29s 2ms/step - loss: 0.3380 - accuracy: 0.8758 - val_loss: 0.3624 - val_accuracy: 0.8709 - lr: 1.0000e-04\n",
      "Epoch 14/100\n",
      "11975/11985 [============================>.] - ETA: 0s - loss: 0.3271 - accuracy: 0.8793\n",
      "Epoch 14: val_accuracy improved from 0.87088 to 0.87222, saving model to Best_points_densenet.h\n",
      "INFO:tensorflow:Assets written to: Best_points_densenet.h\\assets\n",
      "11985/11985 [==============================] - 29s 2ms/step - loss: 0.3270 - accuracy: 0.8793 - val_loss: 0.3565 - val_accuracy: 0.8722 - lr: 1.0000e-04\n",
      "Epoch 15/100\n",
      "11980/11985 [============================>.] - ETA: 0s - loss: 0.3167 - accuracy: 0.8821\n",
      "Epoch 15: val_accuracy did not improve from 0.87222\n",
      "11985/11985 [==============================] - 29s 2ms/step - loss: 0.3167 - accuracy: 0.8821 - val_loss: 0.3645 - val_accuracy: 0.8712 - lr: 1.0000e-04\n",
      "Epoch 16/100\n",
      "11967/11985 [============================>.] - ETA: 0s - loss: 0.3084 - accuracy: 0.8847\n",
      "Epoch 16: val_accuracy did not improve from 0.87222\n",
      "11985/11985 [==============================] - 28s 2ms/step - loss: 0.3084 - accuracy: 0.8846 - val_loss: 0.3712 - val_accuracy: 0.8695 - lr: 1.0000e-04\n",
      "Epoch 17/100\n",
      "11978/11985 [============================>.] - ETA: 0s - loss: 0.2725 - accuracy: 0.8962\n",
      "Epoch 17: val_accuracy improved from 0.87222 to 0.87794, saving model to Best_points_densenet.h\n",
      "INFO:tensorflow:Assets written to: Best_points_densenet.h\\assets\n",
      "11985/11985 [==============================] - 29s 2ms/step - loss: 0.2726 - accuracy: 0.8962 - val_loss: 0.3466 - val_accuracy: 0.8779 - lr: 2.0000e-05\n",
      "Epoch 18/100\n",
      "11963/11985 [============================>.] - ETA: 0s - loss: 0.2646 - accuracy: 0.8985\n",
      "Epoch 18: val_accuracy improved from 0.87794 to 0.87847, saving model to Best_points_densenet.h\n",
      "INFO:tensorflow:Assets written to: Best_points_densenet.h\\assets\n",
      "11985/11985 [==============================] - 29s 2ms/step - loss: 0.2646 - accuracy: 0.8985 - val_loss: 0.3444 - val_accuracy: 0.8785 - lr: 2.0000e-05\n",
      "Epoch 19/100\n",
      "11983/11985 [============================>.] - ETA: 0s - loss: 0.2593 - accuracy: 0.9004\n",
      "Epoch 19: val_accuracy did not improve from 0.87847\n",
      "11985/11985 [==============================] - 28s 2ms/step - loss: 0.2593 - accuracy: 0.9004 - val_loss: 0.3475 - val_accuracy: 0.8777 - lr: 2.0000e-05\n",
      "Epoch 20/100\n",
      "11976/11985 [============================>.] - ETA: 0s - loss: 0.2563 - accuracy: 0.9011\n",
      "Epoch 20: val_accuracy improved from 0.87847 to 0.87863, saving model to Best_points_densenet.h\n",
      "INFO:tensorflow:Assets written to: Best_points_densenet.h\\assets\n",
      "11985/11985 [==============================] - 28s 2ms/step - loss: 0.2564 - accuracy: 0.9011 - val_loss: 0.3471 - val_accuracy: 0.8786 - lr: 2.0000e-05\n",
      "Epoch 21/100\n",
      "11959/11985 [============================>.] - ETA: 0s - loss: 0.2509 - accuracy: 0.9033\n",
      "Epoch 21: val_accuracy improved from 0.87863 to 0.87874, saving model to Best_points_densenet.h\n",
      "INFO:tensorflow:Assets written to: Best_points_densenet.h\\assets\n",
      "11985/11985 [==============================] - 28s 2ms/step - loss: 0.2509 - accuracy: 0.9033 - val_loss: 0.3471 - val_accuracy: 0.8787 - lr: 1.0000e-05\n",
      "Epoch 22/100\n",
      "11971/11985 [============================>.] - ETA: 0s - loss: 0.2491 - accuracy: 0.9034\n",
      "Epoch 22: val_accuracy did not improve from 0.87874\n",
      "11985/11985 [==============================] - 28s 2ms/step - loss: 0.2491 - accuracy: 0.9034 - val_loss: 0.3472 - val_accuracy: 0.8780 - lr: 1.0000e-05\n",
      "Epoch 23/100\n",
      "11957/11985 [============================>.] - ETA: 0s - loss: 0.2461 - accuracy: 0.9042\n",
      "Epoch 23: val_accuracy did not improve from 0.87874\n",
      "11985/11985 [==============================] - 29s 2ms/step - loss: 0.2461 - accuracy: 0.9043 - val_loss: 0.3480 - val_accuracy: 0.8780 - lr: 1.0000e-05\n",
      "Epoch 24/100\n",
      "11984/11985 [============================>.] - ETA: 0s - loss: 0.2462 - accuracy: 0.9042\n",
      "Epoch 24: val_accuracy did not improve from 0.87874\n",
      "11985/11985 [==============================] - 28s 2ms/step - loss: 0.2462 - accuracy: 0.9042 - val_loss: 0.3482 - val_accuracy: 0.8784 - lr: 1.0000e-05\n",
      "Epoch 25/100\n",
      "11956/11985 [============================>.] - ETA: 0s - loss: 0.2438 - accuracy: 0.9053\n",
      "Epoch 25: val_accuracy did not improve from 0.87874\n",
      "11985/11985 [==============================] - 29s 2ms/step - loss: 0.2439 - accuracy: 0.9053 - val_loss: 0.3504 - val_accuracy: 0.8782 - lr: 1.0000e-05\n",
      "Epoch 26/100\n",
      "11965/11985 [============================>.] - ETA: 0s - loss: 0.2426 - accuracy: 0.9052\n",
      "Epoch 26: val_accuracy did not improve from 0.87874\n",
      "11985/11985 [==============================] - 29s 2ms/step - loss: 0.2425 - accuracy: 0.9052 - val_loss: 0.3497 - val_accuracy: 0.8779 - lr: 1.0000e-05\n",
      "Epoch 27/100\n",
      "11960/11985 [============================>.] - ETA: 0s - loss: 0.2408 - accuracy: 0.9061\n",
      "Epoch 27: val_accuracy did not improve from 0.87874\n",
      "11985/11985 [==============================] - 28s 2ms/step - loss: 0.2409 - accuracy: 0.9061 - val_loss: 0.3512 - val_accuracy: 0.8780 - lr: 1.0000e-05\n",
      "Epoch 28/100\n",
      "11961/11985 [============================>.] - ETA: 0s - loss: 0.2400 - accuracy: 0.9062\n",
      "Epoch 28: val_accuracy did not improve from 0.87874\n",
      "11985/11985 [==============================] - 28s 2ms/step - loss: 0.2401 - accuracy: 0.9062 - val_loss: 0.3516 - val_accuracy: 0.8784 - lr: 1.0000e-05\n",
      "Epoch 29/100\n",
      "11969/11985 [============================>.] - ETA: 0s - loss: 0.2394 - accuracy: 0.9063\n",
      "Epoch 29: val_accuracy did not improve from 0.87874\n",
      "11985/11985 [==============================] - 28s 2ms/step - loss: 0.2394 - accuracy: 0.9063 - val_loss: 0.3517 - val_accuracy: 0.8784 - lr: 1.0000e-05\n",
      "Epoch 30/100\n",
      "11962/11985 [============================>.] - ETA: 0s - loss: 0.2377 - accuracy: 0.9065\n",
      "Epoch 30: val_accuracy did not improve from 0.87874\n",
      "11985/11985 [==============================] - 29s 2ms/step - loss: 0.2377 - accuracy: 0.9065 - val_loss: 0.3514 - val_accuracy: 0.8783 - lr: 1.0000e-05\n",
      "Epoch 31/100\n",
      "11960/11985 [============================>.] - ETA: 0s - loss: 0.2363 - accuracy: 0.9073\n",
      "Epoch 31: val_accuracy did not improve from 0.87874\n",
      "11985/11985 [==============================] - 28s 2ms/step - loss: 0.2363 - accuracy: 0.9073 - val_loss: 0.3532 - val_accuracy: 0.8787 - lr: 1.0000e-05\n"
     ]
    }
   ],
   "execution_count": 11
  },
  {
   "cell_type": "code",
   "id": "5aa2888c",
   "metadata": {
    "ExecuteTime": {
     "end_time": "2024-06-05T10:57:52.786215Z",
     "start_time": "2024-06-05T10:57:52.661102Z"
    }
   },
   "source": [
    "# 학습 결과 시각화\n",
    "# Train 및 Validation Accuracy 데이터\n",
    "train_accuracy = history_balance.history['accuracy']\n",
    "val_accuracy = history_balance.history['val_accuracy']\n",
    "train_loss = history_balance.history['loss']\n",
    "val_loss = history_balance.history['val_loss']\n",
    "\n",
    "# 그래프 생성\n",
    "plt.figure(figsize=(10, 6))\n",
    "\n",
    "# Train Accuracy 그래프\n",
    "plt.plot(range(1, len(train_accuracy) + 1), train_accuracy, label='Train Accuracy')\n",
    "\n",
    "# Validation Accuracy 그래프\n",
    "plt.plot(range(1, len(val_accuracy) + 1), val_accuracy, label='Validation Accuracy')\n",
    "\n",
    "plt.plot(range(1, len(train_accuracy) + 1), train_loss, label='Train Loss')\n",
    "\n",
    "plt.plot(range(1, len(train_accuracy) + 1), val_loss, label='Validation Loss')\n",
    "# 그래프 제목 및 축 레이블\n",
    "plt.title('Model Accuracy with DenseNet (Training with bybalanced)')\n",
    "plt.xlabel('Epochs')\n",
    "plt.ylabel('Accuracy')\n",
    "\n",
    "plt.ylim(0, 1)\n",
    "\n",
    "plt.yticks(np.arange(0, 1.1, 0.05))\n",
    "\n",
    "# 범례 추가\n",
    "plt.legend()\n",
    "\n",
    "# 그래프 출력\n",
    "plt.show()"
   ],
   "outputs": [
    {
     "data": {
      "text/plain": [
       "<Figure size 1000x600 with 1 Axes>"
      ],
      "image/png": "[encoded data removed]"
     },
     "metadata": {},
     "output_type": "display_data"
    }
   ],
   "execution_count": 12
  },
  {
   "cell_type": "code",
   "id": "520bbca4",
   "metadata": {
    "ExecuteTime": {
     "end_time": "2024-06-05T10:57:53.350392Z",
     "start_time": "2024-06-05T10:57:52.786215Z"
    }
   },
   "source": [
    "# Evaluate model\n",
    "start_time = time.time()  # 추론 시작 시간\n",
    "predictions = model.predict(test_x_balance)\n",
    "end_time = time.time()  # 추론 종료 시간\n",
    "total_inference_time = end_time - start_time\n",
    "average_inference_time = total_inference_time / len(test_x_balance)\n",
    "\n",
    "# 테스트 데이터에 대한 예측 결과 처리\n",
    "predicted_classes = np.argmax(predictions, axis=1)\n",
    "actual_classes = np.argmax(test_y_balance, axis=1)\n",
    "\n",
    "# 정확도 계산\n",
    "correct_predictions = np.sum(predicted_classes == actual_classes)\n",
    "accuracy = correct_predictions / len(predicted_classes)\n",
    "\n",
    "# 결과 출력\n",
    "print(f\"Correct Predictions: {correct_predictions}\")\n",
    "print(f\"Total Predictions: {len(predicted_classes)}\")\n",
    "print(f\"정확도: {accuracy:.4f}\")\n",
    "print(f\"훈련시간 : {training_time:.2f} seconds.\")\n",
    "print(f\"평균 추론 시간: {average_inference_time:.4f} seconds.\") #각 샘플에 대한 추론 시간을 개별적으로 측정함으로써, 추론에 필요한 시간을 더 정확히 파악"
   ],
   "outputs": [
    {
     "name": "stdout",
     "output_type": "stream",
     "text": [
      "Correct Predictions: 16845\n",
      "Total Predictions: 18799\n",
      "정확도: 0.8961\n",
      "훈련시간 : 914.54 seconds.\n",
      "평균 추론 시간: 0.0000 seconds.\n"
     ]
    }
   ],
   "execution_count": 13
  },
  {
   "cell_type": "markdown",
   "id": "1d3f268e",
   "metadata": {},
   "source": [
    ".\n",
    "-------------------"
   ]
  },
  {
   "metadata": {},
   "cell_type": "code",
   "outputs": [],
   "execution_count": null,
   "source": "",
   "id": "522de78e785a316a"
  }
 ],
 "metadata": {
  "kernelspec": {
   "display_name": "Python 3 (ipykernel)",
   "language": "python",
   "name": "python3"
  },
  "language_info": {
   "codemirror_mode": {
    "name": "ipython",
    "version": 3
   },
   "file_extension": ".py",
   "mimetype": "text/x-python",
   "name": "python",
   "nbconvert_exporter": "python",
   "pygments_lexer": "ipython3",
   "version": "3.7.16"
  }
 },
 "nbformat": 4,
 "nbformat_minor": 5
}
