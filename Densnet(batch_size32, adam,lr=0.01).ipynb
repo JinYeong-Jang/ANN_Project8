{
 "cells": [
  {
   "cell_type": "markdown",
   "id": "80632cca",
   "metadata": {
    "id": "o0TqkLkqHpXU"
   },
   "source": [
    "### `Basic setting`"
   ]
  },
  {
   "cell_type": "code",
   "id": "ae003839",
   "metadata": {
    "ExecuteTime": {
     "end_time": "2024-06-05T11:03:32.056367Z",
     "start_time": "2024-06-05T11:03:30.123383Z"
    }
   },
   "source": [
    "import sys\n",
    "\n",
    "assert sys.version_info >= (3, 7)\n",
    "\n",
    "from packaging import version\n",
    "import sklearn\n",
    "print(\"sklearn version: \", sklearn.__version__)\n",
    "assert version.parse(sklearn.__version__) >= version.parse(\"1.0.1\")\n",
    "\n",
    "import tensorflow as tf\n",
    "print(\"TF version: \", tf.__version__)\n",
    "assert version.parse(tf.__version__) >= version.parse(\"2.8.0\")\n",
    "\n",
    "import matplotlib.pyplot as plt\n",
    "\n",
    "# Is this notebook running on Colab or Kaggle?\n",
    "IS_COLAB = \"google.colab\" in sys.modules\n",
    "IS_KAGGLE = \"kaggle_secrets\" in sys.modules\n",
    "\n",
    "if not tf.config.list_physical_devices('GPU'):\n",
    "    print(\"No GPU was detected. Neural nets can be very slow without a GPU.\")\n",
    "    if IS_COLAB:\n",
    "        print(\"Go to Runtime > Change runtime and select a GPU hardware \"\n",
    "              \"accelerator.\")\n",
    "    if IS_KAGGLE:\n",
    "        print(\"Go to Settings > Accelerator and select GPU.\")\n",
    "\n",
    "\n",
    "# To prevent \"CUDNN_STATUS_ALLOC_FAILED\" error with GPUs\n",
    "gpus = tf.config.list_physical_devices('GPU')\n",
    "if gpus:\n",
    "  try:\n",
    "    # Currently, memory growth needs to be the same across GPUs\n",
    "    for gpu in gpus:\n",
    "      tf.config.experimental.set_memory_growth(gpu, True)\n",
    "    logical_gpus = tf.config.list_logical_devices('GPU')\n",
    "    print(len(gpus), \"Physical GPUs,\", len(logical_gpus), \"Logical GPUs\")\n",
    "  except RuntimeError as e:\n",
    "    # Memory growth must be set before GPUs have been initialized\n",
    "    print(e)"
   ],
   "outputs": [
    {
     "name": "stdout",
     "output_type": "stream",
     "text": [
      "sklearn version:  1.0.2\n",
      "TF version:  2.8.0\n",
      "1 Physical GPUs, 1 Logical GPUs\n"
     ]
    }
   ],
   "execution_count": 1
  },
  {
   "cell_type": "code",
   "id": "ebe4b6f1",
   "metadata": {
    "ExecuteTime": {
     "end_time": "2024-06-05T11:03:32.089054Z",
     "start_time": "2024-06-05T11:03:32.056367Z"
    }
   },
   "source": [
    "import os\n",
    "import time\n",
    "import numpy as np\n",
    "import pandas as pd\n",
    "import seaborn as sns\n",
    "import tensorflow as tf\n",
    "import matplotlib.pyplot as plt\n",
    "from pathlib import Path\n",
    "from sklearn.model_selection import train_test_split\n",
    "from tensorflow.keras.layers import Conv2D, AveragePooling2D, Flatten, Dense, Dropout, BatchNormalization, LeakyReLU, ReLU, ELU\n",
    "from tensorflow.keras.callbacks import EarlyStopping, ReduceLROnPlateau, ModelCheckpoint\n",
    "from tensorflow.keras.optimizers import Adam\n",
    "from tensorflow.keras.optimizers import SGD\n",
    "np.random.seed(42)\n"
   ],
   "outputs": [],
   "execution_count": 2
  },
  {
   "cell_type": "code",
   "id": "65e65b99",
   "metadata": {
    "scrolled": true,
    "ExecuteTime": {
     "end_time": "2024-06-05T11:03:32.104677Z",
     "start_time": "2024-06-05T11:03:32.089054Z"
    }
   },
   "source": [
    "# check GPU\n",
    "from tensorflow.python.client import device_lib\n",
    "device_lib.list_local_devices()"
   ],
   "outputs": [
    {
     "data": {
      "text/plain": [
       "[name: \"/device:CPU:0\"\n",
       " device_type: \"CPU\"\n",
       " memory_limit: 268435456\n",
       " locality {\n",
       " }\n",
       " incarnation: 10181913744789145743\n",
       " xla_global_id: -1,\n",
       " name: \"/device:GPU:0\"\n",
       " device_type: \"GPU\"\n",
       " memory_limit: 9879683072\n",
       " locality {\n",
       "   bus_id: 1\n",
       "   links {\n",
       "   }\n",
       " }\n",
       " incarnation: 14840343185539331089\n",
       " physical_device_desc: \"device: 0, name: NVIDIA GeForce RTX 3080 Ti, pci bus id: 0000:01:00.0, compute capability: 8.6\"\n",
       " xla_global_id: 416903419]"
      ]
     },
     "execution_count": 3,
     "metadata": {},
     "output_type": "execute_result"
    }
   ],
   "execution_count": 3
  },
  {
   "cell_type": "markdown",
   "id": "4496db74",
   "metadata": {
    "id": "bkxLQcpqG0PR"
   },
   "source": [
    "### `Load dataset (by_merge)`"
   ]
  },
  {
   "cell_type": "code",
   "id": "17f47f2c",
   "metadata": {
    "ExecuteTime": {
     "end_time": "2024-06-05T11:03:32.120301Z",
     "start_time": "2024-06-05T11:03:32.104677Z"
    }
   },
   "source": [
    "# Hyper parameter setting\n",
    "BATCH_SIZE = 32\n",
    "EPOCHS = 100\n",
    "VALIDATION_SPLIT = 0.15\n",
    "LEARNING_RATE = 0.01\n",
    "PATIENCE = 10\n",
    "MIN_LEARNING_RATE = 0.00001\n",
    "DECAY_FACTOR = 0.2\n",
    "DENSE_LAYER_ACTIVATION = 'elu'\n",
    "FINAL_LAYER_ACTIVATION = 'softmax'\n",
    "LOSS_FUNCTION = 'categorical_crossentropy'\n",
    "METRICS = ['accuracy']\n",
    "optimizer = Adam(learning_rate=LEARNING_RATE)\n",
    "\n",
    "CHECK_POINT_BALANCE = 'Best_points_densenet.h'"
   ],
   "outputs": [],
   "execution_count": 4
  },
  {
   "cell_type": "markdown",
   "id": "9daac484",
   "metadata": {
    "id": "bkxLQcpqG0PR"
   },
   "source": [
    "### `Load dataset (by_balanced)`"
   ]
  },
  {
   "cell_type": "code",
   "id": "2bc7f70a",
   "metadata": {
    "ExecuteTime": {
     "end_time": "2024-06-05T11:03:35.933251Z",
     "start_time": "2024-06-05T11:03:32.120301Z"
    }
   },
   "source": [
    "# 데이터 불러오기\n",
    "testing_set_balance = pd.read_csv('emnist-balanced-test.csv')\n",
    "training_set_balance = pd.read_csv('emnist-balanced-train.csv')\n",
    "\n",
    "\n",
    "# 훈련 데이터와 레이블 추출\n",
    "train_y_balance = np.array(training_set_balance.iloc[:, 0].values)\n",
    "train_x_balance = np.array(training_set_balance.iloc[:, 1:].values)\n",
    "\n",
    "# 테스트 데이터와 레이블 추출\n",
    "test_y_balance = np.array(testing_set_balance.iloc[:, 0].values)\n",
    "test_x_balance = np.array(testing_set_balance.iloc[:, 1:].values)\n",
    "\n",
    "# 데이터 정규화\n",
    "train_x_balance = train_x_balance / 255.0\n",
    "test_x_balance = test_x_balance / 255.0\n",
    "\n",
    "# 이미지 크기 재조정 (데이터 차원 변경)\n",
    "images_height = 28\n",
    "images_width = 28\n",
    "train_x_balance = train_x_balance.reshape(train_x_balance.shape[0], images_height, images_width, 1)\n",
    "test_x_balance = test_x_balance.reshape(test_x_balance.shape[0], images_height, images_width, 1)\n",
    "\n",
    "# 클래스 수 = 47\n",
    "number_of_classes = 47\n",
    "\n",
    "# 레이블 원-핫 인코딩\n",
    "train_y_balance = tf.keras.utils.to_categorical(train_y_balance, number_of_classes)\n",
    "test_y_balance = tf.keras.utils.to_categorical(test_y_balance, number_of_classes)\n",
    "\n",
    "#VALIDATION_SPLIT = 0.15\n",
    "train_x_balance, val_x_balance, train_y_balance, val_y_balance = train_test_split(train_x_balance, train_y_balance, \n",
    "                                                                              test_size=VALIDATION_SPLIT, random_state=42)"
   ],
   "outputs": [],
   "execution_count": 5
  },
  {
   "cell_type": "code",
   "id": "5610cede",
   "metadata": {
    "ExecuteTime": {
     "end_time": "2024-06-05T11:03:35.949198Z",
     "start_time": "2024-06-05T11:03:35.933251Z"
    }
   },
   "source": [
    "from tensorflow.keras.callbacks import EarlyStopping, ReduceLROnPlateau,ModelCheckpoint\n",
    "from sklearn.model_selection import train_test_split\n",
    "from tensorflow.keras.applications import ResNet50\n",
    "from tensorflow.keras.layers import Conv2D, Input,MaxPooling2D, Dense, Flatten ,Activation ,  BatchNormalization , Dropout ,AveragePooling2D\n",
    "from tensorflow.keras.models import Model\n",
    "from functools import partial\n"
   ],
   "outputs": [],
   "execution_count": 6
  },
  {
   "cell_type": "markdown",
   "id": "2473c059",
   "metadata": {},
   "source": "#### Training PersonalModelwith bybalanced dataset"
  },
  {
   "metadata": {
    "ExecuteTime": {
     "end_time": "2024-06-05T11:03:36.011693Z",
     "start_time": "2024-06-05T11:03:35.949198Z"
    }
   },
   "cell_type": "code",
   "source": [
    "# Define Densenet\n",
    "model = tf.keras.Sequential([\n",
    "    Conv2D(16, kernel_size=(5, 5), activation=DENSE_LAYER_ACTIVATION, input_shape=(28, 28, 1), padding='same'),\n",
    "    AveragePooling2D(),\n",
    "    # Conv2D(16, kernel_size=(3, 3), activation=DENSE_LAYER_ACTIVATION, padding='same'),\n",
    "    # BatchNormalization(),\n",
    "    # AveragePooling2D(),\n",
    "    Conv2D(32, kernel_size=(5, 5), activation=DENSE_LAYER_ACTIVATION, padding='same'),\n",
    "    BatchNormalization(),\n",
    "    AveragePooling2D(),\n",
    "    Conv2D(64, kernel_size=(5, 5), activation=DENSE_LAYER_ACTIVATION, padding='same'),\n",
    "    BatchNormalization(),\n",
    "    AveragePooling2D(),\n",
    "    Conv2D(128, kernel_size=(5, 5), activation=DENSE_LAYER_ACTIVATION, padding='same'),\n",
    "    BatchNormalization(),\n",
    "    AveragePooling2D(pool_size=(1, 1)),\n",
    "    Flatten(),\n",
    "    Dense(128, activation=DENSE_LAYER_ACTIVATION),\n",
    "    Dropout(0.5),\n",
    "    Dense(number_of_classes, activation=FINAL_LAYER_ACTIVATION)\n",
    "])\n",
    "\n",
    "#model.summary()"
   ],
   "id": "fa5ba5a9d110466f",
   "outputs": [],
   "execution_count": 7
  },
  {
   "cell_type": "code",
   "id": "1d7bbfff",
   "metadata": {
    "ExecuteTime": {
     "end_time": "2024-06-05T11:03:36.027317Z",
     "start_time": "2024-06-05T11:03:36.011693Z"
    }
   },
   "source": [
    "# 모델 컴파일\n",
    "#LOSS_FUNCTION = 'categorical_crossentropy'\n",
    "#LEARNING_RATE = 0.001\n",
    "#METRICS = ['accuracy']\n",
    "\n",
    "model.compile(optimizer=optimizer,\n",
    "            loss=LOSS_FUNCTION,\n",
    "            metrics=METRICS)\n",
    "\n",
    "# 콜백 설정\n",
    "#DECAY_FACTOR = 0.2\n",
    "#PATIENCE = 3\n",
    "#MIN_LEARNING_RATE = 0.0001\n",
    "\n",
    "callbacks_balance = [\n",
    "    ModelCheckpoint(CHECK_POINT_BALANCE, verbose=1, save_best_only=True, monitor='val_accuracy', mode='max'),\n",
    "    EarlyStopping(monitor='val_accuracy', restore_best_weights=True, patience=PATIENCE, mode='max'),\n",
    "    ReduceLROnPlateau(monitor='val_loss', patience=4, factor=DECAY_FACTOR, min_lr=MIN_LEARNING_RATE)\n",
    "]\n"
   ],
   "outputs": [],
   "execution_count": 8
  },
  {
   "cell_type": "code",
   "id": "7124dfa4",
   "metadata": {
    "ExecuteTime": {
     "end_time": "2024-06-05T11:07:52.085812Z",
     "start_time": "2024-06-05T11:03:36.027317Z"
    }
   },
   "source": [
    "start_time = time.time()  # 학습 시작 시간\n",
    "\n",
    "# 모델 학습\n",
    "history_balance = model.fit(train_x_balance, train_y_balance, batch_size=BATCH_SIZE, epochs=EPOCHS, \n",
    "                                validation_data=(val_x_balance, val_y_balance), callbacks=callbacks_balance)\n",
    "\n",
    "training_time = time.time() - start_time"
   ],
   "outputs": [
    {
     "name": "stdout",
     "output_type": "stream",
     "text": [
      "Epoch 1/100\n",
      "2997/2997 [==============================] - ETA: 0s - loss: 1.3581 - accuracy: 0.6333\n",
      "Epoch 1: val_accuracy improved from -inf to 0.80892, saving model to Best_points_densenet.h\n",
      "INFO:tensorflow:Assets written to: Best_points_densenet.h\\assets\n",
      "2997/2997 [==============================] - 10s 3ms/step - loss: 1.3581 - accuracy: 0.6333 - val_loss: 0.6252 - val_accuracy: 0.8089 - lr: 0.0100\n",
      "Epoch 2/100\n",
      "2984/2997 [============================>.] - ETA: 0s - loss: 0.7601 - accuracy: 0.7886\n",
      "Epoch 2: val_accuracy improved from 0.80892 to 0.81572, saving model to Best_points_densenet.h\n",
      "INFO:tensorflow:Assets written to: Best_points_densenet.h\\assets\n",
      "2997/2997 [==============================] - 7s 2ms/step - loss: 0.7609 - accuracy: 0.7886 - val_loss: 0.6968 - val_accuracy: 0.8157 - lr: 0.0100\n",
      "Epoch 3/100\n",
      "2971/2997 [============================>.] - ETA: 0s - loss: 0.7607 - accuracy: 0.8037\n",
      "Epoch 3: val_accuracy improved from 0.81572 to 0.84687, saving model to Best_points_densenet.h\n",
      "INFO:tensorflow:Assets written to: Best_points_densenet.h\\assets\n",
      "2997/2997 [==============================] - 7s 2ms/step - loss: 0.7601 - accuracy: 0.8038 - val_loss: 0.5451 - val_accuracy: 0.8469 - lr: 0.0100\n",
      "Epoch 4/100\n",
      "2979/2997 [============================>.] - ETA: 0s - loss: 0.7530 - accuracy: 0.8121\n",
      "Epoch 4: val_accuracy did not improve from 0.84687\n",
      "2997/2997 [==============================] - 7s 2ms/step - loss: 0.7532 - accuracy: 0.8121 - val_loss: 0.6071 - val_accuracy: 0.8370 - lr: 0.0100\n",
      "Epoch 5/100\n",
      "2987/2997 [============================>.] - ETA: 0s - loss: 0.7443 - accuracy: 0.8188\n",
      "Epoch 5: val_accuracy improved from 0.84687 to 0.84982, saving model to Best_points_densenet.h\n",
      "INFO:tensorflow:Assets written to: Best_points_densenet.h\\assets\n",
      "2997/2997 [==============================] - 7s 2ms/step - loss: 0.7448 - accuracy: 0.8188 - val_loss: 0.6654 - val_accuracy: 0.8498 - lr: 0.0100\n",
      "Epoch 6/100\n",
      "2990/2997 [============================>.] - ETA: 0s - loss: 0.7461 - accuracy: 0.8254\n",
      "Epoch 6: val_accuracy did not improve from 0.84982\n",
      "2997/2997 [==============================] - 7s 2ms/step - loss: 0.7461 - accuracy: 0.8253 - val_loss: 0.6365 - val_accuracy: 0.8301 - lr: 0.0100\n",
      "Epoch 7/100\n",
      "2978/2997 [============================>.] - ETA: 0s - loss: 0.7550 - accuracy: 0.8239\n",
      "Epoch 7: val_accuracy improved from 0.84982 to 0.85822, saving model to Best_points_densenet.h\n",
      "INFO:tensorflow:Assets written to: Best_points_densenet.h\\assets\n",
      "2997/2997 [==============================] - 7s 2ms/step - loss: 0.7545 - accuracy: 0.8239 - val_loss: 0.7625 - val_accuracy: 0.8582 - lr: 0.0100\n",
      "Epoch 8/100\n",
      "2976/2997 [============================>.] - ETA: 0s - loss: 0.3764 - accuracy: 0.8775\n",
      "Epoch 8: val_accuracy improved from 0.85822 to 0.88257, saving model to Best_points_densenet.h\n",
      "INFO:tensorflow:Assets written to: Best_points_densenet.h\\assets\n",
      "2997/2997 [==============================] - 8s 3ms/step - loss: 0.3757 - accuracy: 0.8776 - val_loss: 0.3848 - val_accuracy: 0.8826 - lr: 0.0020\n",
      "Epoch 9/100\n",
      "2993/2997 [============================>.] - ETA: 0s - loss: 0.3209 - accuracy: 0.8860\n",
      "Epoch 9: val_accuracy improved from 0.88257 to 0.88836, saving model to Best_points_densenet.h\n",
      "INFO:tensorflow:Assets written to: Best_points_densenet.h\\assets\n",
      "2997/2997 [==============================] - 7s 2ms/step - loss: 0.3210 - accuracy: 0.8860 - val_loss: 0.3934 - val_accuracy: 0.8884 - lr: 0.0020\n",
      "Epoch 10/100\n",
      "2975/2997 [============================>.] - ETA: 0s - loss: 0.3009 - accuracy: 0.8921\n",
      "Epoch 10: val_accuracy did not improve from 0.88836\n",
      "2997/2997 [==============================] - 7s 2ms/step - loss: 0.3008 - accuracy: 0.8921 - val_loss: 0.3430 - val_accuracy: 0.8843 - lr: 0.0020\n",
      "Epoch 11/100\n",
      "2991/2997 [============================>.] - ETA: 0s - loss: 0.2877 - accuracy: 0.8952\n",
      "Epoch 11: val_accuracy did not improve from 0.88836\n",
      "2997/2997 [==============================] - 7s 2ms/step - loss: 0.2875 - accuracy: 0.8953 - val_loss: 0.3516 - val_accuracy: 0.8880 - lr: 0.0020\n",
      "Epoch 12/100\n",
      "2982/2997 [============================>.] - ETA: 0s - loss: 0.2767 - accuracy: 0.8976\n",
      "Epoch 12: val_accuracy improved from 0.88836 to 0.88848, saving model to Best_points_densenet.h\n",
      "INFO:tensorflow:Assets written to: Best_points_densenet.h\\assets\n",
      "2997/2997 [==============================] - 7s 2ms/step - loss: 0.2768 - accuracy: 0.8976 - val_loss: 0.3376 - val_accuracy: 0.8885 - lr: 0.0020\n",
      "Epoch 13/100\n",
      "2972/2997 [============================>.] - ETA: 0s - loss: 0.2672 - accuracy: 0.9011\n",
      "Epoch 13: val_accuracy did not improve from 0.88848\n",
      "2997/2997 [==============================] - 7s 2ms/step - loss: 0.2673 - accuracy: 0.9011 - val_loss: 0.3346 - val_accuracy: 0.8836 - lr: 0.0020\n",
      "Epoch 14/100\n",
      "2972/2997 [============================>.] - ETA: 0s - loss: 0.2594 - accuracy: 0.9015\n",
      "Epoch 14: val_accuracy improved from 0.88848 to 0.88913, saving model to Best_points_densenet.h\n",
      "INFO:tensorflow:Assets written to: Best_points_densenet.h\\assets\n",
      "2997/2997 [==============================] - 8s 3ms/step - loss: 0.2593 - accuracy: 0.9016 - val_loss: 0.4072 - val_accuracy: 0.8891 - lr: 0.0020\n",
      "Epoch 15/100\n",
      "2969/2997 [============================>.] - ETA: 0s - loss: 0.2528 - accuracy: 0.9043\n",
      "Epoch 15: val_accuracy improved from 0.88913 to 0.89060, saving model to Best_points_densenet.h\n",
      "INFO:tensorflow:Assets written to: Best_points_densenet.h\\assets\n",
      "2997/2997 [==============================] - 7s 2ms/step - loss: 0.2530 - accuracy: 0.9042 - val_loss: 0.3713 - val_accuracy: 0.8906 - lr: 0.0020\n",
      "Epoch 16/100\n",
      "2981/2997 [============================>.] - ETA: 0s - loss: 0.2447 - accuracy: 0.9066\n",
      "Epoch 16: val_accuracy improved from 0.89060 to 0.89096, saving model to Best_points_densenet.h\n",
      "INFO:tensorflow:Assets written to: Best_points_densenet.h\\assets\n",
      "2997/2997 [==============================] - 7s 2ms/step - loss: 0.2446 - accuracy: 0.9066 - val_loss: 0.3930 - val_accuracy: 0.8910 - lr: 0.0020\n",
      "Epoch 17/100\n",
      "2971/2997 [============================>.] - ETA: 0s - loss: 0.2372 - accuracy: 0.9088\n",
      "Epoch 17: val_accuracy did not improve from 0.89096\n",
      "2997/2997 [==============================] - 7s 2ms/step - loss: 0.2370 - accuracy: 0.9088 - val_loss: 0.3456 - val_accuracy: 0.8910 - lr: 0.0020\n",
      "Epoch 18/100\n",
      "2983/2997 [============================>.] - ETA: 0s - loss: 0.2025 - accuracy: 0.9207\n",
      "Epoch 18: val_accuracy improved from 0.89096 to 0.89214, saving model to Best_points_densenet.h\n",
      "INFO:tensorflow:Assets written to: Best_points_densenet.h\\assets\n",
      "2997/2997 [==============================] - 7s 2ms/step - loss: 0.2028 - accuracy: 0.9205 - val_loss: 0.3491 - val_accuracy: 0.8921 - lr: 4.0000e-04\n",
      "Epoch 19/100\n",
      "2983/2997 [============================>.] - ETA: 0s - loss: 0.1952 - accuracy: 0.9239\n",
      "Epoch 19: val_accuracy did not improve from 0.89214\n",
      "2997/2997 [==============================] - 7s 2ms/step - loss: 0.1951 - accuracy: 0.9239 - val_loss: 0.3606 - val_accuracy: 0.8921 - lr: 4.0000e-04\n",
      "Epoch 20/100\n",
      "2994/2997 [============================>.] - ETA: 0s - loss: 0.1919 - accuracy: 0.9236\n",
      "Epoch 20: val_accuracy did not improve from 0.89214\n",
      "2997/2997 [==============================] - 7s 2ms/step - loss: 0.1918 - accuracy: 0.9236 - val_loss: 0.3506 - val_accuracy: 0.8915 - lr: 4.0000e-04\n",
      "Epoch 21/100\n",
      "2972/2997 [============================>.] - ETA: 0s - loss: 0.1886 - accuracy: 0.9250\n",
      "Epoch 21: val_accuracy did not improve from 0.89214\n",
      "2997/2997 [==============================] - 7s 2ms/step - loss: 0.1890 - accuracy: 0.9249 - val_loss: 0.3470 - val_accuracy: 0.8903 - lr: 4.0000e-04\n",
      "Epoch 22/100\n",
      "2981/2997 [============================>.] - ETA: 0s - loss: 0.1799 - accuracy: 0.9276\n",
      "Epoch 22: val_accuracy did not improve from 0.89214\n",
      "2997/2997 [==============================] - 7s 2ms/step - loss: 0.1799 - accuracy: 0.9276 - val_loss: 0.3525 - val_accuracy: 0.8912 - lr: 8.0000e-05\n",
      "Epoch 23/100\n",
      "2974/2997 [============================>.] - ETA: 0s - loss: 0.1798 - accuracy: 0.9287\n",
      "Epoch 23: val_accuracy improved from 0.89214 to 0.89226, saving model to Best_points_densenet.h\n",
      "INFO:tensorflow:Assets written to: Best_points_densenet.h\\assets\n",
      "2997/2997 [==============================] - 7s 2ms/step - loss: 0.1799 - accuracy: 0.9286 - val_loss: 0.3575 - val_accuracy: 0.8923 - lr: 8.0000e-05\n",
      "Epoch 24/100\n",
      "2993/2997 [============================>.] - ETA: 0s - loss: 0.1781 - accuracy: 0.9293\n",
      "Epoch 24: val_accuracy did not improve from 0.89226\n",
      "2997/2997 [==============================] - 7s 2ms/step - loss: 0.1781 - accuracy: 0.9293 - val_loss: 0.3567 - val_accuracy: 0.8915 - lr: 8.0000e-05\n",
      "Epoch 25/100\n",
      "2991/2997 [============================>.] - ETA: 0s - loss: 0.1763 - accuracy: 0.9297\n",
      "Epoch 25: val_accuracy improved from 0.89226 to 0.89232, saving model to Best_points_densenet.h\n",
      "INFO:tensorflow:Assets written to: Best_points_densenet.h\\assets\n",
      "2997/2997 [==============================] - 8s 3ms/step - loss: 0.1763 - accuracy: 0.9297 - val_loss: 0.3557 - val_accuracy: 0.8923 - lr: 8.0000e-05\n",
      "Epoch 26/100\n",
      "2973/2997 [============================>.] - ETA: 0s - loss: 0.1765 - accuracy: 0.9299\n",
      "Epoch 26: val_accuracy improved from 0.89232 to 0.89238, saving model to Best_points_densenet.h\n",
      "INFO:tensorflow:Assets written to: Best_points_densenet.h\\assets\n",
      "2997/2997 [==============================] - 8s 3ms/step - loss: 0.1765 - accuracy: 0.9299 - val_loss: 0.3565 - val_accuracy: 0.8924 - lr: 1.6000e-05\n",
      "Epoch 27/100\n",
      "2970/2997 [============================>.] - ETA: 0s - loss: 0.1763 - accuracy: 0.9293\n",
      "Epoch 27: val_accuracy did not improve from 0.89238\n",
      "2997/2997 [==============================] - 7s 2ms/step - loss: 0.1762 - accuracy: 0.9294 - val_loss: 0.3615 - val_accuracy: 0.8918 - lr: 1.6000e-05\n",
      "Epoch 28/100\n",
      "2972/2997 [============================>.] - ETA: 0s - loss: 0.1752 - accuracy: 0.9297\n",
      "Epoch 28: val_accuracy did not improve from 0.89238\n",
      "2997/2997 [==============================] - 7s 2ms/step - loss: 0.1752 - accuracy: 0.9297 - val_loss: 0.3579 - val_accuracy: 0.8922 - lr: 1.6000e-05\n",
      "Epoch 29/100\n",
      "2974/2997 [============================>.] - ETA: 0s - loss: 0.1754 - accuracy: 0.9297\n",
      "Epoch 29: val_accuracy did not improve from 0.89238\n",
      "2997/2997 [==============================] - 7s 2ms/step - loss: 0.1753 - accuracy: 0.9298 - val_loss: 0.3573 - val_accuracy: 0.8920 - lr: 1.6000e-05\n",
      "Epoch 30/100\n",
      "2981/2997 [============================>.] - ETA: 0s - loss: 0.1754 - accuracy: 0.9302\n",
      "Epoch 30: val_accuracy did not improve from 0.89238\n",
      "2997/2997 [==============================] - 7s 2ms/step - loss: 0.1755 - accuracy: 0.9302 - val_loss: 0.3574 - val_accuracy: 0.8915 - lr: 1.0000e-05\n",
      "Epoch 31/100\n",
      "2987/2997 [============================>.] - ETA: 0s - loss: 0.1750 - accuracy: 0.9300\n",
      "Epoch 31: val_accuracy did not improve from 0.89238\n",
      "2997/2997 [==============================] - 7s 2ms/step - loss: 0.1750 - accuracy: 0.9300 - val_loss: 0.3578 - val_accuracy: 0.8918 - lr: 1.0000e-05\n",
      "Epoch 32/100\n",
      "2980/2997 [============================>.] - ETA: 0s - loss: 0.1755 - accuracy: 0.9298\n",
      "Epoch 32: val_accuracy did not improve from 0.89238\n",
      "2997/2997 [==============================] - 7s 2ms/step - loss: 0.1756 - accuracy: 0.9298 - val_loss: 0.3603 - val_accuracy: 0.8917 - lr: 1.0000e-05\n",
      "Epoch 33/100\n",
      "2986/2997 [============================>.] - ETA: 0s - loss: 0.1757 - accuracy: 0.9301\n",
      "Epoch 33: val_accuracy did not improve from 0.89238\n",
      "2997/2997 [==============================] - 7s 2ms/step - loss: 0.1756 - accuracy: 0.9301 - val_loss: 0.3573 - val_accuracy: 0.8920 - lr: 1.0000e-05\n",
      "Epoch 34/100\n",
      "2987/2997 [============================>.] - ETA: 0s - loss: 0.1732 - accuracy: 0.9301\n",
      "Epoch 34: val_accuracy did not improve from 0.89238\n",
      "2997/2997 [==============================] - 7s 2ms/step - loss: 0.1732 - accuracy: 0.9300 - val_loss: 0.3595 - val_accuracy: 0.8920 - lr: 1.0000e-05\n",
      "Epoch 35/100\n",
      "2982/2997 [============================>.] - ETA: 0s - loss: 0.1750 - accuracy: 0.9300\n",
      "Epoch 35: val_accuracy did not improve from 0.89238\n",
      "2997/2997 [==============================] - 7s 2ms/step - loss: 0.1750 - accuracy: 0.9300 - val_loss: 0.3609 - val_accuracy: 0.8919 - lr: 1.0000e-05\n",
      "Epoch 36/100\n",
      "2972/2997 [============================>.] - ETA: 0s - loss: 0.1753 - accuracy: 0.9296\n",
      "Epoch 36: val_accuracy did not improve from 0.89238\n",
      "2997/2997 [==============================] - 7s 2ms/step - loss: 0.1754 - accuracy: 0.9296 - val_loss: 0.3575 - val_accuracy: 0.8916 - lr: 1.0000e-05\n"
     ]
    }
   ],
   "execution_count": 9
  },
  {
   "cell_type": "code",
   "id": "5aa2888c",
   "metadata": {
    "ExecuteTime": {
     "end_time": "2024-06-05T11:07:52.211304Z",
     "start_time": "2024-06-05T11:07:52.085812Z"
    }
   },
   "source": [
    "# 학습 결과 시각화\n",
    "# Train 및 Validation Accuracy 데이터\n",
    "train_accuracy = history_balance.history['accuracy']\n",
    "val_accuracy = history_balance.history['val_accuracy']\n",
    "train_loss = history_balance.history['loss']\n",
    "val_loss = history_balance.history['val_loss']\n",
    "\n",
    "# 그래프 생성\n",
    "plt.figure(figsize=(10, 6))\n",
    "\n",
    "# Train Accuracy 그래프\n",
    "plt.plot(range(1, len(train_accuracy) + 1), train_accuracy, label='Train Accuracy')\n",
    "\n",
    "# Validation Accuracy 그래프\n",
    "plt.plot(range(1, len(val_accuracy) + 1), val_accuracy, label='Validation Accuracy')\n",
    "\n",
    "plt.plot(range(1, len(train_accuracy) + 1), train_loss, label='Train Loss')\n",
    "\n",
    "plt.plot(range(1, len(train_accuracy) + 1), val_loss, label='Validation Loss')\n",
    "# 그래프 제목 및 축 레이블\n",
    "plt.title('Model Accuracy with ResNet-34 (Training with bybalanced)')\n",
    "plt.xlabel('Epochs')\n",
    "plt.ylabel('Accuracy')\n",
    "\n",
    "plt.ylim(0, 1)\n",
    "\n",
    "plt.yticks(np.arange(0, 1.1, 0.05))\n",
    "\n",
    "# 범례 추가\n",
    "plt.legend()\n",
    "\n",
    "# 그래프 출력\n",
    "plt.show()"
   ],
   "outputs": [
    {
     "data": {
      "text/plain": [
       "<Figure size 1000x600 with 1 Axes>"
      ],
      "image/png": "[encoded data removed]"
     },
     "metadata": {},
     "output_type": "display_data"
    }
   ],
   "execution_count": 10
  },
  {
   "cell_type": "code",
   "id": "520bbca4",
   "metadata": {
    "ExecuteTime": {
     "end_time": "2024-06-05T11:07:52.819870Z",
     "start_time": "2024-06-05T11:07:52.211304Z"
    }
   },
   "source": [
    "# Evaluate model\n",
    "start_time = time.time()  # 추론 시작 시간\n",
    "predictions = model.predict(test_x_balance)\n",
    "end_time = time.time()  # 추론 종료 시간\n",
    "total_inference_time = end_time - start_time\n",
    "average_inference_time = total_inference_time / len(test_x_balance)\n",
    "\n",
    "# 테스트 데이터에 대한 예측 결과 처리\n",
    "predicted_classes = np.argmax(predictions, axis=1)\n",
    "actual_classes = np.argmax(test_y_balance, axis=1)\n",
    "\n",
    "# 정확도 계산\n",
    "correct_predictions = np.sum(predicted_classes == actual_classes)\n",
    "accuracy = correct_predictions / len(predicted_classes)\n",
    "\n",
    "# 결과 출력\n",
    "print(f\"Correct Predictions: {correct_predictions}\")\n",
    "print(f\"Total Predictions: {len(predicted_classes)}\")\n",
    "print(f\"정확도: {accuracy:.4f}\")\n",
    "print(f\"훈련시간 : {training_time:.2f} seconds.\")\n",
    "print(f\"평균 추론 시간: {average_inference_time:.4f} seconds.\") #각 샘플에 대한 추론 시간을 개별적으로 측정함으로써, 추론에 필요한 시간을 더 정확히 파악"
   ],
   "outputs": [
    {
     "name": "stdout",
     "output_type": "stream",
     "text": [
      "Correct Predictions: 16762\n",
      "Total Predictions: 18799\n",
      "정확도: 0.8916\n",
      "훈련시간 : 256.04 seconds.\n",
      "평균 추론 시간: 0.0000 seconds.\n"
     ]
    }
   ],
   "execution_count": 11
  },
  {
   "cell_type": "markdown",
   "id": "1d3f268e",
   "metadata": {},
   "source": [
    "\n",
    "-------------------"
   ]
  }
 ],
 "metadata": {
  "kernelspec": {
   "display_name": "Python 3 (ipykernel)",
   "language": "python",
   "name": "python3"
  },
  "language_info": {
   "codemirror_mode": {
    "name": "ipython",
    "version": 3
   },
   "file_extension": ".py",
   "mimetype": "text/x-python",
   "name": "python",
   "nbconvert_exporter": "python",
   "pygments_lexer": "ipython3",
   "version": "3.7.16"
  }
 },
 "nbformat": 4,
 "nbformat_minor": 5
}
